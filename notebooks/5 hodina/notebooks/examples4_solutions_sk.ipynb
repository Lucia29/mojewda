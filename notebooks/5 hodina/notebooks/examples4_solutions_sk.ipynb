{
 "cells": [
  {
   "cell_type": "markdown",
   "metadata": {},
   "source": [
    "### Úloha 4.4\n",
    "\n",
    "Naprogramujte funkciu `prehod_zoznam(zoznam)`, ktorá prehodí poradie prvkov zoznamu `zoznam`."
   ]
  },
  {
   "cell_type": "code",
   "execution_count": 2,
   "metadata": {},
   "outputs": [
    {
     "data": {
      "text/plain": [
       "[-2, 10, 2, 8, 6, 1]"
      ]
     },
     "execution_count": 2,
     "metadata": {},
     "output_type": "execute_result"
    }
   ],
   "source": [
    "cisla = [1, 6, 8, 2, 10, -2]\n",
    "# očakávaný výstup prehod_zoznam(cisla) = [-2, 10, 2, 8, 6, 1]\n",
    "\n",
    "def prehod_zoznam(zoznam):\n",
    "    # najjednoduchšie je vytvoriť si nový zoznam, do ktorého pridáme prvky v opačnom poradí\n",
    "    naopak = []\n",
    "    # vygenerujeme si postupnosť indexov [dĺžka zoznamu -1, dĺžka zoznamu -2, ..., 0]\n",
    "    # parametre funkcie range(od (vrátane), do (bez), krok)\n",
    "    for i in range(len(zoznam) - 1, -1, -1):\n",
    "        naopak.append(zoznam[i]) # postupne pridáme do výsledku prvky od konca\n",
    "    # zmeníme pôvodný zoznam s prehodenými hodnotami\n",
    "    zoznam[:] = naopak\n",
    "\n",
    "# iné riešenie, kde sa mení priamo zoznam `l`\n",
    "def prehod_zoznam2(zoznam):\n",
    "    # pre prehodenie prvkov musíme prvý vymeniť s posledným, druhý s predposledným, atď.\n",
    "    # tzn. všeobecne musí platiť, že prvok na i-tej pozicii sa nahradí za prvok s indexom -(i + 1), pretože\n",
    "    # záporné indexy sa počítajú od konca od 1, nie od 0 (tzn. -1 je posledný prvok, -2 predposledný, atd.)\n",
    "    \n",
    "    # v cykle prejdeme len polovicu zoznamu, operátor // znamená celé delenie, tzn. napr. 13 // 2 = 6\n",
    "    for i in range(len(zoznam) // 2):\n",
    "        # vymeníme i-ty prvok a -(i + 1) prvok\n",
    "        prvok = zoznam[i]         # uložíme si i-ty prvok do pomocnej premennej\n",
    "        zoznam[i] = zoznam[-(i + 1)] # i-ty prvok prepíšeme -(i + 1) prvkom od konca zoznamu \n",
    "        zoznam[-(i + 1)] = prvok  # a -(i + 1) prvok na konci zoznamu nastavíme na predchádzajúcu hodnotu i-teho prvku\n",
    "\n",
    "prehod_zoznam(cisla)\n",
    "cisla"
   ]
  },
  {
   "cell_type": "markdown",
   "metadata": {},
   "source": [
    "### Úloha 4.5\n",
    "\n",
    "Naprogramujte funkciu `na_stupne_celzia(teplota)`, ktorá prevedie stupne Fahrenheita na stupne Celzia podľa vzťahu `c/5 = (f-32)/9` (kde `c` sú stupne Celzia a `f` stupne Fahrenheita)."
   ]
  },
  {
   "cell_type": "code",
   "execution_count": 4,
   "metadata": {},
   "outputs": [
    {
     "data": {
      "text/plain": [
       "232.7777777777778"
      ]
     },
     "execution_count": 4,
     "metadata": {},
     "output_type": "execute_result"
    }
   ],
   "source": [
    "teplota = 32 # očakávaný výstup = 0\n",
    "\n",
    "# teplota = 45 # očakávaný výstup = 7.222...\n",
    "\n",
    "# teplota = 451 # očakávaný výstup = 232.777...\n",
    "\n",
    "def na_stupne_celzia(teplota):\n",
    "    c = (teplota - 32) * (5/9)\n",
    "    return c\n",
    "\n",
    "na_stupne_celzia(451)"
   ]
  },
  {
   "cell_type": "markdown",
   "metadata": {},
   "source": [
    "### Úloha 4.6\n",
    "\n",
    "Naprogramujte funkciu `je_palindrom(s)`, ktorá vráti `True` ak je reťazec `s` palindróm, tzn. číta sa rovnako z predu aj zo zadu (inak vráti `False`)."
   ]
  },
  {
   "cell_type": "code",
   "execution_count": 5,
   "metadata": {},
   "outputs": [
    {
     "data": {
      "text/plain": [
       "True"
      ]
     },
     "execution_count": 5,
     "metadata": {},
     "output_type": "execute_result"
    }
   ],
   "source": [
    "s = \"hannah\"  # očakávaný výstup = True\n",
    "s = \"peter\"   # očakávaný výstup = False\n",
    "s = \"anna\"    # očakávaný výstup = True\n",
    "s = \"saippuakivikauppias\" # očakávaný výstup = True\n",
    "\n",
    "# môžeme postupovať podobne ako pri prehodení poradia prvkov, stačí prejsť polovicu zoznamu a porovnať, či\n",
    "# sa prvý prvok rovná s posledným, druhý s predposledným, atď.\n",
    "def je_palindrom(s):\n",
    "    for i in range(len(s) // 2): # prejdeme iba polovicu zoznamu\n",
    "        if s[i] != s[-(i + 1)]:  # porovnáme i-ty prvok od začiatky a konca\n",
    "            return False         # ak sa nerovnajú, tak to nemôže byť palindróm a skončíme s False\n",
    "    return True                  # ak dôjdeme do konca zoznamu a rovnali sa správne všetky prvky, vrátime True\n",
    "\n",
    "je_palindrom(s)"
   ]
  },
  {
   "cell_type": "markdown",
   "metadata": {},
   "source": [
    "### Úloha 4.7\n",
    "Napíšte funkciu `rozdel_zoznam(zoznam, riadky, stlpce)`, ktorá rozdelí zoznam hodnôt `zoznam` do tabuľky s požadovaným počtom riadkov a stĺpcov. Ak je hodnôt v zozname menej než `riadky x stlpce`, chýbajúce hodnoty doplní `None`."
   ]
  },
  {
   "cell_type": "code",
   "execution_count": 8,
   "metadata": {},
   "outputs": [
    {
     "data": {
      "text/plain": [
       "[[1, 6], [8, 2], [10, -2], [8, None]]"
      ]
     },
     "execution_count": 8,
     "metadata": {},
     "output_type": "execute_result"
    }
   ],
   "source": [
    "cisla = [1, 6, 8, 2, 10, -2, 8]\n",
    "\n",
    "# očakávaný výstup rozdel_zoznam(cisla, 4, 2) = [[1, 2], [8, 2], [10, -2], [8, None]]\n",
    "\n",
    "def rozdel_zoznam(zoznam, riadky, stlpce):\n",
    "    tabulka = [] # vytvoríme si premennu pre výsledný zoznam\n",
    "    index = 0   # premennu `index` budeme používať na indexovanie v zdrojovom zozname `l`\n",
    "    \n",
    "    # vytvoríme vnorené cykly pre počet riadkov a počet stĺpcov\n",
    "    for i in range(riadky):\n",
    "        riadok = [] # vytvoríme nový zoznam pre ďalší riadok\n",
    "        for j in range(stlpce):\n",
    "            # do riadku postupne pridáme prvok zo zoznamu, ak už sme pridali všetky prvky a sme na konci zoznamu\n",
    "            # (index == len(zoznam)) do výsledku pridáme None hodnotu\n",
    "            hodnota = zoznam[index] if index < len(zoznam) else None\n",
    "            riadok.append(hodnota)\n",
    "            index += 1  # index v `zoznam` musíme posunúť na ďalší prvok\n",
    "        tabulka.append(riadok)\n",
    "    \n",
    "    # všimnite si, že táto funkcia nemení pôvodný zoznam, ale vráti nový\n",
    "    return tabulka\n",
    "\n",
    "tabulka = rozdel_zoznam(cisla, 4, 2)\n",
    "tabulka"
   ]
  },
  {
   "cell_type": "markdown",
   "metadata": {},
   "source": [
    "### Úloha 4.8\n",
    "\n",
    "Napíšte funkciu `skontroluj_heslo(s)`, ktorá skontroluje platnosť používateľského hesla. Heslo bude platné ak:\n",
    "* má dĺžku viac než 8 znakov\n",
    "* obsahuje aspoň jedno veľké písmeno\n",
    "* obsahuje aspoň jedno číslo\n",
    "* obsahuje aspoň jeden špeciálny znak `@#$`"
   ]
  },
  {
   "cell_type": "code",
   "execution_count": 9,
   "metadata": {},
   "outputs": [
    {
     "data": {
      "text/plain": [
       "False"
      ]
     },
     "execution_count": 9,
     "metadata": {},
     "output_type": "execute_result"
    }
   ],
   "source": [
    "s = \"Secret123\"  # očakávaný výstup = False\n",
    "#s = \"#Secret123\" # očakávaný výstup = True\n",
    "\n",
    "# budeme potrebovať otestovať, či reťazec obsahuje znak zo zadanej množiny znakov\n",
    "# pre testovanie si napíšeme pomocnú funkciu, ktorá skontroluje či reťazec obsahuje aspoň jeden znak z danej množiny\n",
    "def ma_znak(s, znaky):\n",
    "    for znak in s:         # prechádzame znaky z reťazca \n",
    "        if znak in znaky:  # ak nájdeme znak zo zadanej množiny, vrátime True\n",
    "            return True  \n",
    "    return False           # prešli sme všetky znaky a nenašli sme ani jeden z `chars`, vrátime False\n",
    "\n",
    "def skontroluj_heslo(s):\n",
    "    # vytvoríme si pomocné zoznamy pre čísla, písmená a špeciálne znaky\n",
    "    pismena = [\"A\", \"B\", \"C\", \"D\", \"E\", \"F\", \"G\", \"H\", \"I\", \"J\", \"K\", \"L\", \"M\", \"N\", \"O\", \"P\", \"Q\", \"R\", \"S\", \"T\", \"U\", \"V\", \"W\", \"X\", \"Y\"]\n",
    "    cisla = [\"0\", \"1\", \"2\", \"3\", \"4\", \"5\", \"6\", \"7\", \"8\", \"9\"]\n",
    "    specialne = [\"@\", \"#\", \"$\"]\n",
    "    # otestujeme podmienku pre heslo\n",
    "    return len(s) > 8 and ma_znak(s, pismena) and ma_znak(s, cisla) and ma_znak(s, specialne)\n",
    "    \n",
    "skontroluj_heslo(s)"
   ]
  },
  {
   "cell_type": "markdown",
   "metadata": {},
   "source": [
    "### Úloha 4.9\n",
    "\n",
    "Napíšte funkciu `pocet_dni(mesiac)`, ktorá pre zadaný mesiac v roku vráti počet dní (neuvažujte prestupné roky). Mesiac môže byť zadaný úplným názvom (napr. `január`), alebo trojpísmenovou skratkou (`jan.`). "
   ]
  },
  {
   "cell_type": "code",
   "execution_count": 12,
   "metadata": {},
   "outputs": [
    {
     "name": "stdout",
     "output_type": "stream",
     "text": [
      "28\n"
     ]
    }
   ],
   "source": [
    "# pre riešenie môžeme využiť napr. funkciu, ktorá vráti index výskytu prvku v zozname\n",
    "def najdi_hodnotu(zoznam, hodnota):\n",
    "    for i, prvok in enumerate(zoznam):\n",
    "        if prvok == hodnota:\n",
    "            # našli sme požadovanú hodnotu, priamo ukončíme funkciu a vrátime index hodnoty\n",
    "            return i\n",
    "    return -1 # prešli sme všetky prvky do konca, ale hodnotu sme nenašli, takže vrátime -1\n",
    "\n",
    "def pocet_dni(mesiac):    # vytvoríme si pomocné premenné s názvami, skratkami a počtom dní\n",
    "    mesiace = [\"január\", \"február\", \"marec\", \"apríl\", \"máj\", \"jún\", \"júl\", \"august\", \"september\", \"október\", \"november\", \"december\"]\n",
    "    skratky = [\"jan\", \"feb\", \"mar\", \"apr\", \"máj\", \"jún\", \"júl\", \"aug\", \"sep\", \"okt\", \"nov\", \"dec\"]\n",
    "    pocty_dni = [31, 28, 31, 30, 31, 30, 31, 31, 30, 31, 30, 31]\n",
    "    \n",
    "    index = najdi_hodnotu(mesiace, mesiace)\n",
    "    if index >= 0:\n",
    "        return pocty_dni[index] # našli sme dlhý názov\n",
    "    \n",
    "    index = najdi_hodnotu(skratky, mesiac.replace(\".\", \"\")) # zo skratky odstránime `.`\n",
    "    if index >= 0:\n",
    "        return pocty_dni[index] # našli sme skratku\n",
    "    \n",
    "    # neznámy názov, vrátime None\n",
    "    return None\n",
    "\n",
    "print(pocet_dni(\"feb.\"))"
   ]
  },
  {
   "cell_type": "code",
   "execution_count": null,
   "metadata": {},
   "outputs": [],
   "source": []
  }
 ],
 "metadata": {
  "kernelspec": {
   "display_name": "Python 3",
   "language": "python",
   "name": "python3"
  },
  "language_info": {
   "codemirror_mode": {
    "name": "ipython",
    "version": 3
   },
   "file_extension": ".py",
   "mimetype": "text/x-python",
   "name": "python",
   "nbconvert_exporter": "python",
   "pygments_lexer": "ipython3",
   "version": "3.7.6"
  }
 },
 "nbformat": 4,
 "nbformat_minor": 4
}
