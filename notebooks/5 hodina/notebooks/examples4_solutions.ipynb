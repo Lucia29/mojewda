{
 "cells": [
  {
   "cell_type": "markdown",
   "metadata": {},
   "source": [
    "### Úloha 4.4\n",
    "\n",
    "Naprogramujte funkciu `reverse_list(l)`, ktorá prehodí poradie prvkov zoznamu `l`."
   ]
  },
  {
   "cell_type": "code",
   "execution_count": 8,
   "metadata": {},
   "outputs": [
    {
     "data": {
      "text/plain": [
       "[-2, 10, 2, 8, 6, 1]"
      ]
     },
     "execution_count": 8,
     "metadata": {},
     "output_type": "execute_result"
    }
   ],
   "source": [
    "numbers = [1, 6, 8, 2, 10, -2]\n",
    "# očakávaný výstup reverse_list(numbers) = [-2, 10, 2, 8, 6, 1]\n",
    "\n",
    "def reverse_list(l):\n",
    "    # najjednoduchšie je vytvoriť si nový zoznam, do ktorého pridáme prvky v opačnom poradí\n",
    "    reverse = []\n",
    "    # vygenerujeme si postupnosť indexov [dĺžka zoznamu -1, dĺžka zoznamu -2, ..., 0]\n",
    "    # parametre funkcie range(od (vrátane), do (bez), krok)\n",
    "    for i in range(len(l) - 1, -1, -1):\n",
    "        reverse.append(l[i]) # postupne pridáme do výsledku prvky od konca\n",
    "    # zmeníme pôvodný zoznam s prehodenými hodnotami\n",
    "    l[:] = reverse\n",
    "\n",
    "# iné riešenie, kde sa mení priamo zoznam `l`\n",
    "def reverse_list2(l):\n",
    "    # pre prehodenie prvkov musíme prvý vymeniť s posledným, druhý s predposledným, atď.\n",
    "    # tzn. všeobecne musí platiť, že prvok na i-tej pozicii sa nahradí za prvok s indexom -(i + 1), pretože\n",
    "    # záporné indexy sa počítajú od konca od 1, nie od 0 (tzn. -1 je posledný prvok, -2 predposledný, atd.)\n",
    "    \n",
    "    # v cykle prejdeme len polovicu zoznamu, operátor // znamená celé delenie, tzn. napr. 13 // 2 = 6\n",
    "    for i in range(len(l) // 2):\n",
    "        # vymeníme i-ty prvok a -(i + 1) prvok\n",
    "        tmp = l[i]         # uložíme si i-ty prvok do pomocnej premennej\n",
    "        l[i] = l[-(i + 1)] # i-ty prvok prepíšeme -(i + 1) prvkom od konca zoznamu \n",
    "        l[-(i + 1)] = tmp  # a -(i + 1) prvok na konci zoznamu nastavíme na predchádzajúcu hodnotu i-teho prvku\n",
    "\n",
    "reverse_list(numbers)\n",
    "numbers"
   ]
  },
  {
   "cell_type": "markdown",
   "metadata": {},
   "source": [
    "### Úloha 4.5\n",
    "\n",
    "Naprogramujte funkciu `to_celsius(temperature)`, ktorá prevedie stupne Fahrenheita na stupne Celzia podľa vzťahu `c/5 = (f-32)/9` (kde `c` sú stupne Celzia a `f` stupne Fahrenheita)."
   ]
  },
  {
   "cell_type": "code",
   "execution_count": 15,
   "metadata": {},
   "outputs": [
    {
     "data": {
      "text/plain": [
       "232.7777777777778"
      ]
     },
     "execution_count": 15,
     "metadata": {},
     "output_type": "execute_result"
    }
   ],
   "source": [
    "temperatere = 32 # očakávaný výstup = 0\n",
    "\n",
    "temperature = 45 # očakávaný výstup = 7.222...\n",
    "\n",
    "temperature = 451 # očakávaný výstup = 232.777...\n",
    "\n",
    "def to_celsius(temperature):\n",
    "    c = (temperature - 32) * (5/9)\n",
    "    return c\n",
    "\n",
    "to_celsius(451)"
   ]
  },
  {
   "cell_type": "markdown",
   "metadata": {},
   "source": [
    "### Úloha 4.6\n",
    "\n",
    "Naprogramujte funkciu `is_palindrom(s)`, ktorá vráti `True` ak je reťazec `s` palindróm, tzn. číta sa rovnako z predu aj zo zadu (inak vráti `False`)."
   ]
  },
  {
   "cell_type": "code",
   "execution_count": 16,
   "metadata": {},
   "outputs": [
    {
     "data": {
      "text/plain": [
       "True"
      ]
     },
     "execution_count": 16,
     "metadata": {},
     "output_type": "execute_result"
    }
   ],
   "source": [
    "s = \"hannah\"  # očakávaný výstup = True\n",
    "s = \"peter\"   # očakávaný výstup = False\n",
    "s = \"anna\"    # očakávaný výstup = True\n",
    "s = \"saippuakivikauppias\" # očakávaný výstup = True\n",
    "\n",
    "# môžeme postupovať podobne ako pri prehodení poradia prvkov, stačí prejsť polovicu zoznamu a porovnať, či\n",
    "# sa prvý prvok rovná s posledným, druhý s predposledným, atď.\n",
    "def is_palindrom(s):\n",
    "    for i in range(len(s) // 2): # prejdeme iba polovicu zoznamu\n",
    "        if s[i] != s[-(i + 1)]:  # porovnáme i-ty prvok od začiatky a konca\n",
    "            return False         # ak sa nerovnajú, tak to nemôže byť palindróm a skončíme s False\n",
    "    return True                  # ak dôjdeme do konca zoznamu a rovnali sa správne všetky prvky, vrátime True\n",
    "\n",
    "is_palindrom(s)"
   ]
  },
  {
   "cell_type": "markdown",
   "metadata": {},
   "source": [
    "### Úloha 4.7\n",
    "Napíšte funkciu `reshape_list(l, rows, columns)`, ktorá rozdelí zoznam hodnôt `l` do tabuľky s požadovaným počtom riadkov a stĺpcov. Ak je hodnôt v zozname menej než `rows x columns`, chýbajúce hodnoty doplní `None`."
   ]
  },
  {
   "cell_type": "code",
   "execution_count": 24,
   "metadata": {},
   "outputs": [
    {
     "data": {
      "text/plain": [
       "[[1, 6], [8, 2], [10, -2], [8, None]]"
      ]
     },
     "execution_count": 24,
     "metadata": {},
     "output_type": "execute_result"
    }
   ],
   "source": [
    "numbers = [1, 6, 8, 2, 10, -2, 8]\n",
    "\n",
    "# očakávaný výstup reshape_list(numbers, 4, 2) = [[1, 2], [8, 2], [10, -2], [8, None]]\n",
    "\n",
    "def reshape_list(l, rows, columns):\n",
    "    result = [] # vytvoríme si premennu pre výsledný zoznam\n",
    "    index = 0   # premennu `index` budeme používať na indexovanie v zdrojovom zozname `l`\n",
    "    \n",
    "    # vytvoríme vnorené cykly pre počet riadkov a počet stĺpcov\n",
    "    for i in range(rows):\n",
    "        row = [] # vytvoríme nový zoznam pre ďalší riadok\n",
    "        for j in range(columns):\n",
    "            # do riadku postupne pridáme prvok z `l`, ak už sme pridali všetky prvky a sme na konci zoznamu (index == len(l))\n",
    "            # do výsledku pridáme None hodnotu\n",
    "            value = l[index] if index < len(l) else None\n",
    "            row.append(value)\n",
    "            index += 1  # index v `l` musíme posunúť na ďalší prvok\n",
    "        result.append(row)\n",
    "    \n",
    "    # všimnite si, že táto funkcia nemení pôvodný zoznam, ale vráti nový\n",
    "    return result\n",
    "\n",
    "result = reshape_list(numbers, 4, 2)\n",
    "result"
   ]
  },
  {
   "cell_type": "markdown",
   "metadata": {},
   "source": [
    "### Úloha 4.8\n",
    "\n",
    "Napíšte funkciu `check_password(s)`, ktorá skontroluje platnosť používateľského hesla. Heslo bude platné ak:\n",
    "* má dĺžku viac než 8 znakov\n",
    "* obsahuje aspoň jedno veľké písmeno\n",
    "* obsahuje aspoň jedno číslo\n",
    "* obsahuje aspoň jeden špeciálny znak `@#$`"
   ]
  },
  {
   "cell_type": "code",
   "execution_count": 30,
   "metadata": {},
   "outputs": [
    {
     "data": {
      "text/plain": [
       "False"
      ]
     },
     "execution_count": 30,
     "metadata": {},
     "output_type": "execute_result"
    }
   ],
   "source": [
    "s = \"Secret123\"  # očakávaný výstup = False\n",
    "#s = \"#Secret123\" # očakávaný výstup = True\n",
    "\n",
    "# budeme potrebovať otestovať, či reťazec obsahuje znak zo zadanej množiny znakov\n",
    "# pre testovanie si napíšeme pomocnú funkciu, ktorá skontroluje či reťazec obsahuje aspoň jeden znak z danej množiny\n",
    "def has_char(s, chars):\n",
    "    for ch in s:         # prechádzame znaky z reťazca \n",
    "        if ch in chars:  # ak nájdeme znak zo zadanej množiny, vrátime True\n",
    "            return True  \n",
    "    return False         # prešli sme všetky znaky a nenašli sme ani jeden z `chars`, vrátime False\n",
    "\n",
    "def check_password(s):\n",
    "    # vytvoríme si pomocné zoznamy pre čísla, písmená a špeciálne znaky\n",
    "    letters = [\"A\", \"B\", \"C\", \"D\", \"E\", \"F\", \"G\", \"H\", \"I\", \"J\", \"K\", \"L\", \"M\", \"N\", \"O\", \"P\", \"Q\", \"R\", \"S\", \"T\", \"U\", \"V\", \"W\", \"X\", \"Y\"]\n",
    "    numbers = [\"0\", \"1\", \"2\", \"3\", \"4\", \"5\", \"6\", \"7\", \"8\", \"9\"]\n",
    "    special = [\"@\", \"#\", \"$\"]\n",
    "    # otestujeme podmienku pre heslo\n",
    "    return len(s) > 8 and has_char(s, letters) and has_char(s, numbers) and has_char(s, special)\n",
    "    \n",
    "check_password(s)"
   ]
  },
  {
   "cell_type": "markdown",
   "metadata": {},
   "source": [
    "### Úloha 4.9\n",
    "\n",
    "Napíšte funkciu `num_of_days(month)`, ktorá pre zadaný mesiac v roku vráti počet dní (neuvažujte prestupné roky). Mesiac môže byť zadaný úplným názvom (napr. `január`), alebo trojpísmenovou skratkou (`jan.`). "
   ]
  },
  {
   "cell_type": "code",
   "execution_count": 34,
   "metadata": {},
   "outputs": [
    {
     "name": "stdout",
     "output_type": "stream",
     "text": [
      "28\n"
     ]
    }
   ],
   "source": [
    "# pre riešenie môžeme využiť napr. funkciu, ktorá vráti index výskytu prvku v zozname\n",
    "def find_value(l, value):\n",
    "    for i, v in enumerate(l):\n",
    "        if v == value:\n",
    "            # našli sme požadovanú hodnotu, priamo ukončíme funkciu a vrátime index hodnoty\n",
    "            return i\n",
    "    return -1 # prešli sme všetky prvky do konca, ale hodnotu sme nenašli, takže vrátime -1\n",
    "\n",
    "def num_of_days(month):    # vytvoríme si pomocné premenné s názvami, skratkami a počtom dní\n",
    "    months = [\"január\", \"február\", \"marec\", \"apríl\", \"máj\", \"jún\", \"júl\", \"august\", \"september\", \"október\", \"november\", \"december\"]\n",
    "    abbr = [\"jan\", \"feb\", \"mar\", \"apr\", \"máj\", \"jún\", \"júl\", \"aug\", \"sep\", \"okt\", \"nov\", \"dec\"]\n",
    "    num_days = [31, 28, 31, 30, 31, 30, 31, 31, 30, 31, 30, 31]\n",
    "    \n",
    "    index = find_value(months, month)\n",
    "    if index >= 0:\n",
    "        return num_days[index] # našli sme dlhý názov\n",
    "    \n",
    "    index = find_value(abbr, month.replace(\".\", \"\")) # zo skratky odstránime `.`\n",
    "    if index >= 0:\n",
    "        return num_days[index] # našli sme skratku\n",
    "    \n",
    "    # neznámy názov, vrátime None\n",
    "    return None\n",
    "\n",
    "print(num_of_days(\"feb.\"))"
   ]
  },
  {
   "cell_type": "code",
   "execution_count": null,
   "metadata": {},
   "outputs": [],
   "source": []
  }
 ],
 "metadata": {
  "kernelspec": {
   "display_name": "Python 3",
   "language": "python",
   "name": "python3"
  },
  "language_info": {
   "codemirror_mode": {
    "name": "ipython",
    "version": 3
   },
   "file_extension": ".py",
   "mimetype": "text/x-python",
   "name": "python",
   "nbconvert_exporter": "python",
   "pygments_lexer": "ipython3",
   "version": "3.7.3"
  }
 },
 "nbformat": 4,
 "nbformat_minor": 2
}
