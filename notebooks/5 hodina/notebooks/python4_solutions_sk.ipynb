{
 "cells": [
  {
   "cell_type": "markdown",
   "metadata": {},
   "source": [
    "## Úlohy"
   ]
  },
  {
   "cell_type": "markdown",
   "metadata": {},
   "source": [
    "### Úloha 4.1\n",
    "\n",
    "Napíšte funkciu `najdi_hodnotu(zoznam, hodnota)`, ktorá vráti pozíciu prvého výskytu prvku zoznamu `zoznam` so zadanou hodnotou `hodnota`, alebo -1 ak sa taký prvok v zozname nenachádza. Pri riešení využite kód z úlohy 3.6."
   ]
  },
  {
   "cell_type": "code",
   "execution_count": 1,
   "metadata": {},
   "outputs": [
    {
     "name": "stdout",
     "output_type": "stream",
     "text": [
      "2\n",
      "-1\n"
     ]
    }
   ],
   "source": [
    "def najdi_hodnotu(zoznam, hodnota):\n",
    "    index = -1\n",
    "    for i, prvok in enumerate(zoznam):\n",
    "        if prvok == hodnota:\n",
    "            # našli sme požadovanú hodnotu, nastavíme do index jej pozíciu a prerušíme cyklus\n",
    "            index = i\n",
    "            break\n",
    "    return index\n",
    "\n",
    "# v tomto prípade si nemusíme pamätať index v pomocnej premennej, ak nájdeme v zozname danú hodnotu, cyklus a funkciu môžeme ukončiť\n",
    "# príkazom return a vrátit priamo index hodnoty\n",
    "def najdi_hodnotu(zoznam, hodnota):\n",
    "    for i, prvok in enumerate(zoznam):\n",
    "        if prvok == hodnota:\n",
    "            # našli sme požadovanú hodnotu, priamo ukončíme funkciu a vrátime index hodnoty\n",
    "            return i\n",
    "    return -1 # prešli sme všetky prvky do konca, ale hodnotu sme nenašli, takže vrátime -1\n",
    "\n",
    "# volanie funkcie otestujeme na nasledujúcich príkladoch\n",
    "cisla = [0, 1, 2, 3]\n",
    "i = najdi_hodnotu(cisla, 2)\n",
    "print(i) # = 2\n",
    "i = najdi_hodnotu([], 2)\n",
    "print(i) # = -1\n",
    "\n",
    "# funkciu najdi_hodnotu(zoznam, hodnota) môžeme volať aj nasledovne\n",
    "i = najdi_hodnotu(cisla, hodnota=2) # parameter zoznam je zadaný na 1 pozícii, hodnota cez názov\n",
    "i = najdi_hodnotu(zoznam=cisla, hodnota=2) # oba parametre sú zadané cez názov\n",
    "i = najdi_hodnotu(hodnota=2, zoznam=cisla) # ak parametre zadávame cez názov, nemusia byť uvedené v poradí v akom sú definované vo funkcii\n",
    "\n",
    "# nasledujúci zápis by však skončil chybou SyntaxError, pretože ak uvedieme aspoň jeden parameter na jeho pozícii, musíme všetky\n",
    "# predchádzajúce parametre tiež zadať na ich pozícii a nie podľa názvu\n",
    "# i = najdi_hodnotu(zoznam=cisla, 2)"
   ]
  },
  {
   "cell_type": "markdown",
   "metadata": {},
   "source": [
    "### Úloha 4.2\n",
    "\n",
    "Upravte funkciu `najdi_hodnotu` z úlohy 4.1 tak, že pridáte parameter `prednastaveny_index` s prednastavenou hodnotou -1, ktorého hodnota sa vráti ak sa hodnota `hodnota` v zozname nenájde.  "
   ]
  },
  {
   "cell_type": "code",
   "execution_count": 2,
   "metadata": {},
   "outputs": [
    {
     "name": "stdout",
     "output_type": "stream",
     "text": [
      "None\n"
     ]
    }
   ],
   "source": [
    "def najdi_hodnotu(zoznam, hodnota, prednastaveny_index=-1):\n",
    "    for i, prvok in enumerate(zoznam):\n",
    "        if prvok == hodnota:\n",
    "            return i\n",
    "    return prednastaveny_index\n",
    "\n",
    "# funkciu najdi_hodnotu(zoznam, hodnota, prednastaveny_index=-1) môžeme volať aj nasledovne\n",
    "i = najdi_hodnotu([], 2) # vynechali sme prednastaveny_index, a funkcii sa predá jeho prednastavená hodnota\n",
    "i = najdi_hodnotu([], 2, None) # predefinovali sme parameter prednastaveny_index, ktorý sme zadali na jeho pozícii\n",
    "i = najdi_hodnotu([], 2, prednastaveny_index=None) # predefinovali sme parameter prednastaveny_index, ktorý sme zadali podľa jeho názvu\n",
    "print(i) # = None"
   ]
  },
  {
   "cell_type": "markdown",
   "metadata": {},
   "source": [
    "### Úloha 4.3\n",
    "\n",
    "Rozdeľte riešenie úlohy 3.10 na jednoduchšie podúlohy pre ktoré naprogramujte potrebné funkcie."
   ]
  },
  {
   "cell_type": "code",
   "execution_count": 4,
   "metadata": {},
   "outputs": [
    {
     "name": "stdout",
     "output_type": "stream",
     "text": [
      "[['power', 'weight', 'hybrid', 'producer'], [55.3, 1450, False, 'ford'], [100, 2500, False, 'ford'], [60.5, 1150, True, 'toyota'], [56, None, False, 'volkswagen'], [75.2, 1480, False, 'volkswagen'], [80.1, 1630, False, 'peugeot']]\n",
      "power min: 55.3000, max: 100.0000, avg: 71.1833\n",
      "weight min: 1150.0000, max: 2500.0000, avg: 1642.0000\n",
      "['ford', 'ford', 'peugeot', 'toyota', 'volkswagen', 'volkswagen']\n"
     ]
    }
   ],
   "source": [
    "def preved_hodnotu(s, chybajuca_hodnota=\"?\", oddelovac=\"'\", ciarka=\".\"):\n",
    "    \"\"\"\n",
    "    Funkcia prevedie reťazec na typ Pythonu.\n",
    "\n",
    "    Parametre:\n",
    "    s - konvertovaný reťazec\n",
    "    chybajuca_hodnota - reťazec použitý pre označenie prázdnych hodnôt (prednastavená hodnota ?). \n",
    "    oddelovac - znak použitý na ohraničenie reťazcov (prednastavená hodnota ').\n",
    "    ciarka - znak pre označenie desatinnej čiarky (prednastavená hodnota .).\n",
    "    \n",
    "    Návratová hodnota:\n",
    "    skonvertovaná dátová hodnota Pythonu\n",
    "    \"\"\"\n",
    "    \n",
    "    # najprv odstránime z reťazca prázdne znaky zo začiatku a konca\n",
    "    hodnota = s.strip()\n",
    "    if hodnota == chybajuca_hodnota:  # skonvertujeme jednoduché hodnoty None, True a False\n",
    "        hodnota = None\n",
    "    elif hodnota == \"true\":\n",
    "        hodnota = True\n",
    "    elif hodnota == \"false\":\n",
    "        hodnota = False\n",
    "    elif hodnota.startswith(oddelovac): # ak je hodnota ohraničená oddeľovacím znakom, tak je to reťazec\n",
    "        hodnota = hodnota[1:-1] # odstránime z neho ohraničujúce znaky (prvý a posledný - predpokladáme, že string_delimiter má iba jeden znak)\n",
    "    elif hodnota.find(ciarka) >= 0:  # inak je to číslo, ak obsahuje desatinnú čiarku, prevedieme ho na float, inak na int\n",
    "        hodnota = float(hodnota)\n",
    "    else:\n",
    "        hodnota = int(hodnota)\n",
    "    return hodnota\n",
    "\n",
    "def nacitaj_data(s, oddelovac=\";\"):\n",
    "    \"\"\"\n",
    "    Funkcia rozdelí reťazec na riadky tabuľky, každý riadok rozdelí na hodnoty a hodnoty prevedie na typ Pythonu.\n",
    "    \n",
    "    Parametre:\n",
    "    s - konvertovaný reťazec\n",
    "    oddelovac - oddeľovač hodnôt (prednastavená hodnota ;)\n",
    "    \n",
    "    Návratová hodnota:\n",
    "    skonvertovaná tabuľka reprezentovaná ako zoznam riadkov s vnorenými zoznamami hodnôt pre každý riadok\n",
    "    \"\"\"\n",
    "    # najprv si text rozdelíme na riadky a každý riadok rozdelíme na hodnoty\n",
    "    retazce = s.split(\"\\n\")\n",
    "    tabulka = []\n",
    "    for s in retazce:\n",
    "        tabulka.append(s.split(oddelovac))\n",
    "\n",
    "    # skonvertujeme hodnoty z reťazcov na typy Pythonu\n",
    "    for riadok in tabulka:\n",
    "        for i, hodnota in enumerate(riadok):    # budeme chcieť zmeniť hodnotu, takže budeme potrebovať jej index\n",
    "            riadok[i] = preved_hodnotu(hodnota) # skonvertujeme hodnotu na typ Pythonu volaním funkcie convert_value s prednastavenými hodnotami\n",
    "                                                # parametrov pre označenie prázdnych hodnôt, oddeľovač reťazcov a desatinnú čiarku\n",
    "    return tabulka # vrátime skonvertované dáta\n",
    "\n",
    "\n",
    "def vypocitaj_statistiky(tabulka, stlpec):\n",
    "    \"\"\"\n",
    "    Funkcia vypočíta základné štatistiky: minimum, maximum a priemernú hodnotu pre zadaný stĺpec tabuľky.\n",
    "\n",
    "    Parametre:\n",
    "    tabulka - tabuľka zadaná ako zoznam riadkov s vnorenými zoznamami hodnôt pre každý riadok\n",
    "    stlpec - index stĺpca pre ktorý sa majú vypočítať štatistiky\n",
    "    \n",
    "    Návratová hodnota:\n",
    "    n-tica (minimum, maximum, priemer)\n",
    "    \"\"\"\n",
    "    # v jednom cykle vypočítame min, max a priemernú hodnotu\n",
    "    suma = 0\n",
    "    min = None\n",
    "    max = None\n",
    "    pocet = 0\n",
    "    \n",
    "    for riadok in tabulka:\n",
    "        hodnota = riadok[stlpec]\n",
    "        if hodnota is None: # preskočíme chýbajúce hodnoty  \n",
    "            continue\n",
    "        if min is None or hodnota < min:  # ak sme ešte nepriradili do min žiadnu hodnotu, alebo ak je hodnota v riadku menšia než minimum, priradíme ju do min\n",
    "            min = hodnota\n",
    "        if max is None or hodnota > max:  # podobne ak sme ešte nepriradili max, alebo je hodnota väčšia než max, priradíme ju do max \n",
    "            max = hodnota\n",
    "        suma += hodnota # pripočítame hodnotu do sumy pre priemer\n",
    "        pocet += 1 # spočítame počet neprázdnych hodnôt z ktorých počítame priemer\n",
    "\n",
    "    priemer = suma / pocet if pocet > 0 else None # pre priemer vrátime None ak sme nenašli žiadnu neprázdnu hodnotu\n",
    "    return (min, max, priemer) # vrátime n-ticu vypočítaných hodnôt\n",
    "\n",
    "# po definovaní funkcií nasleduje hlavný program\n",
    "\n",
    "data = \"\"\"'power'; 'weight'; 'hybrid'; 'producer'\n",
    "55.3; 1450; false; 'ford'\n",
    "100; 2500; false; 'ford'\n",
    "60.5; 1150; true; 'toyota'\n",
    "56; ?; false; 'volkswagen'\n",
    "75.2; 1480; false; 'volkswagen'\n",
    "80.1; 1630; false; 'peugeot'\"\"\"\n",
    "\n",
    "tabulka = nacitaj_data(data)\n",
    "# pre kontrolu si zobrazíme skonvertované dáta (print zobrazí aj ohraničenie Python reťazcov '', ale hodnoty už neobsahujú ')\n",
    "print(tabulka)\n",
    "\n",
    "# z rows odstránime prvý riadok (hlavičku tabuľky s názvami stĺpcov)\n",
    "del(tabulka[0])\n",
    "\n",
    "min, max, priemer = vypocitaj_statistiky(tabulka, 0) # vypočítame min, max a priemernú hodnotu pre prvý stĺpec (power)\n",
    "print(\"power min: {0:.4f}, max: {1:.4f}, avg: {2:.4f}\".format(min, max, priemer))\n",
    "min, max, priemer = vypocitaj_statistiky(tabulka, 1) # vypočítame min, max a priemernú hodnotu pre druhý stĺpec (weight)\n",
    "print(\"weight min: {0:.4f}, max: {1:.4f}, avg: {2:.4f}\".format(min, max, priemer))\n",
    "\n",
    "# pre textový stĺpec producer zozbierame zoznam hodnôt\n",
    "hodnoty = []\n",
    "for riadok in tabulka:\n",
    "    hodnoty.append(riadok[3]) # štvrtý stĺpec\n",
    "hodnoty.sort() # usporiadame hodnoty\n",
    "print(hodnoty)"
   ]
  },
  {
   "cell_type": "code",
   "execution_count": null,
   "metadata": {},
   "outputs": [],
   "source": []
  }
 ],
 "metadata": {
  "kernelspec": {
   "display_name": "Python 3",
   "language": "python",
   "name": "python3"
  },
  "language_info": {
   "codemirror_mode": {
    "name": "ipython",
    "version": 3
   },
   "file_extension": ".py",
   "mimetype": "text/x-python",
   "name": "python",
   "nbconvert_exporter": "python",
   "pygments_lexer": "ipython3",
   "version": "3.7.6"
  }
 },
 "nbformat": 4,
 "nbformat_minor": 4
}
