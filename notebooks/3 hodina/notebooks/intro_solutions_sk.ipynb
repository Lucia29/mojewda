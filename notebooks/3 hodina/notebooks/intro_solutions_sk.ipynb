{
 "cells": [
  {
   "cell_type": "markdown",
   "metadata": {},
   "source": [
    "### Úloha 0.1\n",
    "Vytvorte premennú `meno` do ktorej priradíte Vaše meno. Potom výpíšte správu, ktorá zobrazí Vaše meno a priezvisko, pričom sa odkazujte na premennú `meno`."
   ]
  },
  {
   "cell_type": "code",
   "execution_count": 1,
   "metadata": {},
   "outputs": [
    {
     "name": "stdout",
     "output_type": "stream",
     "text": [
      "Peter Bednár\n"
     ]
    }
   ],
   "source": [
    "meno = \"Peter\"\n",
    "print(meno, \"Bednár\")"
   ]
  },
  {
   "cell_type": "markdown",
   "metadata": {},
   "source": [
    "### Úloha 0.2\n",
    "Vytvorte premenné `den` a `mesiac` do ktorej priradíte deň a mesiac Vaších narodenín. Spočítajte ich hodnoty, vydeľte ich Vaším šťastným číslom a vypíšte výsledok na obrazovku (pre súčet a delenie dvoch hodnôt môžete použiť operátory `+` a `/`)."
   ]
  },
  {
   "cell_type": "code",
   "execution_count": null,
   "metadata": {},
   "outputs": [],
   "source": [
    "den = 6\n",
    "mesiac = 6\n",
    "(den + mesiac) / 12 # = 1.0"
   ]
  },
  {
   "cell_type": "code",
   "execution_count": null,
   "metadata": {},
   "outputs": [],
   "source": []
  }
 ],
 "metadata": {
  "kernelspec": {
   "display_name": "Python 3",
   "language": "python",
   "name": "python3"
  },
  "language_info": {
   "codemirror_mode": {
    "name": "ipython",
    "version": 3
   },
   "file_extension": ".py",
   "mimetype": "text/x-python",
   "name": "python",
   "nbconvert_exporter": "python",
   "pygments_lexer": "ipython3",
   "version": "3.7.3"
  }
 },
 "nbformat": 4,
 "nbformat_minor": 2
}
