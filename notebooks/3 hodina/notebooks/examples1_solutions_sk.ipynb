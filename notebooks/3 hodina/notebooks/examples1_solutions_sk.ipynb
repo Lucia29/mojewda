{
 "cells": [
  {
   "cell_type": "markdown",
   "metadata": {},
   "source": [
    "## Úloha 1.6\n",
    "\n",
    "Otestujte, či zadaná hodnota obsahuje neprázdny reťazec. Hodnota môže byť aj `None`."
   ]
  },
  {
   "cell_type": "code",
   "execution_count": 1,
   "metadata": {},
   "outputs": [
    {
     "data": {
      "text/plain": [
       "False"
      ]
     },
     "execution_count": 1,
     "metadata": {},
     "output_type": "execute_result"
    }
   ],
   "source": [
    "hodnota = \"\"\n",
    "# = False\n",
    "\n",
    "# hodnota = None\n",
    "# = False\n",
    "\n",
    "# hodnota = \"Python\"\n",
    "# = True\n",
    "\n",
    "hodnota is not None and len(hodnota) != 0"
   ]
  },
  {
   "cell_type": "markdown",
   "metadata": {},
   "source": [
    "## Úloha 1.7\n",
    "\n",
    "Pomocou operátora `%` zaokrúhlite nasledujúce hodnoty na najbližší vyšší násobok 10."
   ]
  },
  {
   "cell_type": "code",
   "execution_count": 8,
   "metadata": {},
   "outputs": [
    {
     "name": "stdout",
     "output_type": "stream",
     "text": [
      "20\n"
     ]
    }
   ],
   "source": [
    "cislo = 13 # očakávaná hodnota 20\n",
    "\n",
    "# cislo = 101 # očakávaná hodnota 110\n",
    "\n",
    "zvysok = cislo % 10 # vypočítame si zvyšok po delení 10, napr. 13 % 10 == 3\n",
    "# ak chceme zaokrúhliť číslo smerom nahor, musíme k nemu pripočítať hodnoty od zvyšku až po 10, tzn. 10 - rem\n",
    "cislo = cislo + (10 - zvysok)\n",
    "print(cislo)\n",
    "\n",
    "# problém tohto riešenia je ak už číslo je násobkom 10 (tzn. zvyšok je rovný 0), napr. pre value = 20,\n",
    "# v tom prípade už číslo má zaokrúhlenú hodnotu a nemusíme k nej nič pripočítať,\n",
    "# na všeobecnejšie riešenie už budeme potrebovať vetvenie programu z nasledujúceho cvičenia"
   ]
  },
  {
   "cell_type": "markdown",
   "metadata": {},
   "source": [
    "## Úloha 1.8\n",
    "\n",
    "Otestujte, či druhý znak reťazca je písmeno `a` a predposledný znak písmeno `z`."
   ]
  },
  {
   "cell_type": "code",
   "execution_count": 11,
   "metadata": {},
   "outputs": [
    {
     "data": {
      "text/plain": [
       "False"
      ]
     },
     "execution_count": 11,
     "metadata": {},
     "output_type": "execute_result"
    }
   ],
   "source": [
    "s = \"abcza\"\n",
    "# = False\n",
    "\n",
    "# s = \"bacza\"\n",
    "# = True\n",
    "\n",
    "# s = \"bacaz\"\n",
    "# = False\n",
    "\n",
    "s[1] == \"a\" and s[-2] == \"z\""
   ]
  },
  {
   "cell_type": "markdown",
   "metadata": {},
   "source": [
    "## Úloha 1.9\n",
    "\n",
    "Vydeľte dve číselné hodnoty v reťazcoch a výsledok vypíšte na 4 desatinné miesta. Všimnite si, že Python používa ako znak desatinnej čiarky `.`, tzn. pri druhom čísle musíte najprv nahradiť znak `,` za `.`. Pred delením musíte hodnoty skonvertovať z reťazcov na čísla."
   ]
  },
  {
   "cell_type": "code",
   "execution_count": 2,
   "metadata": {},
   "outputs": [
    {
     "name": "stdout",
     "output_type": "stream",
     "text": [
      "výsledok: 13.1400\n"
     ]
    }
   ],
   "source": [
    "hodnota1 = \"10\"\n",
    "hodnota2 = \"3,14\"\n",
    "\n",
    "# oba reťazce skonvertujeme na desatinné čísla\n",
    "# (reťazec `hodnota1` by sme mohli skonvertovať aj ako celé číslo funkciou int(hodnota1))\n",
    "cislo1 = float(hodnota1) \n",
    "cislo2 = float(hodnota2.replace(\",\", \".\")) # v reťazci `value2` najprv nahradíme čiarku za bodku\n",
    "\n",
    "vysledok = cislo1 + cislo2 # vypočítame výsledok\n",
    "print(\"výsledok: {0:.4f}\".format(vysledok)) # vypíšeme výsledok na 4 desatinné čísla"
   ]
  },
  {
   "cell_type": "markdown",
   "metadata": {},
   "source": [
    "## Úloha 1.10\n",
    "\n",
    "Napíšte výraz, ktorý sa vyhodnotí na `True` ak meno používateľa obsahuje jeho heslo so zanedbaním veľkosti písmen."
   ]
  },
  {
   "cell_type": "code",
   "execution_count": 4,
   "metadata": {},
   "outputs": [
    {
     "data": {
      "text/plain": [
       "False"
      ]
     },
     "execution_count": 4,
     "metadata": {},
     "output_type": "execute_result"
    }
   ],
   "source": [
    "meno = \"Peter\"\n",
    "heslo = \"123\"\n",
    "# = False\n",
    "\n",
    "# meno = \"123Peter\"\n",
    "# heslo = \"peter\"\n",
    "# = True\n",
    "\n",
    "# meno = \"peter123\"\n",
    "# heslo = \"PeTeR\"\n",
    "# = True\n",
    "\n",
    "# meno = \"peter\"\n",
    "# heslo = \"peter123\"\n",
    "# = False\n",
    "\n",
    "# ak chceme porovnávať reťazce bez zohľadnenia veľkosti písmen, všetky prevedieme na veľké alebo malé\n",
    "str1 = meno.upper()\n",
    "str2 = heslo.upper()\n",
    "\n",
    "# metóda str1.find(str2) vráti index prvého výskytu reťazca str2 v reťazci str1, ak sa str2 v reťazci str1 nenachádza\n",
    "# str1.find(str2) vráti -1, takže ak chceme test či sa reťazec str2 vyskytol na ľubovoľnej pozícii:\n",
    "str1.find(str2) != -1\n",
    "\n",
    "# celé riešenie môžete skrátene zapísať bez pomocných premenných\n",
    "meno.upper().find(heslo.upper()) != -1\n",
    "\n",
    "# alebo alternatívne, vrátený index musí byť väčší, alebo rovný než 0\n",
    "meno.upper().find(heslo.upper()) >= 0"
   ]
  },
  {
   "cell_type": "markdown",
   "metadata": {},
   "source": [
    "## Úloha 1.11\n",
    "\n",
    "Pomocou formátovacích reťazcov pre zadanú premennu `error` vypíšte správu v tvare `chyba: [hodnota chyby na 3 desatinné miesta], presnosť: [percentuálna hodnota presnosti na jedno desatinné miesto] %)`. Presnosť sa vypočíta ako 1 - chyba."
   ]
  },
  {
   "cell_type": "code",
   "execution_count": 5,
   "metadata": {},
   "outputs": [
    {
     "name": "stdout",
     "output_type": "stream",
     "text": [
      "chyba: 0.027, presnosť: 97.3 %\n"
     ]
    }
   ],
   "source": [
    "chyba = 27/1000\n",
    "# vypíše správu `chyba: 0.027, presnosť: 97.3 %`\n",
    "presnost = (1 - chyba) * 100 # vypočítame presnosť v percentách\n",
    "\n",
    "# formátovací reťazec bude mať dve polia, do ktorých dosadíme metódou format chybu a presnosť\n",
    "print(\"chyba: {0:.3f}, presnosť: {1:.1f} %\".format(chyba, presnost))"
   ]
  },
  {
   "cell_type": "code",
   "execution_count": null,
   "metadata": {},
   "outputs": [],
   "source": []
  }
 ],
 "metadata": {
  "kernelspec": {
   "display_name": "Python 3",
   "language": "python",
   "name": "python3"
  },
  "language_info": {
   "codemirror_mode": {
    "name": "ipython",
    "version": 3
   },
   "file_extension": ".py",
   "mimetype": "text/x-python",
   "name": "python",
   "nbconvert_exporter": "python",
   "pygments_lexer": "ipython3",
   "version": "3.7.3"
  }
 },
 "nbformat": 4,
 "nbformat_minor": 2
}
