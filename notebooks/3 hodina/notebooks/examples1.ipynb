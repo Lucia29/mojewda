{
 "cells": [
  {
   "cell_type": "markdown",
   "metadata": {},
   "source": [
    "## Úloha 1.6\n",
    "\n",
    "Otestujte, či zadaná hodnota obsahuje neprázdny reťazec. Hodnota môže byť aj `None`."
   ]
  },
  {
   "cell_type": "code",
   "execution_count": null,
   "metadata": {},
   "outputs": [],
   "source": [
    "value = \"\"\n",
    "# = False\n",
    "\n",
    "value = None\n",
    "# = False\n",
    "\n",
    "value = \"Python\"\n",
    "# = True"
   ]
  },
  {
   "cell_type": "markdown",
   "metadata": {},
   "source": [
    "## Úloha 1.7\n",
    "\n",
    "Pomocou operátora `%` zaokrúhlite nasledujúce hodnoty na najbližší vyšší násobok 10."
   ]
  },
  {
   "cell_type": "code",
   "execution_count": null,
   "metadata": {},
   "outputs": [],
   "source": [
    "value = 13 # očakávaná hodnota 20\n",
    "\n",
    "# value = 101 # očakávaná hodnota 110"
   ]
  },
  {
   "cell_type": "markdown",
   "metadata": {},
   "source": [
    "## Úloha 1.8\n",
    "\n",
    "Otestujte, či druhý znak reťazca je písmeno `a` a predposledný znak písmeno `z`."
   ]
  },
  {
   "cell_type": "code",
   "execution_count": null,
   "metadata": {},
   "outputs": [],
   "source": [
    "s = \"abcza\"\n",
    "# = False\n",
    "\n",
    "s = \"bacza\"\n",
    "# = True\n",
    "\n",
    "s = \"bacaz\"\n",
    "# = False"
   ]
  },
  {
   "cell_type": "markdown",
   "metadata": {},
   "source": [
    "## Úloha 1.9\n",
    "\n",
    "Vydeľte dve číselné hodnoty v reťazcoch a výsledok vypíšte na 4 desatinné miesta. Všimnite si, že Python používa ako znak desatinnej čiarky `.`, tzn. pri druhom čísle musíte najprv nahradiť znak `,` za `.`. Pred delením musíte hodnoty skonvertovať z reťazcov na čísla."
   ]
  },
  {
   "cell_type": "code",
   "execution_count": 2,
   "metadata": {},
   "outputs": [],
   "source": [
    "value1 = \"10\"\n",
    "value2 = \"3,14\""
   ]
  },
  {
   "cell_type": "markdown",
   "metadata": {},
   "source": [
    "## Úloha 1.10\n",
    "\n",
    "Napíšte výraz, ktorý sa vyhodnotí na `True` ak meno používateľa obsahuje jeho heslo so zanedbaním veľkosti písmen."
   ]
  },
  {
   "cell_type": "code",
   "execution_count": null,
   "metadata": {},
   "outputs": [],
   "source": [
    "username = \"Peter\"\n",
    "password = \"123\"\n",
    "# = False\n",
    "\n",
    "# username = \"123Peter\"\n",
    "# password = \"peter\"\n",
    "# = True\n",
    "\n",
    "# username = \"peter123\"\n",
    "# password = \"PeTeR\"\n",
    "# = True\n",
    "\n",
    "# username = \"peter\"\n",
    "# password = \"peter123\"\n",
    "# = False"
   ]
  },
  {
   "cell_type": "markdown",
   "metadata": {},
   "source": [
    "## Úloha 1.11\n",
    "\n",
    "Pomocou formátovacích reťazcov pre zadanú premennu `error` vypíšte správu v tvare `chyba: [hodnota chyby na 3 desatinné miesta], presnosť: [percentuálna hodnota presnosti na jedno desatinné miesto] %)`. Presnosť sa vypočíta ako 1 - chyba."
   ]
  },
  {
   "cell_type": "code",
   "execution_count": 17,
   "metadata": {},
   "outputs": [],
   "source": [
    "error = 27/1000\n",
    "# vypíše správu `chyba: 0.027, presnosť: 97.3 %`"
   ]
  }
 ],
 "metadata": {
  "kernelspec": {
   "display_name": "Python 3",
   "language": "python",
   "name": "python3"
  },
  "language_info": {
   "codemirror_mode": {
    "name": "ipython",
    "version": 3
   },
   "file_extension": ".py",
   "mimetype": "text/x-python",
   "name": "python",
   "nbconvert_exporter": "python",
   "pygments_lexer": "ipython3",
   "version": "3.7.0"
  }
 },
 "nbformat": 4,
 "nbformat_minor": 2
}
