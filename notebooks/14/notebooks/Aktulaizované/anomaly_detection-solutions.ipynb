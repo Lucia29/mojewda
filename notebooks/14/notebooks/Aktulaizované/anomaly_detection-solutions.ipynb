{
 "cells": [
  {
   "cell_type": "markdown",
   "metadata": {},
   "source": [
    "## Detekcia anomálií a outlierov\n",
    "\n",
    "Outliery a anomálie je možné hľadať viacerými spôsobmi.\n",
    "\n",
    "Outliery je jednoduché hľadať napr. pomocou rôznych vizualizácií, ak hľadáme outliery v rámci jednotlivých atribútov alebo v rámci kombinácie hodnôt malého počtu atribútov. \n",
    "\n",
    "Z jednoduchých vizualizačných techník pre detekciu outlierov môžeme použiť:\n",
    "\n",
    "### Úloha 13.6:\n",
    "\n",
    "Ktoré vizualizačné techniky podporované knižnicou Seaborn môžeme priamo použiť pre detekciu outlierov?\n",
    "Použite zvolené techniky pre detekciu outlierov v rámci datasetu Titanic. "
   ]
  },
  {
   "cell_type": "code",
   "execution_count": 1,
   "metadata": {},
   "outputs": [],
   "source": [
    "import numpy as np\n",
    "import pandas as pd\n",
    "import seaborn as sns"
   ]
  },
  {
   "cell_type": "code",
   "execution_count": 2,
   "metadata": {},
   "outputs": [
    {
     "data": {
      "text/html": [
       "<div>\n",
       "<style scoped>\n",
       "    .dataframe tbody tr th:only-of-type {\n",
       "        vertical-align: middle;\n",
       "    }\n",
       "\n",
       "    .dataframe tbody tr th {\n",
       "        vertical-align: top;\n",
       "    }\n",
       "\n",
       "    .dataframe thead th {\n",
       "        text-align: right;\n",
       "    }\n",
       "</style>\n",
       "<table border=\"1\" class=\"dataframe\">\n",
       "  <thead>\n",
       "    <tr style=\"text-align: right;\">\n",
       "      <th></th>\n",
       "      <th>pclass</th>\n",
       "      <th>survived</th>\n",
       "      <th>sex</th>\n",
       "      <th>age</th>\n",
       "      <th>sibsp</th>\n",
       "      <th>parch</th>\n",
       "      <th>ticket</th>\n",
       "      <th>fare</th>\n",
       "      <th>cabin</th>\n",
       "      <th>embarked</th>\n",
       "      <th>family</th>\n",
       "      <th>has_family</th>\n",
       "      <th>fare_ordinal</th>\n",
       "      <th>title</th>\n",
       "      <th>title_short</th>\n",
       "      <th>age_ordinal</th>\n",
       "      <th>deck</th>\n",
       "    </tr>\n",
       "  </thead>\n",
       "  <tbody>\n",
       "    <tr>\n",
       "      <td>0</td>\n",
       "      <td>1</td>\n",
       "      <td>1</td>\n",
       "      <td>female</td>\n",
       "      <td>29.00</td>\n",
       "      <td>0</td>\n",
       "      <td>0</td>\n",
       "      <td>24160</td>\n",
       "      <td>211.3375</td>\n",
       "      <td>B5</td>\n",
       "      <td>Southampton</td>\n",
       "      <td>0</td>\n",
       "      <td>False</td>\n",
       "      <td>most expensive</td>\n",
       "      <td>Miss</td>\n",
       "      <td>Miss</td>\n",
       "      <td>adult</td>\n",
       "      <td>B</td>\n",
       "    </tr>\n",
       "    <tr>\n",
       "      <td>1</td>\n",
       "      <td>1</td>\n",
       "      <td>1</td>\n",
       "      <td>male</td>\n",
       "      <td>0.92</td>\n",
       "      <td>1</td>\n",
       "      <td>2</td>\n",
       "      <td>113781</td>\n",
       "      <td>151.5500</td>\n",
       "      <td>C22 C26</td>\n",
       "      <td>Southampton</td>\n",
       "      <td>3</td>\n",
       "      <td>True</td>\n",
       "      <td>most expensive</td>\n",
       "      <td>Master</td>\n",
       "      <td>rare title</td>\n",
       "      <td>child</td>\n",
       "      <td>C</td>\n",
       "    </tr>\n",
       "    <tr>\n",
       "      <td>2</td>\n",
       "      <td>1</td>\n",
       "      <td>0</td>\n",
       "      <td>female</td>\n",
       "      <td>2.00</td>\n",
       "      <td>1</td>\n",
       "      <td>2</td>\n",
       "      <td>113781</td>\n",
       "      <td>151.5500</td>\n",
       "      <td>C22 C26</td>\n",
       "      <td>Southampton</td>\n",
       "      <td>3</td>\n",
       "      <td>True</td>\n",
       "      <td>most expensive</td>\n",
       "      <td>Miss</td>\n",
       "      <td>Miss</td>\n",
       "      <td>child</td>\n",
       "      <td>C</td>\n",
       "    </tr>\n",
       "    <tr>\n",
       "      <td>3</td>\n",
       "      <td>1</td>\n",
       "      <td>0</td>\n",
       "      <td>male</td>\n",
       "      <td>30.00</td>\n",
       "      <td>1</td>\n",
       "      <td>2</td>\n",
       "      <td>113781</td>\n",
       "      <td>151.5500</td>\n",
       "      <td>C22 C26</td>\n",
       "      <td>Southampton</td>\n",
       "      <td>3</td>\n",
       "      <td>True</td>\n",
       "      <td>most expensive</td>\n",
       "      <td>Mr</td>\n",
       "      <td>Mr</td>\n",
       "      <td>adult</td>\n",
       "      <td>C</td>\n",
       "    </tr>\n",
       "    <tr>\n",
       "      <td>4</td>\n",
       "      <td>1</td>\n",
       "      <td>0</td>\n",
       "      <td>female</td>\n",
       "      <td>25.00</td>\n",
       "      <td>1</td>\n",
       "      <td>2</td>\n",
       "      <td>113781</td>\n",
       "      <td>151.5500</td>\n",
       "      <td>C22 C26</td>\n",
       "      <td>Southampton</td>\n",
       "      <td>3</td>\n",
       "      <td>True</td>\n",
       "      <td>most expensive</td>\n",
       "      <td>Mrs</td>\n",
       "      <td>Mrs</td>\n",
       "      <td>adult</td>\n",
       "      <td>C</td>\n",
       "    </tr>\n",
       "  </tbody>\n",
       "</table>\n",
       "</div>"
      ],
      "text/plain": [
       "   pclass  survived     sex    age  sibsp  parch  ticket      fare    cabin  \\\n",
       "0       1         1  female  29.00      0      0   24160  211.3375       B5   \n",
       "1       1         1    male   0.92      1      2  113781  151.5500  C22 C26   \n",
       "2       1         0  female   2.00      1      2  113781  151.5500  C22 C26   \n",
       "3       1         0    male  30.00      1      2  113781  151.5500  C22 C26   \n",
       "4       1         0  female  25.00      1      2  113781  151.5500  C22 C26   \n",
       "\n",
       "      embarked  family  has_family    fare_ordinal   title title_short  \\\n",
       "0  Southampton       0       False  most expensive    Miss        Miss   \n",
       "1  Southampton       3        True  most expensive  Master  rare title   \n",
       "2  Southampton       3        True  most expensive    Miss        Miss   \n",
       "3  Southampton       3        True  most expensive      Mr          Mr   \n",
       "4  Southampton       3        True  most expensive     Mrs         Mrs   \n",
       "\n",
       "  age_ordinal deck  \n",
       "0       adult    B  \n",
       "1       child    C  \n",
       "2       child    C  \n",
       "3       adult    C  \n",
       "4       adult    C  "
      ]
     },
     "execution_count": 2,
     "metadata": {},
     "output_type": "execute_result"
    }
   ],
   "source": [
    "titanic = pd.read_csv(\"../data/titanic-processed.csv\")\n",
    "titanic.head()"
   ]
  },
  {
   "cell_type": "code",
   "execution_count": 3,
   "metadata": {},
   "outputs": [
    {
     "data": {
      "image/png": "[encoded data removed]",
      "text/plain": [
       "<Figure size 432x288 with 1 Axes>"
      ]
     },
     "metadata": {
      "needs_background": "light"
     },
     "output_type": "display_data"
    }
   ],
   "source": [
    "# YOUR CODE HERE\n",
    "g = sns.distplot(titanic['fare'])"
   ]
  },
  {
   "cell_type": "code",
   "execution_count": 4,
   "metadata": {},
   "outputs": [
    {
     "data": {
      "image/png": "[encoded data removed]",
      "text/plain": [
       "<Figure size 432x288 with 1 Axes>"
      ]
     },
     "metadata": {
      "needs_background": "light"
     },
     "output_type": "display_data"
    }
   ],
   "source": [
    "# YOUR CODE HERE\n",
    "g = sns.boxplot(x='pclass', y='fare', data = titanic)"
   ]
  },
  {
   "cell_type": "code",
   "execution_count": 5,
   "metadata": {},
   "outputs": [
    {
     "data": {
      "image/png": "[encoded data removed]",
      "text/plain": [
       "<Figure size 432x288 with 1 Axes>"
      ]
     },
     "metadata": {
      "needs_background": "light"
     },
     "output_type": "display_data"
    }
   ],
   "source": [
    "# YOUR CODE HERE\n",
    "g = sns.scatterplot(x='age', y='fare', data=titanic)"
   ]
  },
  {
   "cell_type": "markdown",
   "metadata": {},
   "source": [
    "Okrem takýchto vizualizácií je možné outliery detegovať pomocou zhlukovacích algoritmov. V takom prípade je vhodné použiť takú metódu, ktorá nám deteguje málo-početné zhluky, ktoré sú vzdialené od štandardných príkladov. Na detekciu môžeme teda použiť metódy založené na hustote (ako napr. DBSCAN), kde nastavíme faktor vzdialenosti bodov patriacich do zhluku tak, aby sme odlíšili všetky štandardné príklady od tých vzdialených, ktoré považujeme za outliery. \n",
    "\n",
    "Na príklade datasetu Titanic si demonštrujeme použitie metódy DBSCAN pre detekciu outlierov z pohľadu atribútov `age` a `fare`. "
   ]
  },
  {
   "cell_type": "code",
   "execution_count": 6,
   "metadata": {},
   "outputs": [],
   "source": [
    "# predspracujeme dáta rovnako ako v píkladoch z predoškých cvičení:\n",
    "# - odstránime atribúty, ktoré nebudeme používať (napr. duplicitné)\n",
    "# - binárne a ordinálne atribúty namapujeme na indexy\n",
    "# - kategorické atribúty bez usporiadania transformujeme pomocou One Hot prístupu\n",
    "\n",
    "titanic = titanic.drop(columns=['cabin','deck','ticket','title'])\n",
    "titanic['sex'] = titanic['sex'].map({\"male\": 0, \"female\": 1})\n",
    "titanic['has_family'] = titanic['has_family'].map({False: 0, True: 1})\n",
    "titanic['fare_ordinal'] = titanic['fare_ordinal'].map({\"normal\": 0, \"more expensive\": 1, \"most expensive\": 2}) \n",
    "titanic['age_ordinal'] = titanic['age_ordinal'].map({\"child\": 0, \"young\": 1, \"adult\": 2, \"old\": 3}) \n",
    "titanic = pd.get_dummies(titanic, columns=['embarked', 'title_short'])"
   ]
  },
  {
   "cell_type": "markdown",
   "metadata": {},
   "source": [
    "Natrénujeme model DBSCAN s definovanou hodnotou parametra `eps`. Skúsime nájsť správnu hodnotu parametra tak, aby vhodne separovala príklady do zhlukov - cieľom je \"oddeliť\" ouliery od štandardných príkladov. \n",
    "\n",
    "Výsledky potom môžeme vykresliť pomocou Seaborn knižnice a jej bodového grafu (scatter plot). "
   ]
  },
  {
   "cell_type": "code",
   "execution_count": 7,
   "metadata": {},
   "outputs": [
    {
     "data": {
      "image/png": "[encoded data removed]",
      "text/plain": [
       "<Figure size 432x288 with 1 Axes>"
      ]
     },
     "metadata": {
      "needs_background": "light"
     },
     "output_type": "display_data"
    }
   ],
   "source": [
    "from sklearn.cluster import DBSCAN\n",
    "\n",
    "dbscan = DBSCAN(eps=100) # inicializujeme DBSCAN model pre definovanú hodnotu minimálnej vzdialenosti EPS nastavene na vzdialenost 100 - odlisi hlavne priklady podla atributu Fare vzhladom na jeho rozsah\n",
    "\n",
    "labels = dbscan.fit_predict(titanic) # natrénujeme model na vstupných dátach\n",
    "\n",
    "g = sns.scatterplot(x='age', y='fare', hue=labels, data=titanic) # vykreslíme bodový graf, farebne rozlíšený podľa zhlukov"
   ]
  },
  {
   "cell_type": "markdown",
   "metadata": {},
   "source": [
    "Okrem jednoduchých vizualizačných techník a nízko-rozmerných dát vieme použiť zhlukovanie na detekciu anomálií v dátach. Obvykle je tieto metódy dobré použiť aj tam, kde sa jedná o predikčnú úlohu s veľmi nevybalansovaným cieľovým atribútom - minoritnú triedu tak môžeme \"odhaliť\" pomocou zhlukovania.\n",
    "\n",
    "Ako príklad si ukážeme ako detegovať podozrivé transakcie v dátach popisujúcich transakcie vykonané pomocou kreditných kariet. \n",
    "\n",
    "Pochopenie a interpretácia dát je obtiažna - jedná sa o transformované príznaky, ktoré sú zakódované, vieme len, že sa jedná o atribúty platiteľa a samotnej platby. "
   ]
  },
  {
   "cell_type": "code",
   "execution_count": 8,
   "metadata": {},
   "outputs": [
    {
     "data": {
      "text/html": [
       "<div>\n",
       "<style scoped>\n",
       "    .dataframe tbody tr th:only-of-type {\n",
       "        vertical-align: middle;\n",
       "    }\n",
       "\n",
       "    .dataframe tbody tr th {\n",
       "        vertical-align: top;\n",
       "    }\n",
       "\n",
       "    .dataframe thead th {\n",
       "        text-align: right;\n",
       "    }\n",
       "</style>\n",
       "<table border=\"1\" class=\"dataframe\">\n",
       "  <thead>\n",
       "    <tr style=\"text-align: right;\">\n",
       "      <th></th>\n",
       "      <th>Time</th>\n",
       "      <th>V1</th>\n",
       "      <th>V2</th>\n",
       "      <th>V3</th>\n",
       "      <th>V4</th>\n",
       "      <th>V5</th>\n",
       "      <th>V6</th>\n",
       "      <th>V7</th>\n",
       "      <th>V8</th>\n",
       "      <th>V9</th>\n",
       "      <th>...</th>\n",
       "      <th>V21</th>\n",
       "      <th>V22</th>\n",
       "      <th>V23</th>\n",
       "      <th>V24</th>\n",
       "      <th>V25</th>\n",
       "      <th>V26</th>\n",
       "      <th>V27</th>\n",
       "      <th>V28</th>\n",
       "      <th>Amount</th>\n",
       "      <th>Class</th>\n",
       "    </tr>\n",
       "  </thead>\n",
       "  <tbody>\n",
       "    <tr>\n",
       "      <td>0</td>\n",
       "      <td>57059.0</td>\n",
       "      <td>-1.676914</td>\n",
       "      <td>1.833189</td>\n",
       "      <td>1.064455</td>\n",
       "      <td>1.022677</td>\n",
       "      <td>-0.348515</td>\n",
       "      <td>-0.260089</td>\n",
       "      <td>0.571703</td>\n",
       "      <td>0.087740</td>\n",
       "      <td>1.389579</td>\n",
       "      <td>...</td>\n",
       "      <td>-0.284230</td>\n",
       "      <td>0.003012</td>\n",
       "      <td>-0.050973</td>\n",
       "      <td>0.326058</td>\n",
       "      <td>0.057656</td>\n",
       "      <td>-0.234956</td>\n",
       "      <td>0.878143</td>\n",
       "      <td>0.360395</td>\n",
       "      <td>4.49</td>\n",
       "      <td>0</td>\n",
       "    </tr>\n",
       "    <tr>\n",
       "      <td>1</td>\n",
       "      <td>51852.0</td>\n",
       "      <td>0.924950</td>\n",
       "      <td>-0.213837</td>\n",
       "      <td>-0.032731</td>\n",
       "      <td>1.319221</td>\n",
       "      <td>-0.197841</td>\n",
       "      <td>-0.383864</td>\n",
       "      <td>0.377383</td>\n",
       "      <td>-0.101001</td>\n",
       "      <td>0.201356</td>\n",
       "      <td>...</td>\n",
       "      <td>0.071886</td>\n",
       "      <td>0.051645</td>\n",
       "      <td>-0.237300</td>\n",
       "      <td>0.092543</td>\n",
       "      <td>0.697644</td>\n",
       "      <td>-0.260243</td>\n",
       "      <td>-0.004321</td>\n",
       "      <td>0.033677</td>\n",
       "      <td>146.05</td>\n",
       "      <td>0</td>\n",
       "    </tr>\n",
       "    <tr>\n",
       "      <td>2</td>\n",
       "      <td>156827.0</td>\n",
       "      <td>2.122316</td>\n",
       "      <td>-0.962503</td>\n",
       "      <td>-2.525940</td>\n",
       "      <td>-1.676110</td>\n",
       "      <td>1.626630</td>\n",
       "      <td>3.408812</td>\n",
       "      <td>-1.529461</td>\n",
       "      <td>0.941478</td>\n",
       "      <td>-0.095372</td>\n",
       "      <td>...</td>\n",
       "      <td>0.238221</td>\n",
       "      <td>0.661569</td>\n",
       "      <td>0.142103</td>\n",
       "      <td>0.604128</td>\n",
       "      <td>-0.112563</td>\n",
       "      <td>-0.067314</td>\n",
       "      <td>0.048173</td>\n",
       "      <td>-0.017584</td>\n",
       "      <td>19.95</td>\n",
       "      <td>0</td>\n",
       "    </tr>\n",
       "    <tr>\n",
       "      <td>3</td>\n",
       "      <td>29665.0</td>\n",
       "      <td>-0.312036</td>\n",
       "      <td>0.985183</td>\n",
       "      <td>0.825916</td>\n",
       "      <td>-0.214672</td>\n",
       "      <td>0.619764</td>\n",
       "      <td>0.033632</td>\n",
       "      <td>0.534933</td>\n",
       "      <td>0.189402</td>\n",
       "      <td>-0.172033</td>\n",
       "      <td>...</td>\n",
       "      <td>-0.315258</td>\n",
       "      <td>-0.845000</td>\n",
       "      <td>-0.101595</td>\n",
       "      <td>-1.013687</td>\n",
       "      <td>-0.134905</td>\n",
       "      <td>0.167538</td>\n",
       "      <td>0.254659</td>\n",
       "      <td>0.082334</td>\n",
       "      <td>1.29</td>\n",
       "      <td>0</td>\n",
       "    </tr>\n",
       "    <tr>\n",
       "      <td>4</td>\n",
       "      <td>93556.0</td>\n",
       "      <td>1.945526</td>\n",
       "      <td>0.443728</td>\n",
       "      <td>-1.480387</td>\n",
       "      <td>1.663597</td>\n",
       "      <td>0.422412</td>\n",
       "      <td>-1.158939</td>\n",
       "      <td>0.295986</td>\n",
       "      <td>-0.444085</td>\n",
       "      <td>1.439472</td>\n",
       "      <td>...</td>\n",
       "      <td>0.086364</td>\n",
       "      <td>0.600263</td>\n",
       "      <td>-0.044614</td>\n",
       "      <td>-0.156026</td>\n",
       "      <td>0.270776</td>\n",
       "      <td>-0.459994</td>\n",
       "      <td>-0.006162</td>\n",
       "      <td>-0.023219</td>\n",
       "      <td>39.00</td>\n",
       "      <td>0</td>\n",
       "    </tr>\n",
       "  </tbody>\n",
       "</table>\n",
       "<p>5 rows × 31 columns</p>\n",
       "</div>"
      ],
      "text/plain": [
       "       Time        V1        V2        V3        V4        V5        V6  \\\n",
       "0   57059.0 -1.676914  1.833189  1.064455  1.022677 -0.348515 -0.260089   \n",
       "1   51852.0  0.924950 -0.213837 -0.032731  1.319221 -0.197841 -0.383864   \n",
       "2  156827.0  2.122316 -0.962503 -2.525940 -1.676110  1.626630  3.408812   \n",
       "3   29665.0 -0.312036  0.985183  0.825916 -0.214672  0.619764  0.033632   \n",
       "4   93556.0  1.945526  0.443728 -1.480387  1.663597  0.422412 -1.158939   \n",
       "\n",
       "         V7        V8        V9  ...       V21       V22       V23       V24  \\\n",
       "0  0.571703  0.087740  1.389579  ... -0.284230  0.003012 -0.050973  0.326058   \n",
       "1  0.377383 -0.101001  0.201356  ...  0.071886  0.051645 -0.237300  0.092543   \n",
       "2 -1.529461  0.941478 -0.095372  ...  0.238221  0.661569  0.142103  0.604128   \n",
       "3  0.534933  0.189402 -0.172033  ... -0.315258 -0.845000 -0.101595 -1.013687   \n",
       "4  0.295986 -0.444085  1.439472  ...  0.086364  0.600263 -0.044614 -0.156026   \n",
       "\n",
       "        V25       V26       V27       V28  Amount  Class  \n",
       "0  0.057656 -0.234956  0.878143  0.360395    4.49      0  \n",
       "1  0.697644 -0.260243 -0.004321  0.033677  146.05      0  \n",
       "2 -0.112563 -0.067314  0.048173 -0.017584   19.95      0  \n",
       "3 -0.134905  0.167538  0.254659  0.082334    1.29      0  \n",
       "4  0.270776 -0.459994 -0.006162 -0.023219   39.00      0  \n",
       "\n",
       "[5 rows x 31 columns]"
      ]
     },
     "execution_count": 8,
     "metadata": {},
     "output_type": "execute_result"
    }
   ],
   "source": [
    "from sklearn.preprocessing import normalize # importujeme používané knižnice\n",
    "from sklearn.metrics import confusion_matrix\n",
    "\n",
    "data=pd.read_csv(\"../data/creditcard.csv\") # načítame dáta do dátového rámca zo súboru\n",
    "data.head() # vypíšeme na obrazovku prvých 5 záznamov"
   ]
  },
  {
   "cell_type": "markdown",
   "metadata": {},
   "source": [
    "Pozrieme sa na distribúciu cieľového atribútu:"
   ]
  },
  {
   "cell_type": "code",
   "execution_count": 9,
   "metadata": {},
   "outputs": [
    {
     "name": "stdout",
     "output_type": "stream",
     "text": [
      "0    28425\n",
      "1       56\n",
      "Name: Class, dtype: int64\n"
     ]
    }
   ],
   "source": [
    "print(data[\"Class\"].value_counts())"
   ]
  },
  {
   "cell_type": "code",
   "execution_count": 10,
   "metadata": {},
   "outputs": [
    {
     "data": {
      "image/png": "[encoded data removed]",
      "text/plain": [
       "<Figure size 432x288 with 1 Axes>"
      ]
     },
     "metadata": {
      "needs_background": "light"
     },
     "output_type": "display_data"
    }
   ],
   "source": [
    "g = sns.countplot(x='Class', data=data)"
   ]
  },
  {
   "cell_type": "markdown",
   "metadata": {},
   "source": [
    "Pre urýchlenie trénovania modelov skúsime vybrať vzorku z týchto dát."
   ]
  },
  {
   "cell_type": "code",
   "execution_count": 74,
   "metadata": {},
   "outputs": [],
   "source": [
    "data_sampled = data.sample(frac =.50) # príkazom sample si vytvoríme 10 percentnú vzorku z celej množiny dát"
   ]
  },
  {
   "cell_type": "code",
   "execution_count": 75,
   "metadata": {},
   "outputs": [
    {
     "data": {
      "text/plain": [
       "0    14214\n",
       "1       26\n",
       "Name: Class, dtype: int64"
      ]
     },
     "execution_count": 75,
     "metadata": {},
     "output_type": "execute_result"
    }
   ],
   "source": [
    "data_sampled[\"Class\"].value_counts() # skontrolujeme, či sa zachoval pomer hodnôt cieľového atribútu"
   ]
  },
  {
   "cell_type": "markdown",
   "metadata": {},
   "source": [
    "Dataset transformujeme rovnako ako pri predikčných úlohách - odseparujeme si maticu príznakov a vektor hodnôt cieľového atribútu `Class`. Ten môžeme potom použiť pre verifikáciu. "
   ]
  },
  {
   "cell_type": "code",
   "execution_count": 76,
   "metadata": {},
   "outputs": [],
   "source": [
    "features=data_sampled.drop([\"Time\",\"Class\"],axis=1)\n",
    "labels=pd.DataFrame(data_sampled[[\"Class\"]])"
   ]
  },
  {
   "cell_type": "markdown",
   "metadata": {},
   "source": [
    "Dátový rámec s maticou príznakov normalizujeme."
   ]
  },
  {
   "cell_type": "code",
   "execution_count": 77,
   "metadata": {},
   "outputs": [],
   "source": [
    "from sklearn.preprocessing import normalize\n",
    "features=normalize(features)"
   ]
  },
  {
   "cell_type": "markdown",
   "metadata": {},
   "source": [
    "Teraz skúsime natrénovať zhlukovací model. Cheme natrénovať model tak, aby nám oddelil vhodným spôsobom triedy predstavujúce anomálie od majoritných transakcií. Porovnáme potom výsledky zhlukovania so skutočnými hodnotami, ktoré uchovávame vo vektore hodnôt cieľového atribútu."
   ]
  },
  {
   "cell_type": "code",
   "execution_count": 78,
   "metadata": {},
   "outputs": [],
   "source": [
    "from sklearn.cluster import KMeans\n",
    "from sklearn.cluster import DBSCAN\n",
    "\n",
    "#kmeans=KMeans(n_clusters=2, max_iter=300)\n",
    "#kmeans.fit(features)\n",
    "#y_kmeans=kmeans.predict(features)\n",
    "\n",
    "dbscan = DBSCAN(eps=0.9)\n",
    "y_dbscan = dbscan.fit_predict(features)"
   ]
  },
  {
   "cell_type": "markdown",
   "metadata": {},
   "source": [
    "Výsledky zhlukovania môžeme vyjadriť aj početnosťou zhlukov. Tá nám dá aspoň približný odhad kvality zhlukovacieho modelu (pomer príkladov v zhlukoch). Samozjreme, nehovorí ešte nič o tom, či príklady v jednotlivých zhlukoch skutočne zodpovedajú aj priradeniu tried. "
   ]
  },
  {
   "cell_type": "code",
   "execution_count": 79,
   "metadata": {},
   "outputs": [
    {
     "name": "stdout",
     "output_type": "stream",
     "text": [
      "[[    0]\n",
      " [14240]]\n"
     ]
    }
   ],
   "source": [
    "#clusters, counts = np.unique(y_kmeans, return_counts=True) # pomocou funkcie unique identifikujeme rôzne hodnoty a vrátime aj ich počty\n",
    "#print(np.asarray((clusters, counts))) \n",
    "\n",
    "clusters, counts = np.unique(y_dbscan, return_counts=True) # pomocou funkcie unique identifikujeme rôzne hodnoty a vrátime aj ich počty\n",
    "print(np.asarray((clusters, counts))) "
   ]
  },
  {
   "cell_type": "code",
   "execution_count": 80,
   "metadata": {},
   "outputs": [
    {
     "name": "stdout",
     "output_type": "stream",
     "text": [
      "[[14214     0]\n",
      " [   26     0]]\n"
     ]
    }
   ],
   "source": [
    "#print(confusion_matrix(labels,y_kmeans))\n",
    "\n",
    "y_dbscan[y_dbscan == -1] = 1\n",
    "print(confusion_matrix(labels == 1,y_dbscan == -1))"
   ]
  },
  {
   "cell_type": "code",
   "execution_count": 73,
   "metadata": {},
   "outputs": [
    {
     "name": "stdout",
     "output_type": "stream",
     "text": [
      "0.0019700967458223394\n"
     ]
    }
   ],
   "source": [
    "Fraud = data[data['Class']==1]\n",
    "Valid = data[data['Class']==0]\n",
    "\n",
    "outlier_fraction = len(Fraud)/float(len(Valid))\n",
    "print(outlier_fraction)"
   ]
  },
  {
   "cell_type": "markdown",
   "metadata": {},
   "source": [
    "Pre hľadanie outlierov môžeme použiť aj metódu Local Outlier Factor."
   ]
  },
  {
   "cell_type": "code",
   "execution_count": 65,
   "metadata": {},
   "outputs": [],
   "source": [
    "from sklearn.neighbors import LocalOutlierFactor # importujeme knižnice\n",
    "\n",
    "lof = LocalOutlierFactor(n_neighbors=30, contamination = outlier_fraction) # vytvoríme model, počíta sa hustota v okolí každého príkladu (počet susedov)\n",
    "y_lof = lof.fit_predict(features) # natrénujeme model\n",
    "#scores_prediction = lof.negative_outlier_factor_ "
   ]
  },
  {
   "cell_type": "code",
   "execution_count": 66,
   "metadata": {},
   "outputs": [
    {
     "name": "stdout",
     "output_type": "stream",
     "text": [
      "[[5673    7]\n",
      " [  11    5]]\n"
     ]
    }
   ],
   "source": [
    "y_lof[y_lof == 1] = 0\n",
    "y_lof[y_lof == -1] = 1\n",
    "\n",
    "print(confusion_matrix(labels,y_lof))"
   ]
  },
  {
   "cell_type": "code",
   "execution_count": null,
   "metadata": {},
   "outputs": [],
   "source": []
  },
  {
   "cell_type": "code",
   "execution_count": null,
   "metadata": {},
   "outputs": [],
   "source": []
  }
 ],
 "metadata": {
  "kernelspec": {
   "display_name": "Python 3",
   "language": "python",
   "name": "python3"
  },
  "language_info": {
   "codemirror_mode": {
    "name": "ipython",
    "version": 3
   },
   "file_extension": ".py",
   "mimetype": "text/x-python",
   "name": "python",
   "nbconvert_exporter": "python",
   "pygments_lexer": "ipython3",
   "version": "3.7.4"
  }
 },
 "nbformat": 4,
 "nbformat_minor": 4
}
