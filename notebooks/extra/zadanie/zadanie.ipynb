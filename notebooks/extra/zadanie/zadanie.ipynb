{
 "cells": [
  {
   "cell_type": "markdown",
   "metadata": {},
   "source": [
    "### Zadanie\n",
    "\n",
    "1. Načítajte súbor `Accidents.csv`, rozdeľte ho na tri tabuľky podľa hodnôt atribútu `Accident_Severity` (do prvej tabuľky vyberte iba hodnoty 1 - `Fatal`, do druhej 2 - `Serious` a do tretej 3 - `Slight`). (2b)\n",
    "\n"
   ]
  },
  {
   "cell_type": "code",
   "execution_count": 45,
   "metadata": {},
   "outputs": [],
   "source": [
    "import pandas as pd\n",
    "import numpy as np\n",
    "import matplotlib.pyplot as plt\n",
    "import seaborn as sns\n",
    "\n",
    "%matplotlib inline\n",
    "sns.set()\n",
    "\n",
    "data_accidents = pd.read_csv(\"data/Accidents.csv\")\n",
    "\n",
    "fatal = data_accidents.query(\"Accident_Severity == 1\")\n",
    "serious = data_accidents.query(\"Accident_Severity == 2\")\n",
    "slight = data_accidents.query(\"Accident_Severity == 3\")\n"
   ]
  },
  {
   "cell_type": "markdown",
   "metadata": {},
   "source": [
    "2. Z tabuľky pre hodnoty `Slight` náhodne vyberte 10% príkladov pomocou metódy `sample`. Nasledujúci príklad kódu zobrazuje použitie tejto metódy. (2b)"
   ]
  },
  {
   "cell_type": "code",
   "execution_count": 46,
   "metadata": {},
   "outputs": [
    {
     "data": {
      "text/html": [
       "<div>\n",
       "<style scoped>\n",
       "    .dataframe tbody tr th:only-of-type {\n",
       "        vertical-align: middle;\n",
       "    }\n",
       "\n",
       "    .dataframe tbody tr th {\n",
       "        vertical-align: top;\n",
       "    }\n",
       "\n",
       "    .dataframe thead th {\n",
       "        text-align: right;\n",
       "    }\n",
       "</style>\n",
       "<table border=\"1\" class=\"dataframe\">\n",
       "  <thead>\n",
       "    <tr style=\"text-align: right;\">\n",
       "      <th></th>\n",
       "      <th>Accident_Index</th>\n",
       "      <th>Location_Easting_OSGR</th>\n",
       "      <th>Location_Northing_OSGR</th>\n",
       "      <th>Longitude</th>\n",
       "      <th>Latitude</th>\n",
       "      <th>Police_Force</th>\n",
       "      <th>Accident_Severity</th>\n",
       "      <th>Number_of_Vehicles</th>\n",
       "      <th>Number_of_Casualties</th>\n",
       "      <th>Date</th>\n",
       "      <th>...</th>\n",
       "      <th>Pedestrian_Crossing-Human_Control</th>\n",
       "      <th>Pedestrian_Crossing-Physical_Facilities</th>\n",
       "      <th>Light_Conditions</th>\n",
       "      <th>Weather_Conditions</th>\n",
       "      <th>Road_Surface_Conditions</th>\n",
       "      <th>Special_Conditions_at_Site</th>\n",
       "      <th>Carriageway_Hazards</th>\n",
       "      <th>Urban_or_Rural_Area</th>\n",
       "      <th>Did_Police_Officer_Attend_Scene_of_Accident</th>\n",
       "      <th>LSOA_of_Accident_Location</th>\n",
       "    </tr>\n",
       "  </thead>\n",
       "  <tbody>\n",
       "    <tr>\n",
       "      <th>155162</th>\n",
       "      <td>2005470503765</td>\n",
       "      <td>579630.0</td>\n",
       "      <td>111550.0</td>\n",
       "      <td>0.551871</td>\n",
       "      <td>50.875462</td>\n",
       "      <td>47</td>\n",
       "      <td>3</td>\n",
       "      <td>2</td>\n",
       "      <td>1</td>\n",
       "      <td>16/05/2005</td>\n",
       "      <td>...</td>\n",
       "      <td>0</td>\n",
       "      <td>0</td>\n",
       "      <td>1</td>\n",
       "      <td>8</td>\n",
       "      <td>1</td>\n",
       "      <td>0</td>\n",
       "      <td>0</td>\n",
       "      <td>1</td>\n",
       "      <td>2</td>\n",
       "      <td>E01020993</td>\n",
       "    </tr>\n",
       "    <tr>\n",
       "      <th>169895</th>\n",
       "      <td>2005520168041</td>\n",
       "      <td>362930.0</td>\n",
       "      <td>181790.0</td>\n",
       "      <td>-2.535853</td>\n",
       "      <td>51.533742</td>\n",
       "      <td>52</td>\n",
       "      <td>3</td>\n",
       "      <td>4</td>\n",
       "      <td>4</td>\n",
       "      <td>15/12/2005</td>\n",
       "      <td>...</td>\n",
       "      <td>0</td>\n",
       "      <td>0</td>\n",
       "      <td>1</td>\n",
       "      <td>1</td>\n",
       "      <td>2</td>\n",
       "      <td>4</td>\n",
       "      <td>0</td>\n",
       "      <td>2</td>\n",
       "      <td>1</td>\n",
       "      <td>E01015000</td>\n",
       "    </tr>\n",
       "    <tr>\n",
       "      <th>56535</th>\n",
       "      <td>2005100970605</td>\n",
       "      <td>439700.0</td>\n",
       "      <td>558790.0</td>\n",
       "      <td>-1.382107</td>\n",
       "      <td>54.922251</td>\n",
       "      <td>10</td>\n",
       "      <td>3</td>\n",
       "      <td>2</td>\n",
       "      <td>1</td>\n",
       "      <td>06/12/2005</td>\n",
       "      <td>...</td>\n",
       "      <td>0</td>\n",
       "      <td>0</td>\n",
       "      <td>4</td>\n",
       "      <td>2</td>\n",
       "      <td>2</td>\n",
       "      <td>0</td>\n",
       "      <td>0</td>\n",
       "      <td>1</td>\n",
       "      <td>1</td>\n",
       "      <td>E01008788</td>\n",
       "    </tr>\n",
       "    <tr>\n",
       "      <th>54293</th>\n",
       "      <td>2005100470005</td>\n",
       "      <td>418770.0</td>\n",
       "      <td>570480.0</td>\n",
       "      <td>-1.707898</td>\n",
       "      <td>55.028522</td>\n",
       "      <td>10</td>\n",
       "      <td>3</td>\n",
       "      <td>2</td>\n",
       "      <td>1</td>\n",
       "      <td>21/06/2005</td>\n",
       "      <td>...</td>\n",
       "      <td>0</td>\n",
       "      <td>0</td>\n",
       "      <td>6</td>\n",
       "      <td>1</td>\n",
       "      <td>1</td>\n",
       "      <td>0</td>\n",
       "      <td>6</td>\n",
       "      <td>2</td>\n",
       "      <td>1</td>\n",
       "      <td>E01008458</td>\n",
       "    </tr>\n",
       "    <tr>\n",
       "      <th>29150</th>\n",
       "      <td>200504AM05035</td>\n",
       "      <td>332570.0</td>\n",
       "      <td>434320.0</td>\n",
       "      <td>-3.025298</td>\n",
       "      <td>53.800791</td>\n",
       "      <td>4</td>\n",
       "      <td>3</td>\n",
       "      <td>1</td>\n",
       "      <td>1</td>\n",
       "      <td>28/06/2005</td>\n",
       "      <td>...</td>\n",
       "      <td>0</td>\n",
       "      <td>0</td>\n",
       "      <td>1</td>\n",
       "      <td>1</td>\n",
       "      <td>1</td>\n",
       "      <td>0</td>\n",
       "      <td>0</td>\n",
       "      <td>1</td>\n",
       "      <td>1</td>\n",
       "      <td>E01012696</td>\n",
       "    </tr>\n",
       "  </tbody>\n",
       "</table>\n",
       "<p>5 rows × 32 columns</p>\n",
       "</div>"
      ],
      "text/plain": [
       "       Accident_Index  Location_Easting_OSGR  Location_Northing_OSGR  \\\n",
       "155162  2005470503765               579630.0                111550.0   \n",
       "169895  2005520168041               362930.0                181790.0   \n",
       "56535   2005100970605               439700.0                558790.0   \n",
       "54293   2005100470005               418770.0                570480.0   \n",
       "29150   200504AM05035               332570.0                434320.0   \n",
       "\n",
       "        Longitude   Latitude  Police_Force  Accident_Severity  \\\n",
       "155162   0.551871  50.875462            47                  3   \n",
       "169895  -2.535853  51.533742            52                  3   \n",
       "56535   -1.382107  54.922251            10                  3   \n",
       "54293   -1.707898  55.028522            10                  3   \n",
       "29150   -3.025298  53.800791             4                  3   \n",
       "\n",
       "        Number_of_Vehicles  Number_of_Casualties        Date  ...  \\\n",
       "155162                   2                     1  16/05/2005  ...   \n",
       "169895                   4                     4  15/12/2005  ...   \n",
       "56535                    2                     1  06/12/2005  ...   \n",
       "54293                    2                     1  21/06/2005  ...   \n",
       "29150                    1                     1  28/06/2005  ...   \n",
       "\n",
       "        Pedestrian_Crossing-Human_Control  \\\n",
       "155162                                  0   \n",
       "169895                                  0   \n",
       "56535                                   0   \n",
       "54293                                   0   \n",
       "29150                                   0   \n",
       "\n",
       "       Pedestrian_Crossing-Physical_Facilities  Light_Conditions  \\\n",
       "155162                                       0                 1   \n",
       "169895                                       0                 1   \n",
       "56535                                        0                 4   \n",
       "54293                                        0                 6   \n",
       "29150                                        0                 1   \n",
       "\n",
       "       Weather_Conditions  Road_Surface_Conditions  \\\n",
       "155162                  8                        1   \n",
       "169895                  1                        2   \n",
       "56535                   2                        2   \n",
       "54293                   1                        1   \n",
       "29150                   1                        1   \n",
       "\n",
       "        Special_Conditions_at_Site  Carriageway_Hazards  Urban_or_Rural_Area  \\\n",
       "155162                           0                    0                    1   \n",
       "169895                           4                    0                    2   \n",
       "56535                            0                    0                    1   \n",
       "54293                            0                    6                    2   \n",
       "29150                            0                    0                    1   \n",
       "\n",
       "        Did_Police_Officer_Attend_Scene_of_Accident  LSOA_of_Accident_Location  \n",
       "155162                                            2                  E01020993  \n",
       "169895                                            1                  E01015000  \n",
       "56535                                             1                  E01008788  \n",
       "54293                                             1                  E01008458  \n",
       "29150                                             1                  E01012696  \n",
       "\n",
       "[5 rows x 32 columns]"
      ]
     },
     "execution_count": 46,
     "metadata": {},
     "output_type": "execute_result"
    }
   ],
   "source": [
    "sample_slight = slight.sample(frac=0.1, random_state=1234)\n",
    "sample_slight.head()\n"
   ]
  },
  {
   "cell_type": "markdown",
   "metadata": {},
   "source": [
    "3. Spojte všetky tri tabuľky do upravenej tabuľky `Accidents`, ktorá bude obsahovať 10% príkladov `Slight` a všetky príklady závažnosti `Fatal` a `Serious`. Po spojení by ste mali mať 45 021 príkladov. (2b)"
   ]
  },
  {
   "cell_type": "code",
   "execution_count": 47,
   "metadata": {},
   "outputs": [
    {
     "name": "stdout",
     "output_type": "stream",
     "text": [
      "45021\n"
     ]
    }
   ],
   "source": [
    "accidents = pd.concat([fatal, serious, sample_slight], ignore_index=True, sort=False)\n",
    "print(accidents.shape[0])\n"
   ]
  },
  {
   "cell_type": "markdown",
   "metadata": {},
   "source": [
    "4. Spojte upravenú tabuľku `Accidents` s tabuľkou `Vehicles` podľa kľúča `Accident_Index` tak, aby vo výslednej tabuľke boli iba vozidla nehôd z upravenej tabuľky `Accidents`. Po spojení by ste mali dostať redukovanú trénovaciu množinu s menším počtom príkladov, ktorú budete ďalej používať pre analýzu dát. Keďže sme zmenšili počet menej závažných príkladov, zvýšili sme tým váhu príkladov s väčšou závažnosťou. (2b)\n"
   ]
  },
  {
   "cell_type": "code",
   "execution_count": 48,
   "metadata": {},
   "outputs": [
    {
     "name": "stdout",
     "output_type": "stream",
     "text": [
      "45021 366236 79382\n"
     ]
    },
    {
     "data": {
      "text/html": [
       "<div>\n",
       "<style scoped>\n",
       "    .dataframe tbody tr th:only-of-type {\n",
       "        vertical-align: middle;\n",
       "    }\n",
       "\n",
       "    .dataframe tbody tr th {\n",
       "        vertical-align: top;\n",
       "    }\n",
       "\n",
       "    .dataframe thead th {\n",
       "        text-align: right;\n",
       "    }\n",
       "</style>\n",
       "<table border=\"1\" class=\"dataframe\">\n",
       "  <thead>\n",
       "    <tr style=\"text-align: right;\">\n",
       "      <th></th>\n",
       "      <th>Accident_Index</th>\n",
       "      <th>Location_Easting_OSGR</th>\n",
       "      <th>Location_Northing_OSGR</th>\n",
       "      <th>Longitude</th>\n",
       "      <th>Latitude</th>\n",
       "      <th>Police_Force</th>\n",
       "      <th>Accident_Severity</th>\n",
       "      <th>Number_of_Vehicles</th>\n",
       "      <th>Number_of_Casualties</th>\n",
       "      <th>Date</th>\n",
       "      <th>...</th>\n",
       "      <th>Was_Vehicle_Left_Hand_Drive?</th>\n",
       "      <th>Journey_Purpose_of_Driver</th>\n",
       "      <th>Sex_of_Driver</th>\n",
       "      <th>Age_of_Driver</th>\n",
       "      <th>Age_Band_of_Driver</th>\n",
       "      <th>Engine_Capacity_(CC)</th>\n",
       "      <th>Propulsion_Code</th>\n",
       "      <th>Age_of_Vehicle</th>\n",
       "      <th>Driver_IMD_Decile</th>\n",
       "      <th>Driver_Home_Area_Type</th>\n",
       "    </tr>\n",
       "  </thead>\n",
       "  <tbody>\n",
       "    <tr>\n",
       "      <th>0</th>\n",
       "      <td>200501CP00085</td>\n",
       "      <td>532120.0</td>\n",
       "      <td>181370.0</td>\n",
       "      <td>-0.097293</td>\n",
       "      <td>51.515757</td>\n",
       "      <td>48</td>\n",
       "      <td>1</td>\n",
       "      <td>2</td>\n",
       "      <td>2</td>\n",
       "      <td>18/05/2005</td>\n",
       "      <td>...</td>\n",
       "      <td>1</td>\n",
       "      <td>2</td>\n",
       "      <td>1</td>\n",
       "      <td>40</td>\n",
       "      <td>7</td>\n",
       "      <td>984</td>\n",
       "      <td>1</td>\n",
       "      <td>-1</td>\n",
       "      <td>6</td>\n",
       "      <td>1</td>\n",
       "    </tr>\n",
       "    <tr>\n",
       "      <th>1</th>\n",
       "      <td>200501CP00085</td>\n",
       "      <td>532120.0</td>\n",
       "      <td>181370.0</td>\n",
       "      <td>-0.097293</td>\n",
       "      <td>51.515757</td>\n",
       "      <td>48</td>\n",
       "      <td>1</td>\n",
       "      <td>2</td>\n",
       "      <td>2</td>\n",
       "      <td>18/05/2005</td>\n",
       "      <td>...</td>\n",
       "      <td>1</td>\n",
       "      <td>2</td>\n",
       "      <td>1</td>\n",
       "      <td>20</td>\n",
       "      <td>4</td>\n",
       "      <td>-1</td>\n",
       "      <td>-1</td>\n",
       "      <td>-1</td>\n",
       "      <td>-1</td>\n",
       "      <td>-1</td>\n",
       "    </tr>\n",
       "    <tr>\n",
       "      <th>2</th>\n",
       "      <td>200501RY10515</td>\n",
       "      <td>545840.0</td>\n",
       "      <td>175950.0</td>\n",
       "      <td>0.098065</td>\n",
       "      <td>51.463682</td>\n",
       "      <td>1</td>\n",
       "      <td>1</td>\n",
       "      <td>1</td>\n",
       "      <td>1</td>\n",
       "      <td>09/11/2005</td>\n",
       "      <td>...</td>\n",
       "      <td>1</td>\n",
       "      <td>15</td>\n",
       "      <td>1</td>\n",
       "      <td>59</td>\n",
       "      <td>9</td>\n",
       "      <td>9600</td>\n",
       "      <td>2</td>\n",
       "      <td>5</td>\n",
       "      <td>3</td>\n",
       "      <td>1</td>\n",
       "    </tr>\n",
       "    <tr>\n",
       "      <th>3</th>\n",
       "      <td>200501TA00003</td>\n",
       "      <td>526450.0</td>\n",
       "      <td>182350.0</td>\n",
       "      <td>-0.178613</td>\n",
       "      <td>51.525861</td>\n",
       "      <td>1</td>\n",
       "      <td>1</td>\n",
       "      <td>2</td>\n",
       "      <td>1</td>\n",
       "      <td>06/01/2005</td>\n",
       "      <td>...</td>\n",
       "      <td>1</td>\n",
       "      <td>15</td>\n",
       "      <td>1</td>\n",
       "      <td>25</td>\n",
       "      <td>5</td>\n",
       "      <td>-1</td>\n",
       "      <td>-1</td>\n",
       "      <td>-1</td>\n",
       "      <td>-1</td>\n",
       "      <td>-1</td>\n",
       "    </tr>\n",
       "    <tr>\n",
       "      <th>4</th>\n",
       "      <td>200501TA00003</td>\n",
       "      <td>526450.0</td>\n",
       "      <td>182350.0</td>\n",
       "      <td>-0.178613</td>\n",
       "      <td>51.525861</td>\n",
       "      <td>1</td>\n",
       "      <td>1</td>\n",
       "      <td>2</td>\n",
       "      <td>1</td>\n",
       "      <td>06/01/2005</td>\n",
       "      <td>...</td>\n",
       "      <td>1</td>\n",
       "      <td>15</td>\n",
       "      <td>1</td>\n",
       "      <td>29</td>\n",
       "      <td>6</td>\n",
       "      <td>1596</td>\n",
       "      <td>1</td>\n",
       "      <td>3</td>\n",
       "      <td>5</td>\n",
       "      <td>1</td>\n",
       "    </tr>\n",
       "  </tbody>\n",
       "</table>\n",
       "<p>5 rows × 53 columns</p>\n",
       "</div>"
      ],
      "text/plain": [
       "  Accident_Index  Location_Easting_OSGR  Location_Northing_OSGR  Longitude  \\\n",
       "0  200501CP00085               532120.0                181370.0  -0.097293   \n",
       "1  200501CP00085               532120.0                181370.0  -0.097293   \n",
       "2  200501RY10515               545840.0                175950.0   0.098065   \n",
       "3  200501TA00003               526450.0                182350.0  -0.178613   \n",
       "4  200501TA00003               526450.0                182350.0  -0.178613   \n",
       "\n",
       "    Latitude  Police_Force  Accident_Severity  Number_of_Vehicles  \\\n",
       "0  51.515757            48                  1                   2   \n",
       "1  51.515757            48                  1                   2   \n",
       "2  51.463682             1                  1                   1   \n",
       "3  51.525861             1                  1                   2   \n",
       "4  51.525861             1                  1                   2   \n",
       "\n",
       "   Number_of_Casualties        Date  ...  Was_Vehicle_Left_Hand_Drive?  \\\n",
       "0                     2  18/05/2005  ...                             1   \n",
       "1                     2  18/05/2005  ...                             1   \n",
       "2                     1  09/11/2005  ...                             1   \n",
       "3                     1  06/01/2005  ...                             1   \n",
       "4                     1  06/01/2005  ...                             1   \n",
       "\n",
       "  Journey_Purpose_of_Driver  Sex_of_Driver Age_of_Driver  Age_Band_of_Driver  \\\n",
       "0                         2              1            40                   7   \n",
       "1                         2              1            20                   4   \n",
       "2                        15              1            59                   9   \n",
       "3                        15              1            25                   5   \n",
       "4                        15              1            29                   6   \n",
       "\n",
       "   Engine_Capacity_(CC)  Propulsion_Code  Age_of_Vehicle  Driver_IMD_Decile  \\\n",
       "0                   984                1              -1                  6   \n",
       "1                    -1               -1              -1                 -1   \n",
       "2                  9600                2               5                  3   \n",
       "3                    -1               -1              -1                 -1   \n",
       "4                  1596                1               3                  5   \n",
       "\n",
       "   Driver_Home_Area_Type  \n",
       "0                      1  \n",
       "1                     -1  \n",
       "2                      1  \n",
       "3                     -1  \n",
       "4                      1  \n",
       "\n",
       "[5 rows x 53 columns]"
      ]
     },
     "execution_count": 48,
     "metadata": {},
     "output_type": "execute_result"
    }
   ],
   "source": [
    "data_vehicles = pd.read_csv(\"data/Vehicles.csv\")\n",
    "\n",
    "data_all = pd.merge(left=accidents, right=data_vehicles, left_on=\"Accident_Index\", right_on=\"Accident_Index\")\n",
    "print(accidents.shape[0], data_vehicles.shape[0], data_all.shape[0])\n",
    "data_all.head()\n"
   ]
  },
  {
   "cell_type": "markdown",
   "metadata": {},
   "source": [
    "5. Pre ďalšiu analýzu vyberte iba nasledujúce atribúty:\n",
    "    * `Day_of_Week`\n",
    "    * `1st_Road_Class`\n",
    "    * `Road_Type`\n",
    "    * `Light_Conditions`\n",
    "    * `Weather_Conditions`     \n",
    "    * `Road_Surface_Conditions`\n",
    "    * `Urban_or_Rural_Area`\n",
    "    * `Vehicle_Type`\n",
    "    * `Sex_of_Driver`\n",
    "    * `Age_of_Driver`\n",
    "    * `Engine_Capacity_(CC)`\n",
    "    * `Age_of_Vehicle`\n",
    "    * `Accident_Severity` \n",
    "    \n",
    "Takúto selekciu atribútov urobíme kvôli odstráneniu redundantných atribútov v datasete. Nepoužijeme redundantné atribúty popisujúce napr. geolokalitu, atď., prípadne odstránime atribúty, ktoré pre predikciu nemôžu byť použité (nie sú známe pred výskytom samotnej nehody). (2b)\n"
   ]
  },
  {
   "cell_type": "code",
   "execution_count": 49,
   "metadata": {},
   "outputs": [
    {
     "data": {
      "text/html": [
       "<div>\n",
       "<style scoped>\n",
       "    .dataframe tbody tr th:only-of-type {\n",
       "        vertical-align: middle;\n",
       "    }\n",
       "\n",
       "    .dataframe tbody tr th {\n",
       "        vertical-align: top;\n",
       "    }\n",
       "\n",
       "    .dataframe thead th {\n",
       "        text-align: right;\n",
       "    }\n",
       "</style>\n",
       "<table border=\"1\" class=\"dataframe\">\n",
       "  <thead>\n",
       "    <tr style=\"text-align: right;\">\n",
       "      <th></th>\n",
       "      <th>Day_of_Week</th>\n",
       "      <th>1st_Road_Class</th>\n",
       "      <th>Road_Type</th>\n",
       "      <th>Light_Conditions</th>\n",
       "      <th>Weather_Conditions</th>\n",
       "      <th>Road_Surface_Conditions</th>\n",
       "      <th>Urban_or_Rural_Area</th>\n",
       "      <th>Vehicle_Type</th>\n",
       "      <th>Sex_of_Driver</th>\n",
       "      <th>Age_of_Driver</th>\n",
       "      <th>Engine_Capacity_(CC)</th>\n",
       "      <th>Age_of_Vehicle</th>\n",
       "      <th>Accident_Severity</th>\n",
       "    </tr>\n",
       "  </thead>\n",
       "  <tbody>\n",
       "    <tr>\n",
       "      <th>0</th>\n",
       "      <td>4</td>\n",
       "      <td>3</td>\n",
       "      <td>2</td>\n",
       "      <td>1</td>\n",
       "      <td>1</td>\n",
       "      <td>1</td>\n",
       "      <td>1</td>\n",
       "      <td>5</td>\n",
       "      <td>1</td>\n",
       "      <td>40</td>\n",
       "      <td>984</td>\n",
       "      <td>-1</td>\n",
       "      <td>1</td>\n",
       "    </tr>\n",
       "    <tr>\n",
       "      <th>1</th>\n",
       "      <td>4</td>\n",
       "      <td>3</td>\n",
       "      <td>2</td>\n",
       "      <td>1</td>\n",
       "      <td>1</td>\n",
       "      <td>1</td>\n",
       "      <td>1</td>\n",
       "      <td>1</td>\n",
       "      <td>1</td>\n",
       "      <td>20</td>\n",
       "      <td>-1</td>\n",
       "      <td>-1</td>\n",
       "      <td>1</td>\n",
       "    </tr>\n",
       "    <tr>\n",
       "      <th>2</th>\n",
       "      <td>4</td>\n",
       "      <td>5</td>\n",
       "      <td>6</td>\n",
       "      <td>1</td>\n",
       "      <td>1</td>\n",
       "      <td>1</td>\n",
       "      <td>1</td>\n",
       "      <td>11</td>\n",
       "      <td>1</td>\n",
       "      <td>59</td>\n",
       "      <td>9600</td>\n",
       "      <td>5</td>\n",
       "      <td>1</td>\n",
       "    </tr>\n",
       "    <tr>\n",
       "      <th>3</th>\n",
       "      <td>5</td>\n",
       "      <td>4</td>\n",
       "      <td>6</td>\n",
       "      <td>1</td>\n",
       "      <td>1</td>\n",
       "      <td>2</td>\n",
       "      <td>1</td>\n",
       "      <td>1</td>\n",
       "      <td>1</td>\n",
       "      <td>25</td>\n",
       "      <td>-1</td>\n",
       "      <td>-1</td>\n",
       "      <td>1</td>\n",
       "    </tr>\n",
       "    <tr>\n",
       "      <th>4</th>\n",
       "      <td>5</td>\n",
       "      <td>4</td>\n",
       "      <td>6</td>\n",
       "      <td>1</td>\n",
       "      <td>1</td>\n",
       "      <td>2</td>\n",
       "      <td>1</td>\n",
       "      <td>9</td>\n",
       "      <td>1</td>\n",
       "      <td>29</td>\n",
       "      <td>1596</td>\n",
       "      <td>3</td>\n",
       "      <td>1</td>\n",
       "    </tr>\n",
       "  </tbody>\n",
       "</table>\n",
       "</div>"
      ],
      "text/plain": [
       "   Day_of_Week  1st_Road_Class  Road_Type  Light_Conditions  \\\n",
       "0            4               3          2                 1   \n",
       "1            4               3          2                 1   \n",
       "2            4               5          6                 1   \n",
       "3            5               4          6                 1   \n",
       "4            5               4          6                 1   \n",
       "\n",
       "   Weather_Conditions  Road_Surface_Conditions  Urban_or_Rural_Area  \\\n",
       "0                   1                        1                    1   \n",
       "1                   1                        1                    1   \n",
       "2                   1                        1                    1   \n",
       "3                   1                        2                    1   \n",
       "4                   1                        2                    1   \n",
       "\n",
       "   Vehicle_Type  Sex_of_Driver  Age_of_Driver  Engine_Capacity_(CC)  \\\n",
       "0             5              1             40                   984   \n",
       "1             1              1             20                    -1   \n",
       "2            11              1             59                  9600   \n",
       "3             1              1             25                    -1   \n",
       "4             9              1             29                  1596   \n",
       "\n",
       "   Age_of_Vehicle  Accident_Severity  \n",
       "0              -1                  1  \n",
       "1              -1                  1  \n",
       "2               5                  1  \n",
       "3              -1                  1  \n",
       "4               3                  1  "
      ]
     },
     "execution_count": 49,
     "metadata": {},
     "output_type": "execute_result"
    }
   ],
   "source": [
    "data_select = data_all[[\"Day_of_Week\", \"1st_Road_Class\", \"Road_Type\", \"Light_Conditions\", \"Weather_Conditions\", \"Road_Surface_Conditions\", \"Urban_or_Rural_Area\", \"Vehicle_Type\", \"Sex_of_Driver\", \"Age_of_Driver\", \"Engine_Capacity_(CC)\", \"Age_of_Vehicle\", \"Accident_Severity\"]]\n",
    "data_select.head()\n"
   ]
  },
  {
   "cell_type": "markdown",
   "metadata": {},
   "source": [
    "6. Spočítajte počet chýbajúcich hodnôt pre jednotlivé atribúty. Vhodne doplňte chýbajúce hodnoty (pozor: chýbajúce hodnoty sú označené -1).(4b)\n"
   ]
  },
  {
   "cell_type": "code",
   "execution_count": 50,
   "metadata": {},
   "outputs": [
    {
     "data": {
      "text/plain": [
       "Day_of_Week                    0\n",
       "1st_Road_Class                 0\n",
       "Road_Type                      0\n",
       "Light_Conditions               0\n",
       "Weather_Conditions             0\n",
       "Road_Surface_Conditions       80\n",
       "Urban_or_Rural_Area            0\n",
       "Vehicle_Type                  14\n",
       "Sex_of_Driver                  7\n",
       "Age_of_Driver               7784\n",
       "Engine_Capacity_(CC)       24978\n",
       "Age_of_Vehicle             27406\n",
       "Accident_Severity              0\n",
       "dtype: int64"
      ]
     },
     "execution_count": 50,
     "metadata": {},
     "output_type": "execute_result"
    }
   ],
   "source": [
    "newdata = data_select\n",
    "newdata = newdata.replace (-1, np.nan)\n",
    "newdata.isna().sum()\n"
   ]
  },
  {
   "cell_type": "code",
   "execution_count": 51,
   "metadata": {},
   "outputs": [
    {
     "name": "stdout",
     "output_type": "stream",
     "text": [
      "Road_Surface_Conditions mean: 1.3471, median: 1.0000\n"
     ]
    },
    {
     "data": {
      "text/plain": [
       "0"
      ]
     },
     "execution_count": 51,
     "metadata": {},
     "output_type": "execute_result"
    },
    {
     "data": {
      "image/png": "[encoded data removed]",
      "text/plain": [
       "<Figure size 432x288 with 1 Axes>"
      ]
     },
     "metadata": {},
     "output_type": "display_data"
    }
   ],
   "source": [
    "h1 = newdata[\"Road_Surface_Conditions\"].hist()\n",
    "\n",
    "rsc_mean = newdata[\"Road_Surface_Conditions\"].mean()\n",
    "rsc_median = newdata[\"Road_Surface_Conditions\"].median()\n",
    "print(\"Road_Surface_Conditions mean: {0:.4f}, median: {1:.4f}\".format(rsc_mean, rsc_median))\n",
    "\n",
    "newdata[\"Road_Surface_Conditions\"].fillna(rsc_median, inplace=True)\n",
    "newdata[\"Road_Surface_Conditions\"].isna().sum()\n"
   ]
  },
  {
   "cell_type": "code",
   "execution_count": 52,
   "metadata": {},
   "outputs": [
    {
     "name": "stdout",
     "output_type": "stream",
     "text": [
      "Vehicle_Type mean: 9.5682, median: 9.0000\n"
     ]
    },
    {
     "data": {
      "text/plain": [
       "0"
      ]
     },
     "execution_count": 52,
     "metadata": {},
     "output_type": "execute_result"
    },
    {
     "data": {
      "image/png": "[encoded data removed]",
      "text/plain": [
       "<Figure size 432x288 with 1 Axes>"
      ]
     },
     "metadata": {},
     "output_type": "display_data"
    }
   ],
   "source": [
    "h2 = newdata[\"Vehicle_Type\"].hist()\n",
    "\n",
    "vt_mean = newdata[\"Vehicle_Type\"].mean()\n",
    "vt_median = newdata[\"Vehicle_Type\"].median()\n",
    "print(\"Vehicle_Type mean: {0:.4f}, median: {1:.4f}\".format(vt_mean, vt_median))\n",
    "\n",
    "newdata[\"Vehicle_Type\"].fillna(vt_median, inplace=True)\n",
    "newdata[\"Vehicle_Type\"].isna().sum()\n"
   ]
  },
  {
   "cell_type": "code",
   "execution_count": 53,
   "metadata": {},
   "outputs": [
    {
     "name": "stdout",
     "output_type": "stream",
     "text": [
      "Sex_of_Driver mean: 1.3492, median: 1.0000\n"
     ]
    },
    {
     "data": {
      "text/plain": [
       "0"
      ]
     },
     "execution_count": 53,
     "metadata": {},
     "output_type": "execute_result"
    },
    {
     "data": {
      "image/png": "[encoded data removed]",
      "text/plain": [
       "<Figure size 432x288 with 1 Axes>"
      ]
     },
     "metadata": {},
     "output_type": "display_data"
    }
   ],
   "source": [
    "h3 = newdata[\"Sex_of_Driver\"].hist()\n",
    "\n",
    "sod_mean = newdata[\"Sex_of_Driver\"].mean()\n",
    "sod_median = newdata[\"Sex_of_Driver\"].median()\n",
    "print(\"Sex_of_Driver mean: {0:.4f}, median: {1:.4f}\".format(sod_mean, sod_median))\n",
    "\n",
    "newdata[\"Sex_of_Driver\"].fillna(sod_median, inplace=True)\n",
    "newdata[\"Sex_of_Driver\"].isna().sum()\n"
   ]
  },
  {
   "cell_type": "code",
   "execution_count": 54,
   "metadata": {},
   "outputs": [
    {
     "name": "stdout",
     "output_type": "stream",
     "text": [
      "Age_of_Driver mean: 37.8645, median: 36.0000\n"
     ]
    },
    {
     "data": {
      "text/plain": [
       "0"
      ]
     },
     "execution_count": 54,
     "metadata": {},
     "output_type": "execute_result"
    },
    {
     "data": {
      "image/png": "[encoded data removed]",
      "text/plain": [
       "<Figure size 432x288 with 1 Axes>"
      ]
     },
     "metadata": {},
     "output_type": "display_data"
    }
   ],
   "source": [
    "h4 = newdata[\"Age_of_Driver\"].hist()\n",
    "\n",
    "aod_mean = newdata[\"Age_of_Driver\"].mean()\n",
    "aod_median = newdata[\"Age_of_Driver\"].median()\n",
    "print(\"Age_of_Driver mean: {0:.4f}, median: {1:.4f}\".format(aod_mean, aod_median))\n",
    "\n",
    "newdata[\"Age_of_Driver\"].fillna(aod_median, inplace=True)\n",
    "newdata[\"Age_of_Driver\"].isna().sum()\n"
   ]
  },
  {
   "cell_type": "code",
   "execution_count": 55,
   "metadata": {},
   "outputs": [
    {
     "name": "stdout",
     "output_type": "stream",
     "text": [
      "Engine_Capacity_(CC) mean: 1918.8084, median: 1597.0000\n"
     ]
    },
    {
     "data": {
      "text/plain": [
       "0"
      ]
     },
     "execution_count": 55,
     "metadata": {},
     "output_type": "execute_result"
    },
    {
     "data": {
      "image/png": "[encoded data removed]",
      "text/plain": [
       "<Figure size 432x288 with 1 Axes>"
      ]
     },
     "metadata": {},
     "output_type": "display_data"
    }
   ],
   "source": [
    "h5 = newdata[\"Engine_Capacity_(CC)\"].hist()\n",
    "\n",
    "ec_mean = newdata[\"Engine_Capacity_(CC)\"].mean()\n",
    "ec_median = newdata[\"Engine_Capacity_(CC)\"].median()\n",
    "print(\"Engine_Capacity_(CC) mean: {0:.4f}, median: {1:.4f}\".format(ec_mean, ec_median))\n",
    "\n",
    "newdata[\"Engine_Capacity_(CC)\"].fillna(ec_median, inplace=True)\n",
    "newdata[\"Engine_Capacity_(CC)\"].isna().sum()\n"
   ]
  },
  {
   "cell_type": "code",
   "execution_count": 56,
   "metadata": {},
   "outputs": [
    {
     "name": "stdout",
     "output_type": "stream",
     "text": [
      "Age_of_Vehicle mean: 6.6582, median: 6.0000\n"
     ]
    },
    {
     "data": {
      "text/plain": [
       "0"
      ]
     },
     "execution_count": 56,
     "metadata": {},
     "output_type": "execute_result"
    },
    {
     "data": {
      "image/png": "[encoded data removed]",
      "text/plain": [
       "<Figure size 432x288 with 1 Axes>"
      ]
     },
     "metadata": {},
     "output_type": "display_data"
    }
   ],
   "source": [
    "h6 = newdata[\"Age_of_Vehicle\"].hist()\n",
    "\n",
    "aov_mean = newdata[\"Age_of_Vehicle\"].mean()\n",
    "aov_median = newdata[\"Age_of_Vehicle\"].median()\n",
    "print(\"Age_of_Vehicle mean: {0:.4f}, median: {1:.4f}\".format(aov_mean, aov_median))\n",
    "\n",
    "newdata[\"Age_of_Vehicle\"].fillna(aov_median, inplace=True)\n",
    "newdata[\"Age_of_Vehicle\"].isna().sum()\n"
   ]
  },
  {
   "cell_type": "markdown",
   "metadata": {},
   "source": [
    "7. Pomocou kontigenčnej tabuľky vyjadrite závislosti medzi nasledujúcimi atribútmi a cieľovým atribútom `Accident_Severity`:\n",
    "* `Day_of_Week` \n",
    "* `Sex_of_Driver`\n",
    "* `Age_of_Driver` (nutné vhodne diskretizovať tento atribút)\n",
    "\n",
    "Použite niektorú z vizualizácií knižnice seaborn na grafické zobrazenie týchto vzťahov. (5b)"
   ]
  },
  {
   "cell_type": "code",
   "execution_count": 57,
   "metadata": {},
   "outputs": [
    {
     "data": {
      "text/plain": [
       "count    79382.000000\n",
       "mean        37.681666\n",
       "std         15.053129\n",
       "min          3.000000\n",
       "25%         26.000000\n",
       "50%         36.000000\n",
       "75%         46.000000\n",
       "max         98.000000\n",
       "Name: Age_of_Driver, dtype: float64"
      ]
     },
     "execution_count": 57,
     "metadata": {},
     "output_type": "execute_result"
    }
   ],
   "source": [
    "newdata[\"Age_of_Driver\"].describe()\n"
   ]
  },
  {
   "cell_type": "code",
   "execution_count": 58,
   "metadata": {},
   "outputs": [
    {
     "data": {
      "text/plain": [
       "age 30-60      45638\n",
       "age to 30      27100\n",
       "age over 60     6644\n",
       "Name: Age_of_Driver_ordinal, dtype: int64"
      ]
     },
     "execution_count": 58,
     "metadata": {},
     "output_type": "execute_result"
    }
   ],
   "source": [
    "newdata[\"Age_of_Driver_ordinal\"] = pd.cut(newdata[\"Age_of_Driver\"], bins=[0, 30, 60, 100], include_lowest=True, labels=[\"age to 30\", \"age 30-60\", \"age over 60\"])\n",
    "newdata[\"Age_of_Driver_ordinal\"].value_counts()\n"
   ]
  },
  {
   "cell_type": "code",
   "execution_count": 59,
   "metadata": {},
   "outputs": [
    {
     "data": {
      "image/png": "[encoded data removed]",
      "text/plain": [
       "<Figure size 432x288 with 1 Axes>"
      ]
     },
     "metadata": {},
     "output_type": "display_data"
    }
   ],
   "source": [
    "p = newdata[\"Age_of_Driver_ordinal\"].hist(bins=20)\n"
   ]
  },
  {
   "cell_type": "code",
   "execution_count": 60,
   "metadata": {},
   "outputs": [
    {
     "data": {
      "text/html": [
       "<div>\n",
       "<style scoped>\n",
       "    .dataframe tbody tr th:only-of-type {\n",
       "        vertical-align: middle;\n",
       "    }\n",
       "\n",
       "    .dataframe tbody tr th {\n",
       "        vertical-align: top;\n",
       "    }\n",
       "\n",
       "    .dataframe thead tr th {\n",
       "        text-align: left;\n",
       "    }\n",
       "\n",
       "    .dataframe thead tr:last-of-type th {\n",
       "        text-align: right;\n",
       "    }\n",
       "</style>\n",
       "<table border=\"1\" class=\"dataframe\">\n",
       "  <thead>\n",
       "    <tr>\n",
       "      <th></th>\n",
       "      <th></th>\n",
       "      <th></th>\n",
       "      <th>mean</th>\n",
       "      <th>count</th>\n",
       "    </tr>\n",
       "    <tr>\n",
       "      <th></th>\n",
       "      <th></th>\n",
       "      <th></th>\n",
       "      <th>Accident_Severity</th>\n",
       "      <th>Accident_Severity</th>\n",
       "    </tr>\n",
       "    <tr>\n",
       "      <th>Age_of_Driver_ordinal</th>\n",
       "      <th>Sex_of_Driver</th>\n",
       "      <th>Day_of_Week</th>\n",
       "      <th></th>\n",
       "      <th></th>\n",
       "    </tr>\n",
       "  </thead>\n",
       "  <tbody>\n",
       "    <tr>\n",
       "      <th rowspan=\"5\" valign=\"top\">age to 30</th>\n",
       "      <th rowspan=\"5\" valign=\"top\">1.0</th>\n",
       "      <th>1</th>\n",
       "      <td>2.260501</td>\n",
       "      <td>2833</td>\n",
       "    </tr>\n",
       "    <tr>\n",
       "      <th>2</th>\n",
       "      <td>2.289203</td>\n",
       "      <td>2621</td>\n",
       "    </tr>\n",
       "    <tr>\n",
       "      <th>3</th>\n",
       "      <td>2.322234</td>\n",
       "      <td>2793</td>\n",
       "    </tr>\n",
       "    <tr>\n",
       "      <th>4</th>\n",
       "      <td>2.325376</td>\n",
       "      <td>2723</td>\n",
       "    </tr>\n",
       "    <tr>\n",
       "      <th>5</th>\n",
       "      <td>2.324188</td>\n",
       "      <td>2770</td>\n",
       "    </tr>\n",
       "    <tr>\n",
       "      <th>...</th>\n",
       "      <th>...</th>\n",
       "      <th>...</th>\n",
       "      <td>...</td>\n",
       "      <td>...</td>\n",
       "    </tr>\n",
       "    <tr>\n",
       "      <th rowspan=\"4\" valign=\"top\">age over 60</th>\n",
       "      <th rowspan=\"4\" valign=\"top\">3.0</th>\n",
       "      <th>2</th>\n",
       "      <td>2.333333</td>\n",
       "      <td>3</td>\n",
       "    </tr>\n",
       "    <tr>\n",
       "      <th>3</th>\n",
       "      <td>2.333333</td>\n",
       "      <td>3</td>\n",
       "    </tr>\n",
       "    <tr>\n",
       "      <th>5</th>\n",
       "      <td>2.000000</td>\n",
       "      <td>1</td>\n",
       "    </tr>\n",
       "    <tr>\n",
       "      <th>7</th>\n",
       "      <td>2.000000</td>\n",
       "      <td>1</td>\n",
       "    </tr>\n",
       "    <tr>\n",
       "      <th>All</th>\n",
       "      <th></th>\n",
       "      <th></th>\n",
       "      <td>2.337583</td>\n",
       "      <td>79382</td>\n",
       "    </tr>\n",
       "  </tbody>\n",
       "</table>\n",
       "<p>62 rows × 2 columns</p>\n",
       "</div>"
      ],
      "text/plain": [
       "                                                             mean  \\\n",
       "                                                Accident_Severity   \n",
       "Age_of_Driver_ordinal Sex_of_Driver Day_of_Week                     \n",
       "age to 30             1.0           1                    2.260501   \n",
       "                                    2                    2.289203   \n",
       "                                    3                    2.322234   \n",
       "                                    4                    2.325376   \n",
       "                                    5                    2.324188   \n",
       "...                                                           ...   \n",
       "age over 60           3.0           2                    2.333333   \n",
       "                                    3                    2.333333   \n",
       "                                    5                    2.000000   \n",
       "                                    7                    2.000000   \n",
       "All                                                      2.337583   \n",
       "\n",
       "                                                            count  \n",
       "                                                Accident_Severity  \n",
       "Age_of_Driver_ordinal Sex_of_Driver Day_of_Week                    \n",
       "age to 30             1.0           1                        2833  \n",
       "                                    2                        2621  \n",
       "                                    3                        2793  \n",
       "                                    4                        2723  \n",
       "                                    5                        2770  \n",
       "...                                                           ...  \n",
       "age over 60           3.0           2                           3  \n",
       "                                    3                           3  \n",
       "                                    5                           1  \n",
       "                                    7                           1  \n",
       "All                                                         79382  \n",
       "\n",
       "[62 rows x 2 columns]"
      ]
     },
     "execution_count": 60,
     "metadata": {},
     "output_type": "execute_result"
    }
   ],
   "source": [
    "table_1 = pd.pivot_table(newdata, index=[\"Age_of_Driver_ordinal\", \"Sex_of_Driver\", \"Day_of_Week\"], values=\"Accident_Severity\", aggfunc=[\"mean\", \"count\"], margins=True)\n",
    "table_1\n"
   ]
  },
  {
   "cell_type": "code",
   "execution_count": 61,
   "metadata": {},
   "outputs": [
    {
     "data": {
      "image/png": "[encoded data removed]",
      "text/plain": [
       "<Figure size 540x540 with 12 Axes>"
      ]
     },
     "metadata": {},
     "output_type": "display_data"
    }
   ],
   "source": [
    "atributes = newdata[[\"Accident_Severity\", \"Age_of_Driver_ordinal\", \"Sex_of_Driver\", \"Day_of_Week\"]]\n",
    "mapa = sns.pairplot(atributes)\n"
   ]
  },
  {
   "cell_type": "code",
   "execution_count": 62,
   "metadata": {},
   "outputs": [
    {
     "data": {
      "image/png": "[encoded data removed]",
      "text/plain": [
       "<Figure size 432x288 with 1 Axes>"
      ]
     },
     "metadata": {},
     "output_type": "display_data"
    }
   ],
   "source": [
    "graf = sns.distplot(atributes['Accident_Severity'])\n"
   ]
  },
  {
   "cell_type": "code",
   "execution_count": 63,
   "metadata": {},
   "outputs": [
    {
     "name": "stderr",
     "output_type": "stream",
     "text": [
      "/Users/lucia/opt/anaconda3/envs/jupyterlab_older/lib/python3.7/site-packages/statsmodels/nonparametric/kde.py:487: RuntimeWarning: invalid value encountered in true_divide\n",
      "  binned = fast_linbin(X, a, b, gridsize) / (delta * nobs)\n",
      "/Users/lucia/opt/anaconda3/envs/jupyterlab_older/lib/python3.7/site-packages/statsmodels/nonparametric/kdetools.py:34: RuntimeWarning: invalid value encountered in double_scalars\n",
      "  FAC1 = 2*(np.pi*bw/RANGE)**2\n"
     ]
    },
    {
     "data": {
      "image/png": "[encoded data removed]",
      "text/plain": [
       "<Figure size 522.3x432 with 12 Axes>"
      ]
     },
     "metadata": {},
     "output_type": "display_data"
    }
   ],
   "source": [
    "graf_2 = sns.pairplot(atributes, hue='Accident_Severity', height=2)\n"
   ]
  },
  {
   "cell_type": "markdown",
   "metadata": {},
   "source": [
    "8. Vytvorte dátovú množinu, v ktorej nahradíte všetky nominálne atribúty za číselné alebo binárne. (3b)"
   ]
  },
  {
   "cell_type": "code",
   "execution_count": 64,
   "metadata": {},
   "outputs": [],
   "source": [
    "datatest = newdata.copy()\n",
    "datatest = datatest.drop(columns=[\"Age_of_Driver\"])\n"
   ]
  },
  {
   "cell_type": "code",
   "execution_count": 65,
   "metadata": {},
   "outputs": [],
   "source": [
    "datatest[\"Age_of_Driver_ordinal\"] = datatest[\"Age_of_Driver_ordinal\"].map({\"age to 30\": 0, \"age 30-60\": 1, \"age over 60\": 2})\n"
   ]
  },
  {
   "cell_type": "code",
   "execution_count": 66,
   "metadata": {},
   "outputs": [],
   "source": [
    "datatest = datatest.drop(columns=[\"Engine_Capacity_(CC)\", \"Age_of_Vehicle\"]) # vymazujem kvôli veľkému množstvu chýbajúcich hodnôt\n"
   ]
  },
  {
   "cell_type": "markdown",
   "metadata": {},
   "source": [
    "9. Rozdeľte dáta na trénovaciu a testovaciu množinu v pomere 70/30. Ako cieľový atribút použite atribút `Accident_Severity`. (2b)"
   ]
  },
  {
   "cell_type": "code",
   "execution_count": 67,
   "metadata": {},
   "outputs": [
    {
     "name": "stdout",
     "output_type": "stream",
     "text": [
      "(79382, 10)\n",
      "(79382,)\n"
     ]
    }
   ],
   "source": [
    "X_datatest = datatest.drop('Accident_Severity', axis = 1)\n",
    "y_datatest = datatest['Accident_Severity']\n",
    "\n",
    "print(X_datatest.shape)\n",
    "print(y_datatest.shape)\n"
   ]
  },
  {
   "cell_type": "code",
   "execution_count": 68,
   "metadata": {},
   "outputs": [
    {
     "data": {
      "text/plain": [
       "(55567, 10)"
      ]
     },
     "execution_count": 68,
     "metadata": {},
     "output_type": "execute_result"
    }
   ],
   "source": [
    "from sklearn.model_selection import train_test_split\n",
    "\n",
    "X_train, X_test, y_train, y_test = train_test_split(X_datatest, y_datatest, test_size=0.3, random_state=1)\n",
    "X_train.shape\n"
   ]
  },
  {
   "cell_type": "markdown",
   "metadata": {},
   "source": [
    "10. Spočítajte pomocou funkcie `SelectKBest` a `mutual_score_info` významosti jednotlivých atribútov pre predikciu v trénovacej množine. Skúste získané informácie využiť pri predspracovaní dát pre niektoré z modelov. (3b)"
   ]
  },
  {
   "cell_type": "code",
   "execution_count": 69,
   "metadata": {},
   "outputs": [],
   "source": [
    "from sklearn.feature_selection import SelectKBest\n",
    "from sklearn.preprocessing import OrdinalEncoder\n",
    "from sklearn.preprocessing import LabelEncoder\n",
    "from sklearn.feature_selection import mutual_info_classif\n",
    "\n",
    "oe = OrdinalEncoder()\n",
    "oe.fit(X_train)\n",
    "X_train = pd.DataFrame(oe.transform(X_train))\n",
    "X_test = pd.DataFrame(oe.transform(X_test))\n",
    "\n",
    "le = LabelEncoder()\n",
    "le.fit(y_train)\n",
    "y_train = le.transform(y_train)\n",
    "y_test = le.transform(y_test)\n"
   ]
  },
  {
   "cell_type": "code",
   "execution_count": 70,
   "metadata": {},
   "outputs": [],
   "source": [
    "fs = SelectKBest(score_func=mutual_info_classif, k=\"all\")\n",
    "X_train = fs.fit_transform(X_train, y_train)\n",
    "X_test = fs.transform(X_test)\n"
   ]
  },
  {
   "cell_type": "code",
   "execution_count": 71,
   "metadata": {},
   "outputs": [
    {
     "name": "stdout",
     "output_type": "stream",
     "text": [
      "Feature 0: 0.002942\n",
      "Feature 1: 0.007751\n",
      "Feature 2: 0.008625\n",
      "Feature 3: 0.011744\n",
      "Feature 4: 0.002077\n",
      "Feature 5: 0.002042\n",
      "Feature 6: 0.014371\n",
      "Feature 7: 0.016353\n",
      "Feature 8: 0.002419\n",
      "Feature 9: 0.003605\n"
     ]
    }
   ],
   "source": [
    "for i in range(len(fs.scores_)):\n",
    "    print('Feature %d: %f' % (i, fs.scores_[i]))\n"
   ]
  },
  {
   "cell_type": "markdown",
   "metadata": {},
   "source": [
    "11. Natrénujte rôzne klasifikačné modely pre predikciu atribútu `Accident_Severity`. Natrénujte nasledovné modely s prednastavenými parametrami:\n",
    "* k-najbližších susedov\n",
    "* Rozhodovacie stromy\n",
    "* Random forests\n",
    "\n",
    "Jednotlivé modely otestujte pomocou 10-násobnej krížovej validácie pomocou metriky `accuracy`. \n",
    "\n",
    "Pozor - pre jednotlivé modely zvoľte vhodný spôsob predspracovania (možná modifikácia predspracovania v kroku 8). (6b) "
   ]
  },
  {
   "cell_type": "code",
   "execution_count": 72,
   "metadata": {},
   "outputs": [
    {
     "name": "stdout",
     "output_type": "stream",
     "text": [
      "Accuracy prvého modelu: 0.52 (+/- 0.01)\n"
     ]
    }
   ],
   "source": [
    "# K-najbližších susedov\n",
    "\n",
    "from sklearn.neighbors import KNeighborsClassifier\n",
    "from sklearn.model_selection import cross_val_score\n",
    "\n",
    "knn = KNeighborsClassifier()\n",
    "scores = cross_val_score(knn, X_train, y_train, cv=10, scoring='accuracy')\n",
    "print(f\"Accuracy prvého modelu: %0.2f (+/- %0.2f)\" % (scores.mean(), scores.std() * 2))\n"
   ]
  },
  {
   "cell_type": "code",
   "execution_count": 73,
   "metadata": {},
   "outputs": [
    {
     "name": "stdout",
     "output_type": "stream",
     "text": [
      "Accuracy druhého modelu: 0.5316 (+/- 0.01)\n"
     ]
    }
   ],
   "source": [
    "# Rozhodovacie stromy\n",
    "\n",
    "from sklearn.tree import DecisionTreeClassifier\n",
    "\n",
    "dt = DecisionTreeClassifier()\n",
    "scores = cross_val_score(dt, X_train, y_train, cv=10, scoring='accuracy')\n",
    "print(f\"Accuracy druhého modelu: %0.4f (+/- %0.2f)\" % (scores.mean(), scores.std() * 2))\n"
   ]
  },
  {
   "cell_type": "code",
   "execution_count": 74,
   "metadata": {},
   "outputs": [
    {
     "name": "stdout",
     "output_type": "stream",
     "text": [
      "Accuracy tretieho modelu: 0.5436 (+/- 0.01)\n"
     ]
    }
   ],
   "source": [
    "# Random forest\n",
    "\n",
    "from sklearn.ensemble import RandomForestClassifier\n",
    "\n",
    "rf = RandomForestClassifier()\n",
    "scores = cross_val_score(rf, X_train, y_train, cv=10, scoring='accuracy')\n",
    "print(f\"Accuracy tretieho modelu: %0.4f (+/- %0.2f)\" % (scores.mean(), scores.std() * 2))\n"
   ]
  },
  {
   "cell_type": "markdown",
   "metadata": {},
   "source": [
    "12. Porovnajte natrénované modely aj pomocou ROC krivky testovacej množine. Identifikujte model, ktorý dáva najlepšie výsledky s prednastavenými parametrami. \n",
    "V tomto kroku sa posnažte vyladiť model nájdením najvhodnejších parametrov pomocou `GridSearchCV`. Nájdite a vypíšte najlepšiu kombináciu parametrov. (4b)"
   ]
  },
  {
   "cell_type": "code",
   "execution_count": 75,
   "metadata": {},
   "outputs": [
    {
     "data": {
      "image/png": "[encoded data removed]",
      "text/plain": [
       "<Figure size 432x288 with 1 Axes>"
      ]
     },
     "metadata": {},
     "output_type": "display_data"
    }
   ],
   "source": [
    "from sklearn.metrics import roc_curve,auc\n",
    "\n",
    "# k-NN - K-najbližších susedov\n",
    "\n",
    "knn = KNeighborsClassifier()\n",
    "knn.fit(X_train, y_train)\n",
    "y_knn=knn.predict(X_test)\n",
    "\n",
    "fpr_knn, tpr_knn, thresholds_knn = roc_curve(y_test, y_knn, pos_label=1)\n",
    "roc_auc_knn = auc(fpr_knn, tpr_knn)\n",
    "\n",
    "# Rozhodovacie stromy\n",
    "\n",
    "dt = DecisionTreeClassifier()\n",
    "dt.fit(X_train, y_train)\n",
    "y_dt=dt.predict(X_test)\n",
    "\n",
    "fpr_dt, tpr_dt, thresholds_dt = roc_curve(y_test, y_dt, pos_label=1)\n",
    "roc_auc_dt = auc(fpr_dt, tpr_dt)\n",
    "\n",
    "# Random forest\n",
    "\n",
    "rf = RandomForestClassifier()\n",
    "rf.fit(X_train, y_train)\n",
    "y_rf=rf.predict(X_test)\n",
    "\n",
    "fpr_rf, tpr_rf, thresholds_rf = roc_curve(y_test, y_rf, pos_label=1)\n",
    "roc_auc_rf = auc(fpr_rf, tpr_rf)\n",
    "\n",
    "# ROC krivka\n",
    "\n",
    "plt.title('ROC Krivka')\n",
    "\n",
    "plt.plot(fpr_knn, tpr_knn, color='blue', label = 'kNN (AUC = %0.2f)' % roc_auc_knn) \n",
    "plt.plot(fpr_dt, tpr_dt, color='green', label = 'Decicion Trees (AUC = %0.2f)' % roc_auc_dt) \n",
    "plt.plot(fpr_rf, tpr_rf, color='red', label = 'Random Forests (AUC = %0.2f)' % roc_auc_rf) \n",
    "\n",
    "plt.legend(loc = 'lower right') \n",
    "plt.plot([0, 1], [0, 1],linestyle='--', color='yellow')\n",
    "plt.xlim([0, 1]) \n",
    "plt.ylim([0, 1])\n",
    "plt.ylabel('True Positive Rate') \n",
    "plt.xlabel('False Positive Rate') \n",
    "plt.show()\n"
   ]
  },
  {
   "cell_type": "code",
   "execution_count": 76,
   "metadata": {},
   "outputs": [],
   "source": [
    "from sklearn.model_selection import GridSearchCV\n",
    "\n",
    "param_grid = [{ \"n_estimators\": [100,200,300],\n",
    "               \"criterion\": [\"gini\", \"entropy\"],\n",
    "                \"min_samples_split\": [2,4,6],\n",
    "               \"min_samples_leaf\": [1,5,10]}]\n"
   ]
  },
  {
   "cell_type": "code",
   "execution_count": 77,
   "metadata": {},
   "outputs": [
    {
     "name": "stdout",
     "output_type": "stream",
     "text": [
      "Najlepšia kombinácia parametrov modelu \"Random forest\" je:\n",
      "{'criterion': 'gini', 'min_samples_leaf': 10, 'min_samples_split': 4, 'n_estimators': 200}\n",
      "\n",
      "Hodnota presnosti modelu \"Random forest\" pri tejto kombinácii je:\n",
      "0.5694567273572491\n"
     ]
    }
   ],
   "source": [
    "rf = RandomForestClassifier()\n",
    "\n",
    "grid_rf = GridSearchCV(estimator=rf, param_grid=param_grid, cv=5, scoring='accuracy')\n",
    "grid_rf.fit(X_train, y_train)\n",
    "\n",
    "print('Najlepšia kombinácia parametrov modelu \"Random forest\" je:')\n",
    "print(grid_rf.best_params_)\n",
    "print()\n",
    "print('Hodnota presnosti modelu \"Random forest\" pri tejto kombinácii je:')\n",
    "print(grid_rf.best_score_)\n"
   ]
  },
  {
   "cell_type": "markdown",
   "metadata": {},
   "source": [
    "13. Natrénujte na celej trénovacej množine model s najlepšími parametrami. Model otestujte na testovacej množine. Vyhodnoťte model pomocou metrík `accuracy`, `precision` a `recall`. Vypíšte preň `confusion matrix`. (3b)"
   ]
  },
  {
   "cell_type": "code",
   "execution_count": 78,
   "metadata": {},
   "outputs": [
    {
     "name": "stdout",
     "output_type": "stream",
     "text": [
      "Accuracy modelu: 0.5722863741339492\n",
      "Precision (presnosť) modelu: 0.5305977379174419\n",
      "Recall (návratnosť) modelu: 0.5722863741339492\n",
      "Confusion Matrix modelu:\n",
      "[[   0 1363  208]\n",
      " [   0 9529 3190]\n",
      " [   0 5425 4100]]\n"
     ]
    },
    {
     "name": "stderr",
     "output_type": "stream",
     "text": [
      "/Users/lucia/opt/anaconda3/envs/jupyterlab_older/lib/python3.7/site-packages/sklearn/metrics/_classification.py:1272: UndefinedMetricWarning: Precision is ill-defined and being set to 0.0 in labels with no predicted samples. Use `zero_division` parameter to control this behavior.\n",
      "  _warn_prf(average, modifier, msg_start, len(result))\n"
     ]
    }
   ],
   "source": [
    "from sklearn.metrics import confusion_matrix, accuracy_score, precision_score, recall_score\n",
    "\n",
    "rf = RandomForestClassifier(criterion = 'gini', min_samples_leaf = 10, min_samples_split = 6, n_estimators = 200)\n",
    "rf.fit(X_train, y_train)\n",
    "y_model = rf.predict(X_test)\n",
    "\n",
    "print(f\"Accuracy modelu: {accuracy_score(y_test, y_model)}\")\n",
    "print(f\"Precision (presnosť) modelu: {precision_score(y_test, y_model, average='weighted')}\")\n",
    "print(f\"Recall (návratnosť) modelu: {recall_score(y_test, y_model, average='weighted')}\")\n",
    "print(f\"Confusion Matrix modelu:\\n{confusion_matrix(y_test, y_model)}\")\n"
   ]
  },
  {
   "cell_type": "code",
   "execution_count": null,
   "metadata": {},
   "outputs": [],
   "source": []
  }
 ],
 "metadata": {
  "kernelspec": {
   "display_name": "Python 3",
   "language": "python",
   "name": "python3"
  },
  "language_info": {
   "codemirror_mode": {
    "name": "ipython",
    "version": 3
   },
   "file_extension": ".py",
   "mimetype": "text/x-python",
   "name": "python",
   "nbconvert_exporter": "python",
   "pygments_lexer": "ipython3",
   "version": "3.7.6"
  }
 },
 "nbformat": 4,
 "nbformat_minor": 4
}
