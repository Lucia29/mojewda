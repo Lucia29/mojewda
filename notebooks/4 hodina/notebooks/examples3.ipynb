{
 "cells": [
  {
   "cell_type": "markdown",
   "metadata": {},
   "source": [
    "### Úloha 3.11\n",
    "\n",
    "V cykle vypíšte prvky, ktoré sa nachádzajú v zozname `list1`, ale nenachádzajú sa v zozname `list2`."
   ]
  },
  {
   "cell_type": "code",
   "execution_count": 39,
   "metadata": {},
   "outputs": [],
   "source": [
    "list1 = [1, 2, 3, 4]\n",
    "list2 = [1, 2]"
   ]
  },
  {
   "cell_type": "markdown",
   "metadata": {},
   "source": [
    "### Úloha 3.12\n",
    "\n",
    "Pomocou cyklu vytvorte zoznam `flatten`, ktorý bude obsahovať všetky prvky všetkých vnorených zoznamov v zozname `nested`."
   ]
  },
  {
   "cell_type": "code",
   "execution_count": 33,
   "metadata": {},
   "outputs": [],
   "source": [
    "nested = [[1, 2, 3], [4, 5], [6], [7, 8, 9, 10]]\n",
    "flatten = [] # = [1, 2, 3, 4, 5, 6, 7, 8, 9, 10]"
   ]
  },
  {
   "cell_type": "markdown",
   "metadata": {},
   "source": [
    "### Úloha 3.13\n",
    "Nájdite minimálnu hodnotu v nasledujúcom zozname. Pre prázdny zoznam nastavte minimum na `None`."
   ]
  },
  {
   "cell_type": "code",
   "execution_count": 34,
   "metadata": {},
   "outputs": [],
   "source": [
    "# príkaz postupne otestujte pre zadané hodnoty\n",
    "numbers = [1, 6, 8, 2, 10, -2] # min = -2\n",
    "\n",
    "# values = [] # min = None\n",
    "\n",
    "min = None"
   ]
  },
  {
   "cell_type": "markdown",
   "metadata": {},
   "source": [
    "### Úloha 3.14\n",
    "\n",
    "Nájdite druhú najväčšiu hodnotu v nasledujúcom zozname. Pre prázdny zoznam, alebo zoznam s jedným prvkom nastavte hodnotu na `None`. "
   ]
  },
  {
   "cell_type": "code",
   "execution_count": 35,
   "metadata": {},
   "outputs": [],
   "source": [
    "# príkaz postupne otestujte pre zadané hodnoty\n",
    "numbers = [1, 6, 8, 2, 10, -2] # second_largest = 8\n",
    "\n",
    "# values = [1] # second_largest = None\n",
    "second_largest = None"
   ]
  },
  {
   "cell_type": "markdown",
   "metadata": {},
   "source": [
    "### Úloha 3.15\n",
    "\n",
    "Vypočítajte štandardnú odchýlku hodnôt v nasledujúcom zozname. Štandardnú odchýlku vypočítate podľa nasledujúceho vzorca:\n",
    "$$s = \\sqrt{\\frac{1}{N-1} \\sum_{i=1}^N (x_i - \\overline{x})^2}$$\n",
    "kde $N$ je počet hodnôt v zozname, $x_i$ je i-ta hodnota a $\\overline{x}$ je priemerná hodnota zo všetkých hodnôt v zozname."
   ]
  },
  {
   "cell_type": "code",
   "execution_count": 36,
   "metadata": {},
   "outputs": [],
   "source": [
    "numbers = [1, 6, 8, 2, 10, -2]"
   ]
  },
  {
   "cell_type": "markdown",
   "metadata": {},
   "source": [
    "### Úloha 3.16\n",
    "\n",
    "Odstráňte zo zoznamu `numbers` párne čísla. (Poznámka: párne čísla sú deliteľné 2 bezo zvyšku, ak budete priamo meniť zoznam, je lepšie si urobiť pri iterovaní jeho kópiu)"
   ]
  },
  {
   "cell_type": "code",
   "execution_count": 37,
   "metadata": {},
   "outputs": [],
   "source": [
    "numbers = [1, 6, 8, 2, 10, -2]"
   ]
  },
  {
   "cell_type": "markdown",
   "metadata": {},
   "source": [
    "### Úloha 3.17\n",
    "Vygenerujte zoznam `numbers`, ktorý bude obsahovať druhé mocniny čísel od 5 do 10."
   ]
  },
  {
   "cell_type": "markdown",
   "metadata": {},
   "source": [
    "### Úloha 3.18\n",
    "\n",
    "Napíšte program, ktorý rozdelí zoznam `numbers` na pod-zoznamy, pri výskyte zadanej hodnoty."
   ]
  },
  {
   "cell_type": "code",
   "execution_count": 38,
   "metadata": {},
   "outputs": [],
   "source": [
    "value = 2\n",
    "numbers = [0, 1, 2, 3, 4, 2, 5, 6, 7, 2, 2, 8]\n",
    "split = None # očakávaný výsledok je zoznam s vnorenými zoznamami [[0, 1], [3, 4], [5, 6, 7], [], [8]]\n",
    "             # (všimnite si, že sa pridá prázdny zoznam ak sa hodnota opakuje)"
   ]
  }
 ],
 "metadata": {
  "kernelspec": {
   "display_name": "Python 3",
   "language": "python",
   "name": "python3"
  },
  "language_info": {
   "codemirror_mode": {
    "name": "ipython",
    "version": 3
   },
   "file_extension": ".py",
   "mimetype": "text/x-python",
   "name": "python",
   "nbconvert_exporter": "python",
   "pygments_lexer": "ipython3",
   "version": "3.7.0"
  }
 },
 "nbformat": 4,
 "nbformat_minor": 2
}
