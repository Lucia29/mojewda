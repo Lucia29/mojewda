{
 "cells": [
  {
   "cell_type": "markdown",
   "metadata": {},
   "source": [
    "## Úlohy\n",
    "\n",
    "### Úloha 2.1\n",
    "Napíšte logický výraz, ktorý otestuje, či zadaný zoznam nie je prázdny (tzn. počet položiek je viac než 0)."
   ]
  },
  {
   "cell_type": "code",
   "execution_count": 1,
   "metadata": {},
   "outputs": [
    {
     "data": {
      "text/plain": [
       "True"
      ]
     },
     "execution_count": 1,
     "metadata": {},
     "output_type": "execute_result"
    }
   ],
   "source": [
    "# výraz postupne otestujte pre zadané hodnoty\n",
    "zoznam = [1, 2, 3]\n",
    "\n",
    "#zoznam = []\n",
    "\n",
    "len(zoznam) > 0"
   ]
  },
  {
   "cell_type": "markdown",
   "metadata": {},
   "source": [
    "### Úloha 2.2\n",
    "\n",
    "Vytvorte kópiu nasledujúceho zoznamu a priraďte ju premennej `nove_cisla`. V kópii nahraďte reťazec `\"päť\"` za číslo 5, a na začiatok a koniec pridajte čísla 0 a 6."
   ]
  },
  {
   "cell_type": "code",
   "execution_count": 2,
   "metadata": {},
   "outputs": [
    {
     "data": {
      "text/plain": [
       "[0, 1, 2, 3, 4, 5, 6]"
      ]
     },
     "execution_count": 2,
     "metadata": {},
     "output_type": "execute_result"
    }
   ],
   "source": [
    "cisla = [1, 2, 3, 4, \"päť\"]\n",
    "\n",
    "nove_cisla = list(cisla) # kópiu môžete vytvoriť volaním list([kolekcia]), kde kolekcia je kolekcia prvkov (môže byť zoznam, n-tica, alebo množina)\n",
    "nove_cisla = cisla[:]    # zo zoznamu môžete vytvoriť kópiu aj pomocou rozsahu\n",
    "nove_cisla[4] = 5        # zmeníme \"päť\" na 5\n",
    "nove_cisla.insert(0, 0)  # na začiatok pridáme 0\n",
    "nove_cisla.append(6)     # na koniec 6\n",
    "nove_cisla # = [0, 1, 2, 3, 4, 5, 6]"
   ]
  },
  {
   "cell_type": "markdown",
   "metadata": {},
   "source": [
    "### Úloha 2.3\n",
    "\n",
    "Vytvorte novú premennú `hodnoty` do ktorej skopírujte zo zoznamu `riadok` hodnoty 3, 4, 5."
   ]
  },
  {
   "cell_type": "code",
   "execution_count": 3,
   "metadata": {},
   "outputs": [
    {
     "data": {
      "text/plain": [
       "[3, 4, 5]"
      ]
     },
     "execution_count": 3,
     "metadata": {},
     "output_type": "execute_result"
    }
   ],
   "source": [
    "riadok = [2, 3, 4, 5, 6, 7, 8]\n",
    "hodnoty = riadok[1:4] # indexovanie rozsahu je [od (vrátane):do (bez)]\n",
    "hodnoty"
   ]
  },
  {
   "cell_type": "markdown",
   "metadata": {},
   "source": [
    "### Úloha 2.4\n",
    "\n",
    "Odstráňte z nasledujúceho zoznamu prvé dva a posledné tri prvky."
   ]
  },
  {
   "cell_type": "code",
   "execution_count": 4,
   "metadata": {},
   "outputs": [
    {
     "data": {
      "text/plain": [
       "['C', 'D', 'E', 'F']"
      ]
     },
     "execution_count": 4,
     "metadata": {},
     "output_type": "execute_result"
    }
   ],
   "source": [
    "pismena = [\"A\", \"B\", \"C\", \"D\", \"E\", \"F\", \"G\", \"H\"]\n",
    "\n",
    "del(pismena[0:2])\n",
    "del(pismena[-2:]) # záporné indexy pre indexovanie od konca zoznamu\n",
    "pismena"
   ]
  },
  {
   "cell_type": "markdown",
   "metadata": {},
   "source": [
    "### Úloha 2.5\n",
    "Vytvorte zoznamy s názvami ovocia a zeleniny, spojte ich do jedného zoznamu a usporiadajte podľa abecedy zostupne."
   ]
  },
  {
   "cell_type": "code",
   "execution_count": 5,
   "metadata": {},
   "outputs": [
    {
     "name": "stdout",
     "output_type": "stream",
     "text": [
      "['pomaranc', 'mrkva', 'kapusta', 'jablko', 'hruzka']\n"
     ]
    }
   ],
   "source": [
    "ovocie = [\"jablko\", \"pomaranc\", \"hruzka\"]\n",
    "zelenina = [\"mrkva\", \"kapusta\"]\n",
    "\n",
    "vsetky = ovocie + zelenina\n",
    "vsetky.sort()    # usporiadanie podľa abecedy vzostupne (od A do Z)\n",
    "vsetky.reverse() # pre zostupné usporiadanie prehodíme poradie pomocou metódy reverse\n",
    "\n",
    "print(vsetky)"
   ]
  },
  {
   "cell_type": "code",
   "execution_count": null,
   "metadata": {},
   "outputs": [],
   "source": []
  }
 ],
 "metadata": {
  "kernelspec": {
   "display_name": "Python 3",
   "language": "python",
   "name": "python3"
  },
  "language_info": {
   "codemirror_mode": {
    "name": "ipython",
    "version": 3
   },
   "file_extension": ".py",
   "mimetype": "text/x-python",
   "name": "python",
   "nbconvert_exporter": "python",
   "pygments_lexer": "ipython3",
   "version": "3.7.0"
  }
 },
 "nbformat": 4,
 "nbformat_minor": 2
}
