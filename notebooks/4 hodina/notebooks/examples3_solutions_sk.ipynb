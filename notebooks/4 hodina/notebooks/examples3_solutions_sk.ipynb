{
 "cells": [
  {
   "cell_type": "markdown",
   "metadata": {},
   "source": [
    "### Úloha 3.11\n",
    "\n",
    "V cykle vypíšte prvky, ktoré sa nachádzajú v zozname `zoznam1`, ale nenachádzajú sa v zozname `zoznam2`."
   ]
  },
  {
   "cell_type": "code",
   "execution_count": 1,
   "metadata": {},
   "outputs": [
    {
     "name": "stdout",
     "output_type": "stream",
     "text": [
      "3\n",
      "4\n"
     ]
    }
   ],
   "source": [
    "zoznam1 = [1, 2, 3, 4]\n",
    "zoznam2 = [1, 2]\n",
    "\n",
    "for x in zoznam1: # prejdeme všetky prvky z `zoznam1`\n",
    "    if x not in zoznam2: # ak sa prvok nenachádza aj v `zoznam2`, vypíšeme ho\n",
    "        print(x)"
   ]
  },
  {
   "cell_type": "markdown",
   "metadata": {},
   "source": [
    "### Úloha 3.12\n",
    "\n",
    "Pomocou cyklu vytvorte zoznam `vysledny_zoznam`, ktorý bude obsahovať všetky prvky všetkých vnorených zoznamov v zozname `vnoreny_zoznam`."
   ]
  },
  {
   "cell_type": "code",
   "execution_count": 4,
   "metadata": {},
   "outputs": [
    {
     "data": {
      "text/plain": [
       "[1, 2, 3, 4, 5, 6, 7, 8, 9, 10]"
      ]
     },
     "execution_count": 4,
     "metadata": {},
     "output_type": "execute_result"
    }
   ],
   "source": [
    "vnoreny_zoznam = [[1, 2, 3], [4, 5], [6], [7, 8, 9, 10]]\n",
    "vysledny_zoznam = [] # = [1, 2, 3, 4, 5, 6, 7, 8, 9, 10]\n",
    "\n",
    "for podzoznam in vnoreny_zoznam: # prejdeme všetky podzoznamy - prvky v `vnoreny_zoznam`\n",
    "    for x in podzoznam:  # pre každý podzoznam prejdeme všetky jeho prvky `x` a pridáme ich do `vysledny_zoznam`\n",
    "        vysledny_zoznam.append(x)\n",
    "\n",
    "vysledny_zoznam"
   ]
  },
  {
   "cell_type": "markdown",
   "metadata": {},
   "source": [
    "### Úloha 3.13\n",
    "Nájdite minimálnu hodnotu v nasledujúcom zozname. Pre prázdny zoznam nastavte minimum na `None`."
   ]
  },
  {
   "cell_type": "code",
   "execution_count": 5,
   "metadata": {},
   "outputs": [
    {
     "name": "stdout",
     "output_type": "stream",
     "text": [
      "-2\n"
     ]
    }
   ],
   "source": [
    "# príkaz postupne otestujte pre zadané hodnoty\n",
    "cisla = [1, 6, 8, 2, 10, -2] # min = -2\n",
    "\n",
    "# cisla = [] # min = None\n",
    "\n",
    "min = None  # inicializujeme si min na hodnotu pre prázdny zoznam, pretože cyklus `for` sa pre prázdny zoznam nevykoná ani raz \n",
    "for x in cisla: # prejdeme všetky prvky v `numbers`\n",
    "    # na začiatku iterovania je premenná `min` inicializovaná na None, takže ju nastavíme na prvý prvok zoznamu\n",
    "    # pre všetky ostatné už nebude None a môžeme ju porovnávať, zmeníme ju len vtedy, ak bude `x` menšie ako `min`\n",
    "    if min is None or x < min:\n",
    "        min = x\n",
    "\n",
    "print(x)"
   ]
  },
  {
   "cell_type": "markdown",
   "metadata": {},
   "source": [
    "### Úloha 3.14\n",
    "\n",
    "Nájdite druhú najväčšiu hodnotu v nasledujúcom zozname. Pre prázdny zoznam, alebo zoznam s jedným prvkom nastavte hodnotu na `None`. "
   ]
  },
  {
   "cell_type": "code",
   "execution_count": 7,
   "metadata": {},
   "outputs": [
    {
     "name": "stdout",
     "output_type": "stream",
     "text": [
      "-2\n"
     ]
    }
   ],
   "source": [
    "# príkaz postupne otestujte pre zadané hodnoty\n",
    "cisla = [1, 6, 8, 2, 10, -2] # druha_najvacsia = 8\n",
    "\n",
    "# cisla = [1] # druha_najvacsia = None\n",
    "\n",
    "# cisla = [1, 1] # druha_najvacsia = None\n",
    "\n",
    "# pre druhú najväčšiu hodnotu si musíme pamätať aj maximum (prvú najväčšiu)\n",
    "najvacsia = None\n",
    "druha_najvacsia = None\n",
    "\n",
    "for x in cisla:\n",
    "    if najvacsia is None: # ak je to prvý prvok, nastavíme ho ako najväčšiu hodnota\n",
    "        najvacsia = x\n",
    "    # inak\n",
    "    elif x < najvacsia: # ak sme našli menšiu hodnotu než maximum, nastavíme ju ako\n",
    "        najvacsia = x   # nové maximum a staré maximum je druhá najväčšia hodnota\n",
    "        druha_najvacsia = najvacsia\n",
    "    # inak\n",
    "    # v tejto vetve máme iba väčšie, alebo rovné hodnoty než aktuálne maximum\n",
    "    # premennu `druha_najvacsia` aktualizujeme iba ak hodnota nie je rovnaká ako maximum\n",
    "    # a iba vtedy ak je to prvá nájdená hodnota (`druha_najvacsia` je None), alebo\n",
    "    # je menšia než aktuálna hodnota\n",
    "    elif x != najvacsia and (druha_najvacsia is None or x < druha_najvacsia):\n",
    "        druha_najvacsia = x\n",
    "\n",
    "# pre None hodnotu by sa nič nezobrazilo bez print\n",
    "print(druha_najvacsia)"
   ]
  },
  {
   "cell_type": "markdown",
   "metadata": {},
   "source": [
    "### Úloha 3.15\n",
    "\n",
    "Vypočítajte štandardnú odchýlku hodnôt v nasledujúcom zozname. Štandardnú odchýlku vypočítate podľa nasledujúceho vzorca:\n",
    "$$s = \\sqrt{\\frac{1}{N-1} \\sum_{i=1}^N (x_i - \\overline{x})^2}$$\n",
    "kde $N$ je počet hodnôt v zozname, $x_i$ je i-ta hodnota a $\\overline{x}$ je priemerná hodnota zo všetkých hodnôt v zozname."
   ]
  },
  {
   "cell_type": "code",
   "execution_count": 9,
   "metadata": {},
   "outputs": [
    {
     "name": "stdout",
     "output_type": "stream",
     "text": [
      "2.757817172249741\n"
     ]
    }
   ],
   "source": [
    "cisla = [1, 6, 8, 2, 10, -2]\n",
    "\n",
    "# najprv si vypočítame sumu prvkov pre priemer\n",
    "suma = 0\n",
    "for x in cisla:\n",
    "    suma += x\n",
    "\n",
    "# vypočítame priemernú hodnotu\n",
    "priemer = suma / len(cisla)\n",
    "\n",
    "# vypočítame si sumu štvorcov rozdielov\n",
    "suma_stvorcov = 0\n",
    "for x in cisla:\n",
    "    suma_stvorcov = (x - priemer)**2\n",
    "\n",
    "# vydelíme 1 - N a odmocníme\n",
    "stdev = (suma_stvorcov / (len(cisla) - 1))**0.5\n",
    "print(stdev)"
   ]
  },
  {
   "cell_type": "markdown",
   "metadata": {},
   "source": [
    "### Úloha 3.16\n",
    "\n",
    "Odstráňte zo zoznamu `cisla` párne čísla. (Poznámka: párne čísla sú deliteľné 2 bezo zvyšku, ak budete priamo meniť zoznam, je lepšie si urobiť pri iterovaní jeho kópiu)"
   ]
  },
  {
   "cell_type": "code",
   "execution_count": 10,
   "metadata": {},
   "outputs": [
    {
     "data": {
      "text/plain": [
       "[1]"
      ]
     },
     "execution_count": 10,
     "metadata": {},
     "output_type": "execute_result"
    }
   ],
   "source": [
    "cisla = [1, 6, 8, 2, 10, -2]\n",
    "\n",
    "# najjednoduchší spôsob je si vytvoriť nový zoznam do ktorého postupne pridáme iba\n",
    "# nepárne čísla\n",
    "neparne_cisla = []\n",
    "for x in cisla:\n",
    "    if x % 2 != 0: # nepárne čísla majú zvyšok po delení 2 rovný 1\n",
    "        neparne_cisla.append(x)\n",
    "cisla = neparne_cisla\n",
    "\n",
    "cisla"
   ]
  },
  {
   "cell_type": "markdown",
   "metadata": {},
   "source": [
    "### Úloha 3.17\n",
    "Vygenerujte zoznam `cisla`, ktorý bude obsahovať druhé mocniny čísel od 5 do 10."
   ]
  },
  {
   "cell_type": "code",
   "execution_count": 11,
   "metadata": {},
   "outputs": [
    {
     "data": {
      "text/plain": [
       "[25, 36, 49, 64, 81]"
      ]
     },
     "execution_count": 11,
     "metadata": {},
     "output_type": "execute_result"
    }
   ],
   "source": [
    "cisla = [] # inicializujeme si prázdny zoznam\n",
    "for x in range(5, 10): # range vygeneruje čísla od 5 (vrátane) do 10 (bez)\n",
    "    cisla.append(x**2)\n",
    "cisla"
   ]
  },
  {
   "cell_type": "markdown",
   "metadata": {},
   "source": [
    "### Úloha 3.18\n",
    "\n",
    "Napíšte program, ktorý rozdelí zoznam `cisla` na pod-zoznamy, pri výskyte zadanej hodnoty."
   ]
  },
  {
   "cell_type": "code",
   "execution_count": 12,
   "metadata": {},
   "outputs": [
    {
     "data": {
      "text/plain": [
       "[[0, 1], [3, 4], [5, 6, 7], [], [8]]"
      ]
     },
     "execution_count": 12,
     "metadata": {},
     "output_type": "execute_result"
    }
   ],
   "source": [
    "hodnota = 2\n",
    "cisla = [0, 1, 2, 3, 4, 2, 5, 6, 7, 2, 2, 8]\n",
    "rozdeleny_zoznam = None # očakávaný výsledok je zoznam s vnorenými zoznamami [[0, 1], [3, 4], [5, 6, 7], [], [8]]\n",
    "                        # (všimnite si, že sa pridá prázdny zoznam ak sa hodnota opakuje)\n",
    "\n",
    "rozdeleny_zoznam = [] # inicializujeme si prázdny zoznam a pomocnú premennú pre podzoznam\n",
    "podzoznam = []\n",
    "for x in cisla:\n",
    "    if x == hodnota: # ak sme našli hodnotu pre oddelenie\n",
    "        rozdeleny_zoznam.append(podzoznam) # podzoznam pridáme do `rozdeleny_zoznam` a znovu ho reinicializujeme\n",
    "        podzoznam = []\n",
    "    else:\n",
    "        podzoznam.append(x) # ostatné prvky pridáme do podzoznamu\n",
    "\n",
    "# na konci, ak máme neprázdny podzoznam, pridáme ho do `split`\n",
    "if len(podzoznam) != 0:\n",
    "    rozdeleny_zoznam.append(podzoznam)\n",
    "    \n",
    "rozdeleny_zoznam"
   ]
  },
  {
   "cell_type": "code",
   "execution_count": null,
   "metadata": {},
   "outputs": [],
   "source": []
  }
 ],
 "metadata": {
  "kernelspec": {
   "display_name": "Python 3",
   "language": "python",
   "name": "python3"
  },
  "language_info": {
   "codemirror_mode": {
    "name": "ipython",
    "version": 3
   },
   "file_extension": ".py",
   "mimetype": "text/x-python",
   "name": "python",
   "nbconvert_exporter": "python",
   "pygments_lexer": "ipython3",
   "version": "3.7.0"
  }
 },
 "nbformat": 4,
 "nbformat_minor": 2
}
