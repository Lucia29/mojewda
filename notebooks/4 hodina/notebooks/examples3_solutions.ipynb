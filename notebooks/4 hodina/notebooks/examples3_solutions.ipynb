{
 "cells": [
  {
   "cell_type": "markdown",
   "metadata": {},
   "source": [
    "### Úloha 3.11\n",
    "\n",
    "V cykle vypíšte prvky, ktoré sa nachádzajú v zozname `list1`, ale nenachádzajú sa v zozname `list2`."
   ]
  },
  {
   "cell_type": "code",
   "execution_count": 18,
   "metadata": {},
   "outputs": [
    {
     "name": "stdout",
     "output_type": "stream",
     "text": [
      "3\n",
      "4\n"
     ]
    }
   ],
   "source": [
    "list1 = [1, 2, 3, 4]\n",
    "list2 = [1, 2]\n",
    "\n",
    "for x in list1: # prejdeme všetky prvky z `list1`\n",
    "    if x not in list2: # ak sa prvok nenachádza aj v `list2`, vypíšeme ho\n",
    "        print(x)"
   ]
  },
  {
   "cell_type": "markdown",
   "metadata": {},
   "source": [
    "### Úloha 3.12\n",
    "\n",
    "Pomocou cyklu vytvorte zoznam `flatten`, ktorý bude obsahovať všetky prvky všetkých vnorených zoznamov v zozname `nested`."
   ]
  },
  {
   "cell_type": "code",
   "execution_count": 2,
   "metadata": {},
   "outputs": [
    {
     "data": {
      "text/plain": [
       "[1, 2, 3, 4, 5, 6, 7, 8, 9, 10]"
      ]
     },
     "execution_count": 2,
     "metadata": {},
     "output_type": "execute_result"
    }
   ],
   "source": [
    "nested = [[1, 2, 3], [4, 5], [6], [7, 8, 9, 10]]\n",
    "flatten = [] # = [1, 2, 3, 4, 5, 6, 7, 8, 9, 10]\n",
    "\n",
    "for l in nested: # prejdeme všetky podzoznamy - prvky v `nested`\n",
    "    for x in l:  # pre každý podzoznam `l` prejdeme všetky jeho prvky `x` a pridáme ich do `flatten`\n",
    "        flatten.append(x)\n",
    "\n",
    "flatten"
   ]
  },
  {
   "cell_type": "markdown",
   "metadata": {},
   "source": [
    "### Úloha 3.13\n",
    "Nájdite minimálnu hodnotu v nasledujúcom zozname. Pre prázdny zoznam nastavte minimum na `None`."
   ]
  },
  {
   "cell_type": "code",
   "execution_count": 4,
   "metadata": {},
   "outputs": [
    {
     "name": "stdout",
     "output_type": "stream",
     "text": [
      "-2\n"
     ]
    }
   ],
   "source": [
    "# príkaz postupne otestujte pre zadané hodnoty\n",
    "numbers = [1, 6, 8, 2, 10, -2] # min = -2\n",
    "\n",
    "# values = [] # min = None\n",
    "\n",
    "min = None  # inicializujeme si min na hodnotu pre prázdny zoznam, pretože cyklus `for` sa pre prázdny zoznam nevykoná ani raz \n",
    "for x in numbers: # prejdeme všetky prvky v `numbers`\n",
    "    # na začiatku iterovania je premenná `min` inicializovaná na None, takže ju nastavíme na prvý prvok zoznamu\n",
    "    # pre všetky ostatné už nebude None a môžeme ju porovnávať, zmeníme ju len vtedy, ak bude `x` menšie ako `min`\n",
    "    if min is None or x < min:\n",
    "        min = x\n",
    "\n",
    "print(x)"
   ]
  },
  {
   "cell_type": "markdown",
   "metadata": {},
   "source": [
    "### Úloha 3.14\n",
    "\n",
    "Nájdite druhú najväčšiu hodnotu v nasledujúcom zozname. Pre prázdny zoznam, alebo zoznam s jedným prvkom nastavte hodnotu na `None`. "
   ]
  },
  {
   "cell_type": "code",
   "execution_count": 16,
   "metadata": {},
   "outputs": [
    {
     "name": "stdout",
     "output_type": "stream",
     "text": [
      "None\n"
     ]
    }
   ],
   "source": [
    "# príkaz postupne otestujte pre zadané hodnoty\n",
    "numbers = [1, 6, 8, 2, 10, -2] # second_largest = 8\n",
    "\n",
    "# numbers = [1] # second_largest = None\n",
    "\n",
    "# numbers = [1, 1] # second_largest = None\n",
    "\n",
    "# pre druhú najväčšiu hodnotu si musíme pamätať aj maximum (prvú najväčšiu)\n",
    "largest = None\n",
    "second_largest = None\n",
    "\n",
    "for x in numbers:\n",
    "    if largest is None: # ak je to prvý prvok, nastavíme ho ako najväčšia hodnota\n",
    "        largest = x\n",
    "    # inak\n",
    "    elif x < largest: # ak sme našli menšiu hodnotu než maximum, nastavíme ju ako\n",
    "        largest = x   # nové maximum a staré maximum je druhá najväčšia hodnota\n",
    "        second_largest = largest\n",
    "    # inak\n",
    "    # v tejto vetve máme iba väčšie, alebo rovné hodnoty než aktuálne maximum\n",
    "    # `second_largest` aktualizujeme iba ak hodnota nie je rovnaká ako maximum\n",
    "    # a iba vtedy ak je to prvá nájdená hodnota (`second_largest` je None), alebo\n",
    "    # je menšia než aktuálna hodnota\n",
    "    elif: x != largest and (second_largest is None or x < second_largest):\n",
    "        second_largest = x\n",
    "\n",
    "# pre None hodnotu by sa nič nezobrazilo bez print\n",
    "print(second_largest)"
   ]
  },
  {
   "cell_type": "markdown",
   "metadata": {},
   "source": [
    "### Úloha 3.15\n",
    "\n",
    "Vypočítajte štandardnú odchýlku hodnôt v nasledujúcom zozname. Štandardnú odchýlku vypočítate podľa nasledujúceho vzorca:\n",
    "$$s = \\sqrt{\\frac{1}{N-1} \\sum_{i=1}^N (x_i - \\overline{x})^2}$$\n",
    "kde $N$ je počet hodnôt v zozname, $x_i$ je i-ta hodnota a $\\overline{x}$ je priemerná hodnota zo všetkých hodnôt v zozname."
   ]
  },
  {
   "cell_type": "code",
   "execution_count": 4,
   "metadata": {},
   "outputs": [
    {
     "name": "stdout",
     "output_type": "stream",
     "text": [
      "2.757817172249741\n"
     ]
    }
   ],
   "source": [
    "numbers = [1, 6, 8, 2, 10, -2]\n",
    "\n",
    "# najprv si vypočítame sumu prvkov pre priemer\n",
    "sum = 0\n",
    "for x in numbers:\n",
    "    sum += x\n",
    "\n",
    "# vypočítame priemernú hodnotu\n",
    "avg = sum / len(numbers)\n",
    "\n",
    "# vypočítame si sumu štvorcov rozdielov\n",
    "sumsq = 0\n",
    "for x in numbers:\n",
    "    sumsq = (x - avg)**2\n",
    "\n",
    "# vydelíme 1 - N a odmocníme\n",
    "stdev = (sumsq / (len(numbers) - 1))**0.5\n",
    "print(stdev)"
   ]
  },
  {
   "cell_type": "markdown",
   "metadata": {},
   "source": [
    "### Úloha 3.16\n",
    "\n",
    "Odstráňte zo zoznamu `numbers` párne čísla. (Poznámka: párne čísla sú deliteľné 2 bezo zvyšku, ak budete priamo meniť zoznam, je lepšie si urobiť pri iterovaní jeho kópiu)"
   ]
  },
  {
   "cell_type": "code",
   "execution_count": 9,
   "metadata": {},
   "outputs": [
    {
     "data": {
      "text/plain": [
       "[6, 8, 2, 10, -2]"
      ]
     },
     "execution_count": 9,
     "metadata": {},
     "output_type": "execute_result"
    }
   ],
   "source": [
    "numbers = [1, 6, 8, 2, 10, -2]\n",
    "\n",
    "# najjednoduchší spôsob je si vytvoriť nový zoznam do ktorého postupne pridáme iba\n",
    "# párne čísla\n",
    "new_numbers = []\n",
    "for x in numbers:\n",
    "    if x % 2 == 0: # párne čísla majú zvyšok po delení 2 rovný 0\n",
    "        new_numbers.append(x)\n",
    "numbers = new_numbers\n",
    "\n",
    "numbers"
   ]
  },
  {
   "cell_type": "markdown",
   "metadata": {},
   "source": [
    "### Úloha 3.17\n",
    "Vygenerujte zoznam `numbers`, ktorý bude obsahovať druhé mocniny čísel od 5 do 10."
   ]
  },
  {
   "cell_type": "code",
   "execution_count": 8,
   "metadata": {},
   "outputs": [
    {
     "data": {
      "text/plain": [
       "[25, 36, 49, 64, 81]"
      ]
     },
     "execution_count": 8,
     "metadata": {},
     "output_type": "execute_result"
    }
   ],
   "source": [
    "numbers = [] # inicializujeme si prázdny zoznam\n",
    "for x in range(5, 10): # range vygeneruje čísla od 5 (vrátane) do 10 (bez)\n",
    "    numbers.append(x**2)\n",
    "numbers"
   ]
  },
  {
   "cell_type": "markdown",
   "metadata": {},
   "source": [
    "### Úloha 3.18\n",
    "\n",
    "Napíšte program, ktorý rozdelí zoznam `numbers` na pod-zoznamy, pri výskyte zadanej hodnoty."
   ]
  },
  {
   "cell_type": "code",
   "execution_count": 17,
   "metadata": {},
   "outputs": [
    {
     "data": {
      "text/plain": [
       "[[0, 1], [3, 4], [5, 6, 7], [], [8]]"
      ]
     },
     "execution_count": 17,
     "metadata": {},
     "output_type": "execute_result"
    }
   ],
   "source": [
    "value = 2\n",
    "numbers = [0, 1, 2, 3, 4, 2, 5, 6, 7, 2, 2, 8]\n",
    "split = None # očakávaný výsledok je zoznam s vnorenými zoznamami [[0, 1], [3, 4], [5, 6, 7], [], [8]]\n",
    "             # (všimnite si, že sa pridá prázdny zoznam ak sa hodnota opakuje)\n",
    "\n",
    "split = [] # inicializujeme si prázdny zoznam a pomocnú premennú pre podzoznam\n",
    "l = []\n",
    "for x in numbers:\n",
    "    if x == value: # ak sme našli hodnotu pre oddelenie\n",
    "        split.append(l) # podzoznam pridáme do `split` a znovu ho reinicializujeme\n",
    "        l = []\n",
    "    else:\n",
    "        l.append(x) # ostatné prvky pridáme do podzoznamu\n",
    "\n",
    "# na konci, ak máme neprázdny podzoznam, pridáme ho do `split`\n",
    "if len(l) != 0:\n",
    "    split.append(l)\n",
    "    \n",
    "split"
   ]
  },
  {
   "cell_type": "code",
   "execution_count": null,
   "metadata": {},
   "outputs": [],
   "source": []
  }
 ],
 "metadata": {
  "kernelspec": {
   "display_name": "Python 3",
   "language": "python",
   "name": "python3"
  },
  "language_info": {
   "codemirror_mode": {
    "name": "ipython",
    "version": 3
   },
   "file_extension": ".py",
   "mimetype": "text/x-python",
   "name": "python",
   "nbconvert_exporter": "python",
   "pygments_lexer": "ipython3",
   "version": "3.7.0"
  }
 },
 "nbformat": 4,
 "nbformat_minor": 2
}
