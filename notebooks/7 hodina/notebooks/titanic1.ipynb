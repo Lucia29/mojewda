{
 "cells": [
  {
   "cell_type": "markdown",
   "metadata": {},
   "source": [
    "## Základné nastavenia\n",
    "\n",
    "Importujeme potrebné knižnice. Nasledujúci odstavec by mal byť spustený ako prvý predtým ako sa budú používať importované objekty `pd`, `np`, `plt` a `sns`."
   ]
  },
  {
   "cell_type": "code",
   "execution_count": 1,
   "metadata": {},
   "outputs": [],
   "source": [
    "import pandas as pd\n",
    "import numpy as np\n",
    "import matplotlib.pyplot as plt\n",
    "import seaborn as sns\n",
    "\n",
    "# nastavíme zobrazovanie grafov priamo v odstavcoch zápisníka\n",
    "%matplotlib inline\n",
    "# inicializujeme knižnicu seaborn\n",
    "sns.set()"
   ]
  },
  {
   "cell_type": "markdown",
   "metadata": {},
   "source": [
    "## Dátová množina - Titanic\n",
    "\n",
    "\n",
    "[RMS Titanic](https://en.wikipedia.org/wiki/RMS_Titanic) bola britská osobná loď, ktorá stroskotala 15 apríla 1912 na svojej prvej komerčnej plavbe. V čase svojej služby bola najväčšou plávajúcou loďou na svete. Pri nehode zahynulo viac než 1500 osôb z celkového odhadovaného počtu 2224 pasažierov a členov posádky.\n",
    "\n",
    "![RMS Titanic](titanic.jpg)\n",
    "[Zdroj](https://en.wikipedia.org/wiki/Sinking_of_the_RMS_Titanic)\n",
    "\n",
    "Dátová množina obsahuje informácie o pasažieroch Titanicu. Každý pasažier je popísaný nasledovnými atribútmi:\n",
    "* `pclass` - trieda, v ktorej pasažier cestoval\n",
    "* `survived` - udáva, či pasažier nehodu parníku prežil (1), alebo nie (0)\n",
    "* `name` - meno cestujúceho\n",
    "* `sex` - pohlavie\n",
    "* `age` - vek\n",
    "* `sibsp` - počet súrodencov pasažiera, resp. druhov/družiek\n",
    "* `parch` - počet rodičov/detí medzi cestujúcimi\n",
    "* `ticket` - číslo lístka\n",
    "* `fare` - výška cestovného\n",
    "* `cabin` - kajuta v ktorej bol cestujúci ubytovaný\n",
    "* `embarked` - prístav, kde cestujúci nastúpil (`S` - Southampton, `C` - Cherbourg, `Q` - Queenstown)"
   ]
  },
  {
   "cell_type": "code",
   "execution_count": 2,
   "metadata": {},
   "outputs": [
    {
     "name": "stdout",
     "output_type": "stream",
     "text": [
      "(1309, 11)\n",
      "Index(['pclass', 'survived', 'name', 'sex', 'age', 'sibsp', 'parch', 'ticket',\n",
      "       'fare', 'cabin', 'embarked'],\n",
      "      dtype='object')\n"
     ]
    }
   ],
   "source": [
    "data = pd.read_csv(\"../data/titanic.csv\") # načítame si dáta zo súboru ../data/titanic.csv\n",
    "print(data.shape) # zobrazíme rozmer dátovej tabuľky v tvare (počet riadkov, počet stĺpcov)\n",
    "print(data.columns) # zobrazíme názvy stĺpcov"
   ]
  },
  {
   "cell_type": "code",
   "execution_count": 3,
   "metadata": {},
   "outputs": [
    {
     "data": {
      "text/html": [
       "<div>\n",
       "<style scoped>\n",
       "    .dataframe tbody tr th:only-of-type {\n",
       "        vertical-align: middle;\n",
       "    }\n",
       "\n",
       "    .dataframe tbody tr th {\n",
       "        vertical-align: top;\n",
       "    }\n",
       "\n",
       "    .dataframe thead th {\n",
       "        text-align: right;\n",
       "    }\n",
       "</style>\n",
       "<table border=\"1\" class=\"dataframe\">\n",
       "  <thead>\n",
       "    <tr style=\"text-align: right;\">\n",
       "      <th></th>\n",
       "      <th>pclass</th>\n",
       "      <th>survived</th>\n",
       "      <th>name</th>\n",
       "      <th>sex</th>\n",
       "      <th>age</th>\n",
       "      <th>sibsp</th>\n",
       "      <th>parch</th>\n",
       "      <th>ticket</th>\n",
       "      <th>fare</th>\n",
       "      <th>cabin</th>\n",
       "      <th>embarked</th>\n",
       "    </tr>\n",
       "  </thead>\n",
       "  <tbody>\n",
       "    <tr>\n",
       "      <th>0</th>\n",
       "      <td>1</td>\n",
       "      <td>1</td>\n",
       "      <td>Allen, Miss. Elisabeth Walton</td>\n",
       "      <td>female</td>\n",
       "      <td>29.00</td>\n",
       "      <td>0</td>\n",
       "      <td>0</td>\n",
       "      <td>24160</td>\n",
       "      <td>211.3375</td>\n",
       "      <td>B5</td>\n",
       "      <td>S</td>\n",
       "    </tr>\n",
       "    <tr>\n",
       "      <th>1</th>\n",
       "      <td>1</td>\n",
       "      <td>1</td>\n",
       "      <td>Allison, Master. Hudson Trevor</td>\n",
       "      <td>male</td>\n",
       "      <td>0.92</td>\n",
       "      <td>1</td>\n",
       "      <td>2</td>\n",
       "      <td>113781</td>\n",
       "      <td>151.5500</td>\n",
       "      <td>C22 C26</td>\n",
       "      <td>S</td>\n",
       "    </tr>\n",
       "    <tr>\n",
       "      <th>2</th>\n",
       "      <td>1</td>\n",
       "      <td>0</td>\n",
       "      <td>Allison, Miss. Helen Loraine</td>\n",
       "      <td>female</td>\n",
       "      <td>2.00</td>\n",
       "      <td>1</td>\n",
       "      <td>2</td>\n",
       "      <td>113781</td>\n",
       "      <td>151.5500</td>\n",
       "      <td>C22 C26</td>\n",
       "      <td>S</td>\n",
       "    </tr>\n",
       "    <tr>\n",
       "      <th>3</th>\n",
       "      <td>1</td>\n",
       "      <td>0</td>\n",
       "      <td>Allison, Mr. Hudson Joshua Creighton</td>\n",
       "      <td>male</td>\n",
       "      <td>30.00</td>\n",
       "      <td>1</td>\n",
       "      <td>2</td>\n",
       "      <td>113781</td>\n",
       "      <td>151.5500</td>\n",
       "      <td>C22 C26</td>\n",
       "      <td>S</td>\n",
       "    </tr>\n",
       "    <tr>\n",
       "      <th>4</th>\n",
       "      <td>1</td>\n",
       "      <td>0</td>\n",
       "      <td>Allison, Mrs. Hudson J C (Bessie Waldo Daniels)</td>\n",
       "      <td>female</td>\n",
       "      <td>25.00</td>\n",
       "      <td>1</td>\n",
       "      <td>2</td>\n",
       "      <td>113781</td>\n",
       "      <td>151.5500</td>\n",
       "      <td>C22 C26</td>\n",
       "      <td>S</td>\n",
       "    </tr>\n",
       "  </tbody>\n",
       "</table>\n",
       "</div>"
      ],
      "text/plain": [
       "   pclass  survived                                             name     sex  \\\n",
       "0       1         1                    Allen, Miss. Elisabeth Walton  female   \n",
       "1       1         1                   Allison, Master. Hudson Trevor    male   \n",
       "2       1         0                     Allison, Miss. Helen Loraine  female   \n",
       "3       1         0             Allison, Mr. Hudson Joshua Creighton    male   \n",
       "4       1         0  Allison, Mrs. Hudson J C (Bessie Waldo Daniels)  female   \n",
       "\n",
       "     age  sibsp  parch  ticket      fare    cabin embarked  \n",
       "0  29.00      0      0   24160  211.3375       B5        S  \n",
       "1   0.92      1      2  113781  151.5500  C22 C26        S  \n",
       "2   2.00      1      2  113781  151.5500  C22 C26        S  \n",
       "3  30.00      1      2  113781  151.5500  C22 C26        S  \n",
       "4  25.00      1      2  113781  151.5500  C22 C26        S  "
      ]
     },
     "execution_count": 3,
     "metadata": {},
     "output_type": "execute_result"
    }
   ],
   "source": [
    "data.head() # zobrazíme prvých 5 riadkov tabuľky"
   ]
  },
  {
   "cell_type": "markdown",
   "metadata": {},
   "source": [
    "### Úprava hodnôt\n",
    "\n",
    "Keďže označenie lístka nevieme priamo interpretovať a nevieme z neho zistiť užitočné informácie o pasažieroch, stĺpec `ticket` odstránime z dátovej tabuľky."
   ]
  },
  {
   "cell_type": "code",
   "execution_count": 4,
   "metadata": {},
   "outputs": [],
   "source": [
    "data.drop(columns=\"ticket\", inplace=True) # odstránime stĺpec ticket priamo z dátového rámca data"
   ]
  },
  {
   "cell_type": "markdown",
   "metadata": {},
   "source": [
    "V sĺpci `embarked` si nahradíme skratky `S`, `Q`, a `C` za `Southampton`, `Queenstown` a `Cherbourg`."
   ]
  },
  {
   "cell_type": "code",
   "execution_count": 5,
   "metadata": {},
   "outputs": [
    {
     "data": {
      "text/plain": [
       "Southampton    914\n",
       "Cherbourg      270\n",
       "Queenstown     123\n",
       "Name: embarked, dtype: int64"
      ]
     },
     "execution_count": 5,
     "metadata": {},
     "output_type": "execute_result"
    }
   ],
   "source": [
    " # hodnoty kategorických atribútov môžete premapovať pomocou metódy map objektu typu Series\n",
    "data[\"embarked\"] = data[\"embarked\"].map({\"S\": \"Southampton\", \"Q\": 'Queenstown', \"C\":\"Cherbourg\"})\n",
    "data[\"embarked\"].value_counts() # zobrazíme si rôzne hodnoty po nahradení a ich početnosti"
   ]
  },
  {
   "cell_type": "markdown",
   "metadata": {},
   "source": [
    "### Nahradenie chýbajúcich hodnôt 1\n",
    "\n",
    "Jedným zo základných krokov predspracovania dát je spracovanie prázdnych hodnôt. Pri výskyte prázdnych hodnôt je potrebné rozlišovať, či ide o _chýbajúce hodnoty_ - tzn. daný záznam by mal mať uvedenú hodnotu, ale z nejakého dôvodu nie je vyplnená, alebo či pre daný záznam daný atribút nemá význam uvádzať. Pri chýbajúcich hodnotách sa môžeme pokúsiť hodnoty doplniť tak, aby sme čo najmenej narušili vzťahy v dátach, resp. ak je chýbajúcich hodnôt príliš veľa, môžeme z dátovej množiny odstrániť jednotlivé stĺpce, alebo záznamy s chýbajúcimi hodnotami."
   ]
  },
  {
   "cell_type": "code",
   "execution_count": 6,
   "metadata": {},
   "outputs": [
    {
     "data": {
      "text/plain": [
       "pclass         0\n",
       "survived       0\n",
       "name           0\n",
       "sex            0\n",
       "age          263\n",
       "sibsp          0\n",
       "parch          0\n",
       "fare           1\n",
       "cabin       1014\n",
       "embarked       2\n",
       "dtype: int64"
      ]
     },
     "execution_count": 6,
     "metadata": {},
     "output_type": "execute_result"
    }
   ],
   "source": [
    "# metóda isna vráti tabuľku iba s Boolovskými hodnotami pre každý stĺpec (True - chýbajúca hodnota, False - neprázdna hodnota)\n",
    "# sum potom spočíta počet hodnôt True (tzn. počet chýbajúcich hodnôt pre každý stĺpec)\n",
    "data.isna().sum() # spočítame si počet chýbajúcich hodnôt"
   ]
  },
  {
   "cell_type": "markdown",
   "metadata": {},
   "source": [
    "Nahradíme chýbajúe hodnoty pre stĺpec `fare`."
   ]
  },
  {
   "cell_type": "code",
   "execution_count": 7,
   "metadata": {},
   "outputs": [
    {
     "data": {
      "image/png": "[encoded data removed]",
      "text/plain": [
       "<Figure size 432x288 with 1 Axes>"
      ]
     },
     "metadata": {},
     "output_type": "display_data"
    }
   ],
   "source": [
    "p = data[\"fare\"].hist() # vykreslíme si histogram hodnôt"
   ]
  },
  {
   "cell_type": "code",
   "execution_count": 8,
   "metadata": {},
   "outputs": [
    {
     "name": "stdout",
     "output_type": "stream",
     "text": [
      "fare mean: 33.2955, median: 14.4542\n"
     ]
    }
   ],
   "source": [
    "# vypočítame si strednú hodnotu a medián\n",
    "fare_mean = data[\"fare\"].mean()\n",
    "fare_median = data[\"fare\"].median()\n",
    "print(\"fare mean: {0:.4f}, median: {1:.4f}\".format(fare_mean, fare_median))"
   ]
  },
  {
   "cell_type": "code",
   "execution_count": 9,
   "metadata": {},
   "outputs": [
    {
     "data": {
      "text/plain": [
       "0"
      ]
     },
     "execution_count": 9,
     "metadata": {},
     "output_type": "execute_result"
    }
   ],
   "source": [
    "# keďže hodnoty fare sú značne vychýlené, chýbajúce hodnoty nahradíme mediánom, ktorý lepšie charakterizuje najčastejšie sa vyskytujúce hodnoty\n",
    "data[\"fare\"].fillna(fare_median, inplace=True)\n",
    "data[\"fare\"].isna().sum() # skontrolujeme počet chýbajúcich hodnôt po nahradení"
   ]
  },
  {
   "cell_type": "markdown",
   "metadata": {},
   "source": [
    "### Úloha 7.1\n",
    "\n",
    "Chýbajúce hodnoty pre atribút `embarked` nahraďte najfrekventovanejšou hodnotou."
   ]
  },
  {
   "cell_type": "code",
   "execution_count": 10,
   "metadata": {},
   "outputs": [
    {
     "data": {
      "text/plain": [
       "2"
      ]
     },
     "execution_count": 10,
     "metadata": {},
     "output_type": "execute_result"
    }
   ],
   "source": [
    "# nahraďte chýbajúce hodnoty\n",
    "\n",
    "# skontrolujeme počet chýbajúcich hodnôt po nahradení\n",
    "data[\"embarked\"].isna().sum()"
   ]
  },
  {
   "cell_type": "markdown",
   "metadata": {},
   "source": [
    "### Odvodenie nových atribútov\n",
    "\n",
    "Odvodením nových atribútov z existujúcich hodnôt môžeme z dátovej množiny často získať užitočné informácie, ktoré v nej nie sú priamo vyjadrené."
   ]
  },
  {
   "cell_type": "code",
   "execution_count": 11,
   "metadata": {},
   "outputs": [
    {
     "data": {
      "image/png": "[encoded data removed]",
      "text/plain": [
       "<Figure size 432x288 with 1 Axes>"
      ]
     },
     "metadata": {},
     "output_type": "display_data"
    }
   ],
   "source": [
    "# vytvoríme si nový atribút family, ktorý bude udávať celkový počet príbuzných (súčet sibsp + parch)\n",
    "data[\"family\"] = data.eval(\"sibsp + parch\")\n",
    "p = data[\"family\"].hist()"
   ]
  },
  {
   "cell_type": "code",
   "execution_count": 12,
   "metadata": {},
   "outputs": [
    {
     "data": {
      "text/plain": [
       "519"
      ]
     },
     "execution_count": 12,
     "metadata": {},
     "output_type": "execute_result"
    }
   ],
   "source": [
    "# vytvoríme si nový binárny atribút has_family, ktorý bude udávať, či pasažier cestoval s rodinou\n",
    "data[\"has_family\"] = data.eval(\"family > 0\")\n",
    "data[\"has_family\"].sum() # spočítame, koľko pasažierov cestovalo s rodinou"
   ]
  },
  {
   "cell_type": "markdown",
   "metadata": {},
   "source": [
    "Mená pasažierov sú vo formáte `priezvisko, titul. meno`. Vyextrahujeme si z mena hodnoty titulov."
   ]
  },
  {
   "cell_type": "code",
   "execution_count": 13,
   "metadata": {},
   "outputs": [
    {
     "data": {
      "text/plain": [
       "Mr              757\n",
       "Miss            260\n",
       "Mrs             197\n",
       "Master           61\n",
       "Rev               8\n",
       "Dr                8\n",
       "Col               4\n",
       "Mlle              2\n",
       "Major             2\n",
       "Ms                2\n",
       "Lady              1\n",
       "Jonkheer          1\n",
       "Don               1\n",
       "Mme               1\n",
       "Dona              1\n",
       "Capt              1\n",
       "Sir               1\n",
       "the Countess      1\n",
       "Name: title, dtype: int64"
      ]
     },
     "execution_count": 13,
     "metadata": {},
     "output_type": "execute_result"
    }
   ],
   "source": [
    "# definujeme si funkciu, ktorá z celého reťazca mena vyextrahuje iba časť titulu\n",
    "def extract_title(name):\n",
    "    if pd.isna(name): # pomocou pd.isna otestujeme, či je name prázdna hodnota\n",
    "        return np.nan # ak je name prázdna hodnota, vrátime prázdnu hodnotu aj pre titul\n",
    "                      # (prázdne hodnoty sú v pandas reprezentované číselnou konštantou np.nan - Not A Number)\n",
    "    start = name.find(\",\") + 1\n",
    "    end = name.find(\".\")\n",
    "    return name[start:end].strip() # z mena vrátime podreťazec od , do . (bez prázdnych znakov na začiatku a konci)\n",
    "\n",
    "# pomocou metódy apply aplikujeme našu funkciu extract_title na všetky hodnoty stĺpca name a vrátené hodnoty uložíme v stĺpci title\n",
    "data[\"title\"] = data[\"name\"].apply(extract_title)\n",
    "# stĺpec name už nebudeme potrebovať, tak ho odstránime z dátovej tabuľky\n",
    "data.drop(columns=\"name\", inplace=True)\n",
    "# zobrazíme si tituly a koľko krát sa vyskytli\n",
    "data[\"title\"].value_counts()"
   ]
  },
  {
   "cell_type": "code",
   "execution_count": 14,
   "metadata": {},
   "outputs": [
    {
     "data": {
      "text/plain": [
       "Mr            757\n",
       "Miss          264\n",
       "Mrs           198\n",
       "rare title     90\n",
       "Name: title_short, dtype: int64"
      ]
     },
     "execution_count": 14,
     "metadata": {},
     "output_type": "execute_result"
    }
   ],
   "source": [
    "# pomocou metódy apply si premapujeme tituly na skrátený zoznam, ktorý priradíme do stĺpca title_short\n",
    "def map_title(title):\n",
    "    # všetky hodnostné, alebo šľachtické tituly namapujeme na hodnotu 'rare title'\n",
    "    if title in {\"Master\", \"Dr\", \"Rev\", \"Col\", \"Major\", \"Don\", \"Jonkheer\", \"Sir\", \"Dona\", \"Lady\", \"Capt\", \"the Countess\"}:\n",
    "        return \"rare title\"\n",
    "    elif title in {\"Mlle\", \"Ms\"}: # tituly z francúzštiny\n",
    "        return \"Miss\"\n",
    "    elif title in {\"Mme\"}:\n",
    "        return \"Mrs\"\n",
    "    return title;\n",
    "\n",
    "data[\"title_short\"] = data[\"title\"].apply(map_title)\n",
    "data[\"title_short\"].value_counts()"
   ]
  },
  {
   "cell_type": "markdown",
   "metadata": {},
   "source": [
    "### Nahradenie chýbajúcich hodnôt 2\n",
    "\n",
    "Chýbajúce hodnoty jedného atribútu môžeme lepšie odhadnúť na základe iných atribútov. Napr. zobrazíme si rozdielny vek podľa pohlavia a titulu."
   ]
  },
  {
   "cell_type": "code",
   "execution_count": 15,
   "metadata": {},
   "outputs": [
    {
     "data": {
      "text/html": [
       "<div>\n",
       "<style scoped>\n",
       "    .dataframe tbody tr th:only-of-type {\n",
       "        vertical-align: middle;\n",
       "    }\n",
       "\n",
       "    .dataframe tbody tr th {\n",
       "        vertical-align: top;\n",
       "    }\n",
       "\n",
       "    .dataframe thead tr th {\n",
       "        text-align: left;\n",
       "    }\n",
       "\n",
       "    .dataframe thead tr:last-of-type th {\n",
       "        text-align: right;\n",
       "    }\n",
       "</style>\n",
       "<table border=\"1\" class=\"dataframe\">\n",
       "  <thead>\n",
       "    <tr>\n",
       "      <th></th>\n",
       "      <th></th>\n",
       "      <th>median</th>\n",
       "      <th>mean</th>\n",
       "      <th>min</th>\n",
       "      <th>max</th>\n",
       "      <th>count</th>\n",
       "    </tr>\n",
       "    <tr>\n",
       "      <th></th>\n",
       "      <th></th>\n",
       "      <th>age</th>\n",
       "      <th>age</th>\n",
       "      <th>age</th>\n",
       "      <th>age</th>\n",
       "      <th>age</th>\n",
       "    </tr>\n",
       "    <tr>\n",
       "      <th>sex</th>\n",
       "      <th>title_short</th>\n",
       "      <th></th>\n",
       "      <th></th>\n",
       "      <th></th>\n",
       "      <th></th>\n",
       "      <th></th>\n",
       "    </tr>\n",
       "  </thead>\n",
       "  <tbody>\n",
       "    <tr>\n",
       "      <th rowspan=\"3\" valign=\"top\">female</th>\n",
       "      <th>Miss</th>\n",
       "      <td>22.0</td>\n",
       "      <td>21.824366</td>\n",
       "      <td>0.17</td>\n",
       "      <td>63.0</td>\n",
       "      <td>213</td>\n",
       "    </tr>\n",
       "    <tr>\n",
       "      <th>Mrs</th>\n",
       "      <td>35.0</td>\n",
       "      <td>36.918129</td>\n",
       "      <td>14.00</td>\n",
       "      <td>76.0</td>\n",
       "      <td>171</td>\n",
       "    </tr>\n",
       "    <tr>\n",
       "      <th>rare title</th>\n",
       "      <td>43.5</td>\n",
       "      <td>42.250000</td>\n",
       "      <td>33.00</td>\n",
       "      <td>49.0</td>\n",
       "      <td>4</td>\n",
       "    </tr>\n",
       "    <tr>\n",
       "      <th rowspan=\"2\" valign=\"top\">male</th>\n",
       "      <th>Mr</th>\n",
       "      <td>29.0</td>\n",
       "      <td>32.252151</td>\n",
       "      <td>11.00</td>\n",
       "      <td>80.0</td>\n",
       "      <td>581</td>\n",
       "    </tr>\n",
       "    <tr>\n",
       "      <th>rare title</th>\n",
       "      <td>9.0</td>\n",
       "      <td>18.007532</td>\n",
       "      <td>0.33</td>\n",
       "      <td>70.0</td>\n",
       "      <td>77</td>\n",
       "    </tr>\n",
       "    <tr>\n",
       "      <th>All</th>\n",
       "      <th></th>\n",
       "      <td>28.0</td>\n",
       "      <td>29.881138</td>\n",
       "      <td>0.17</td>\n",
       "      <td>80.0</td>\n",
       "      <td>1046</td>\n",
       "    </tr>\n",
       "  </tbody>\n",
       "</table>\n",
       "</div>"
      ],
      "text/plain": [
       "                   median       mean    min   max count\n",
       "                      age        age    age   age   age\n",
       "sex    title_short                                     \n",
       "female Miss          22.0  21.824366   0.17  63.0   213\n",
       "       Mrs           35.0  36.918129  14.00  76.0   171\n",
       "       rare title    43.5  42.250000  33.00  49.0     4\n",
       "male   Mr            29.0  32.252151  11.00  80.0   581\n",
       "       rare title     9.0  18.007532   0.33  70.0    77\n",
       "All                  28.0  29.881138   0.17  80.0  1046"
      ]
     },
     "execution_count": 15,
     "metadata": {},
     "output_type": "execute_result"
    }
   ],
   "source": [
    "# v kontingenčnej tabuľke si zoskupíme dáta podľa pohlavia a titulu pasažierov a vypočítame základné štatistiky o veku\n",
    "# parameter margins=True pridáva do kontingenčnej tabuľky celkové štatistiky pre každý riadok a stĺpec\n",
    "pd.pivot_table(data, index=[\"sex\", \"title_short\"], values=\"age\", aggfunc=[\"median\", \"mean\", \"min\", \"max\", \"count\"], margins=True)"
   ]
  },
  {
   "cell_type": "code",
   "execution_count": 16,
   "metadata": {},
   "outputs": [
    {
     "data": {
      "image/png": "[encoded data removed]",
      "text/plain": [
       "<Figure size 432x288 with 1 Axes>"
      ]
     },
     "metadata": {},
     "output_type": "display_data"
    }
   ],
   "source": [
    "# zaujímavý je nízky vek mužov s šľachtickým titulom, zobrazíme si histogram hodnôt v tejto skupine pasažierov\n",
    "l = data.query(\"sex == 'male' and title_short == 'rare title'\")[\"age\"].hist()\n"
   ]
  },
  {
   "cell_type": "markdown",
   "metadata": {},
   "source": [
    "Metódu `apply` môžeme aplikovať aj na transformovanie/extrahovanie dát odvodených z hodnôt na danom riadku. V nasledujúcom kóde nahradíme chýbajúce hodnoty veku mediánom podľa hodnôt pohlavia a titulu."
   ]
  },
  {
   "cell_type": "code",
   "execution_count": 17,
   "metadata": {},
   "outputs": [
    {
     "data": {
      "text/html": [
       "<div>\n",
       "<style scoped>\n",
       "    .dataframe tbody tr th:only-of-type {\n",
       "        vertical-align: middle;\n",
       "    }\n",
       "\n",
       "    .dataframe tbody tr th {\n",
       "        vertical-align: top;\n",
       "    }\n",
       "\n",
       "    .dataframe thead th {\n",
       "        text-align: right;\n",
       "    }\n",
       "</style>\n",
       "<table border=\"1\" class=\"dataframe\">\n",
       "  <thead>\n",
       "    <tr style=\"text-align: right;\">\n",
       "      <th></th>\n",
       "      <th></th>\n",
       "      <th>age</th>\n",
       "    </tr>\n",
       "    <tr>\n",
       "      <th>sex</th>\n",
       "      <th>title_short</th>\n",
       "      <th></th>\n",
       "    </tr>\n",
       "  </thead>\n",
       "  <tbody>\n",
       "    <tr>\n",
       "      <th rowspan=\"3\" valign=\"top\">female</th>\n",
       "      <th>Miss</th>\n",
       "      <td>22.0</td>\n",
       "    </tr>\n",
       "    <tr>\n",
       "      <th>Mrs</th>\n",
       "      <td>35.0</td>\n",
       "    </tr>\n",
       "    <tr>\n",
       "      <th>rare title</th>\n",
       "      <td>43.5</td>\n",
       "    </tr>\n",
       "    <tr>\n",
       "      <th rowspan=\"2\" valign=\"top\">male</th>\n",
       "      <th>Mr</th>\n",
       "      <td>29.0</td>\n",
       "    </tr>\n",
       "    <tr>\n",
       "      <th>rare title</th>\n",
       "      <td>9.0</td>\n",
       "    </tr>\n",
       "  </tbody>\n",
       "</table>\n",
       "</div>"
      ],
      "text/plain": [
       "                     age\n",
       "sex    title_short      \n",
       "female Miss         22.0\n",
       "       Mrs          35.0\n",
       "       rare title   43.5\n",
       "male   Mr           29.0\n",
       "       rare title    9.0"
      ]
     },
     "execution_count": 17,
     "metadata": {},
     "output_type": "execute_result"
    }
   ],
   "source": [
    "# najprv si vypočítame medián pre jednotlivé skupiny pomocou kontingenčnej tabuľky\n",
    "ptable = pd.pivot_table(data, index=[\"sex\", \"title_short\"], values=\"age\", aggfunc=\"median\")\n",
    "ptable"
   ]
  },
  {
   "cell_type": "markdown",
   "metadata": {},
   "source": [
    "Riadky a stĺpce kontingenčnej tabuľky môžu byť označené na viacerých úrovniach, takže musíme pri prístupe k hodnotám tabuľky ako index zadať n-ticu hodnôt pre každú úroveň.\n",
    "V našej tabuľke uloženej v premennej `ptable` majú stĺpce len jednu úroveň (`age`), ale riadky sú označené dvoma úrovňami (`sex` a `title_short`)."
   ]
  },
  {
   "cell_type": "code",
   "execution_count": 18,
   "metadata": {},
   "outputs": [
    {
     "data": {
      "text/plain": [
       "22.0"
      ]
     },
     "execution_count": 18,
     "metadata": {},
     "output_type": "execute_result"
    }
   ],
   "source": [
    "# ak chceme napr. vypísať konkrétnu hodnotu na riadku pre kombináciu (female, Miss), musíme zadať index ako n-ticu\n",
    "# (podobne by sme museli zadaň n-ticu hodnôt aj pre stĺpce, ak by sme mali hierarchické označenia stĺpcov)\n",
    "ptable[\"age\"][(\"female\", \"Miss\")]"
   ]
  },
  {
   "cell_type": "code",
   "execution_count": 19,
   "metadata": {},
   "outputs": [
    {
     "data": {
      "image/png": "[encoded data removed]",
      "text/plain": [
       "<Figure size 432x288 with 1 Axes>"
      ]
     },
     "metadata": {},
     "output_type": "display_data"
    }
   ],
   "source": [
    "# do premennej age1 si uložíme iba neprázdne hodnoty age (pôvodné dáta sa nezmenia)\n",
    "age1 = data[\"age\"].dropna() # metóda dropna vráti iba záznamy s neprázdnymi hodnotami\n",
    "\n",
    "# definujeme si funkciu s ktorou nahradíme chýbajúce hodnoty veku podľa pohlavia a titulu\n",
    "# row bude objekt reprezentujúci jeden riadok v tabuľke\n",
    "def replace_missing_age(row):\n",
    "    # k hodnotám riadku pre jednotlivé stĺpce môžeme pristupovať indexovaním\n",
    "    age = row[\"age\"] # zistíme si vek, pohlavie a titul pasažiera\n",
    "    sex = row[\"sex\"]\n",
    "    title = row[\"title_short\"]\n",
    "    # ak je vek chýbajúca hodnota, nahradíme ho mediánom v danej skupine určenej podľa pohlavia a titulu\n",
    "    # (vypočítané hodnoty mediánov máme uložené v kontingenčnej tabuľke ptable)\n",
    "    if pd.isna(age):\n",
    "        return ptable[\"age\"][(sex, title)]\n",
    "    else:\n",
    "        return age # inak vrátime známu hodnotu\n",
    "\n",
    "# aplikujeme funkciu replace_missing_age na každý riadok tabuľky (axis=1, prednastavená hodnota axis=0 by aplikovala funkciu po stĺpcoch)\n",
    "# výsledok sú hodnoty age s nahradenými chýbajúcimi hodnotami, ktoré si uložíme do premennej age2\n",
    "age2 = data.apply(replace_missing_age, axis=1)\n",
    "\n",
    "# pre porovnanie si naraz vykreslíme histogram bez nahradenia a po nahradení chýbajúcich hodnôt\n",
    "p = plt.hist([age1, age2])"
   ]
  },
  {
   "cell_type": "code",
   "execution_count": 20,
   "metadata": {},
   "outputs": [],
   "source": [
    "data[\"age\"] = age2 # nahradíme stĺpec age s vyplnenými chýbajúcimi hodnotami v pôvodných dátach"
   ]
  },
  {
   "cell_type": "markdown",
   "metadata": {},
   "source": [
    "### Prevedenie číselných atribútov na ordinálne - _diskretizácia hodnôt_"
   ]
  },
  {
   "cell_type": "markdown",
   "metadata": {},
   "source": [
    "Číselné atribúty je možné jednoducho previesť na ordinálne (usporiadané kategorické) atribúty rozdelením na intervaly. Hodnoty môžu byť rozdelené na rovnako široké intervaly, alebo podľa dát na rôzne intervaly tak aby bola početnosť hodnôt v každom intervale približne rovnaká."
   ]
  },
  {
   "cell_type": "code",
   "execution_count": 21,
   "metadata": {},
   "outputs": [
    {
     "data": {
      "text/plain": [
       "count    1309.000000\n",
       "mean       33.281086\n",
       "std        51.741500\n",
       "min         0.000000\n",
       "25%         7.895800\n",
       "50%        14.454200\n",
       "75%        31.275000\n",
       "max       512.329200\n",
       "Name: fare, dtype: float64"
      ]
     },
     "execution_count": 21,
     "metadata": {},
     "output_type": "execute_result"
    }
   ],
   "source": [
    "data[\"fare\"].describe() #zobrazíme si základné štatistiky pre atribút fare\n",
    "\n"
   ]
  },
  {
   "cell_type": "code",
   "execution_count": 22,
   "metadata": {},
   "outputs": [
    {
     "data": {
      "text/plain": [
       "(-0.512, 170.776]     1271\n",
       "(170.776, 341.553]      34\n",
       "(341.553, 512.329]       4\n",
       "Name: fare_ordinal, dtype: int64"
      ]
     },
     "execution_count": 22,
     "metadata": {},
     "output_type": "execute_result"
    }
   ],
   "source": [
    "data[\"fare_ordinal\"] = pd.cut(data[\"fare\"], 3) # pomocou metódy cut rozdelíme hodnoty do 3 rovnako veľkých intervalov\n",
    "data[\"fare_ordinal\"].value_counts() # zobrazíme si označenia intervalov a ich početnosti\n"
   ]
  },
  {
   "cell_type": "code",
   "execution_count": 23,
   "metadata": {},
   "outputs": [
    {
     "data": {
      "image/png": "[encoded data removed]",
      "text/plain": [
       "<Figure size 432x288 with 1 Axes>"
      ]
     },
     "metadata": {},
     "output_type": "display_data"
    }
   ],
   "source": [
    "# väčšina hodnôt patrí približne do intervalu od 0-170, pre lepšie pochopenie distribúcie hodnôt si zobrazíme histogram\n",
    "p = data[\"fare\"].hist(bins=20) # parameter bins udáva počet intervalov pre výpočet histogramu\n"
   ]
  },
  {
   "cell_type": "code",
   "execution_count": 24,
   "metadata": {},
   "outputs": [
    {
     "data": {
      "text/plain": [
       "(-0.001, 8.662]    454\n",
       "(8.662, 26.0]      429\n",
       "(26.0, 512.329]    426\n",
       "Name: fare_ordinal, dtype: int64"
      ]
     },
     "execution_count": 24,
     "metadata": {},
     "output_type": "execute_result"
    }
   ],
   "source": [
    "# namiesto rozdelenia na rovnako veľké intervaly môžeme dáta rozdeliť pomocou metódy qcut na intervaly s približne rovnakým počtom hodnôt\n",
    "data[\"fare_ordinal\"] = pd.qcut(data[\"fare\"], 3)\n",
    "data[\"fare_ordinal\"].value_counts() # zobrazíme si označenia intervalov a ich početnosti"
   ]
  },
  {
   "cell_type": "code",
   "execution_count": 25,
   "metadata": {},
   "outputs": [
    {
     "data": {
      "text/plain": [
       "(-0.001, 25.0]    822\n",
       "(25.0, 100.0]     403\n",
       "(100.0, 520.0]     84\n",
       "Name: fare_ordinal, dtype: int64"
      ]
     },
     "execution_count": 25,
     "metadata": {},
     "output_type": "execute_result"
    }
   ],
   "source": [
    "# pri metóde cut môžeme priamo zadať hraničné hodnoty intervalov, napr. rozdelíme fare na intervaly [0-25], (25-100] a (100, 520]\n",
    "# štandardne prvý interval nezahŕňa najmenšiu hodnotu, takže ak chceme zahrnúť aj 0 hodnoty, nastavíme include_lowest na True\n",
    "data[\"fare_ordinal\"] = pd.cut(data[\"fare\"], bins=[0, 25, 100, 520], include_lowest=True)\n",
    "data[\"fare_ordinal\"].value_counts()"
   ]
  },
  {
   "cell_type": "code",
   "execution_count": 26,
   "metadata": {},
   "outputs": [
    {
     "data": {
      "text/plain": [
       "normal            822\n",
       "more expensive    403\n",
       "most expensive     84\n",
       "Name: fare_ordinal, dtype: int64"
      ]
     },
     "execution_count": 26,
     "metadata": {},
     "output_type": "execute_result"
    }
   ],
   "source": [
    "# označenia intervalov môžeme priamo pomenovať zadaním parametra labels\n",
    "data[\"fare_ordinal\"] = pd.cut(data[\"fare\"], bins=[0, 25, 100, 520], include_lowest=True, labels=[\"normal\", \"more expensive\", \"most expensive\"])\n",
    "data[\"fare_ordinal\"].value_counts()"
   ]
  },
  {
   "cell_type": "markdown",
   "metadata": {},
   "source": [
    "### Závislosti medzi kategorickými atribútmi\n",
    "\n",
    "Závislosti medzi kategorickými atribútmi môžete skúmať pomocou krížových tabuliek, ktoré udávajú početnosť výskytu všetkých kombinácií hodnôt medzi zvolenými kategorickými atribútmi podobne, ako kontingenčné tabuľky sumarizujú závislosť medzi kategorickými a číselnými hodnotami. Krížové tabuľky sa generujú pomocou metódy `crosstab`."
   ]
  },
  {
   "cell_type": "code",
   "execution_count": 27,
   "metadata": {},
   "outputs": [
    {
     "data": {
      "text/html": [
       "<div>\n",
       "<style scoped>\n",
       "    .dataframe tbody tr th:only-of-type {\n",
       "        vertical-align: middle;\n",
       "    }\n",
       "\n",
       "    .dataframe tbody tr th {\n",
       "        vertical-align: top;\n",
       "    }\n",
       "\n",
       "    .dataframe thead th {\n",
       "        text-align: right;\n",
       "    }\n",
       "</style>\n",
       "<table border=\"1\" class=\"dataframe\">\n",
       "  <thead>\n",
       "    <tr style=\"text-align: right;\">\n",
       "      <th>sex</th>\n",
       "      <th>female</th>\n",
       "      <th>male</th>\n",
       "    </tr>\n",
       "    <tr>\n",
       "      <th>pclass</th>\n",
       "      <th></th>\n",
       "      <th></th>\n",
       "    </tr>\n",
       "  </thead>\n",
       "  <tbody>\n",
       "    <tr>\n",
       "      <th>1</th>\n",
       "      <td>144</td>\n",
       "      <td>179</td>\n",
       "    </tr>\n",
       "    <tr>\n",
       "      <th>2</th>\n",
       "      <td>106</td>\n",
       "      <td>171</td>\n",
       "    </tr>\n",
       "    <tr>\n",
       "      <th>3</th>\n",
       "      <td>216</td>\n",
       "      <td>493</td>\n",
       "    </tr>\n",
       "  </tbody>\n",
       "</table>\n",
       "</div>"
      ],
      "text/plain": [
       "sex     female  male\n",
       "pclass              \n",
       "1          144   179\n",
       "2          106   171\n",
       "3          216   493"
      ]
     },
     "execution_count": 27,
     "metadata": {},
     "output_type": "execute_result"
    }
   ],
   "source": [
    "# vypočítame tabuľku početností pre všetky kombinácie hodnôt medzi atribútmi pclass a sex\n",
    "# všimnite si, že do metódy crosstab musíte narozdiel od pivot_table zadať ako index a columns\n",
    "# priamo dátové atribúty (objekty typu Series)\n",
    "pd.crosstab(index=data[\"pclass\"], columns=data[\"sex\"])\n"
   ]
  },
  {
   "cell_type": "code",
   "execution_count": 28,
   "metadata": {},
   "outputs": [
    {
     "data": {
      "text/html": [
       "<div>\n",
       "<style scoped>\n",
       "    .dataframe tbody tr th:only-of-type {\n",
       "        vertical-align: middle;\n",
       "    }\n",
       "\n",
       "    .dataframe tbody tr th {\n",
       "        vertical-align: top;\n",
       "    }\n",
       "\n",
       "    .dataframe thead th {\n",
       "        text-align: right;\n",
       "    }\n",
       "</style>\n",
       "<table border=\"1\" class=\"dataframe\">\n",
       "  <thead>\n",
       "    <tr style=\"text-align: right;\">\n",
       "      <th></th>\n",
       "      <th>sex</th>\n",
       "      <th>female</th>\n",
       "      <th>male</th>\n",
       "    </tr>\n",
       "    <tr>\n",
       "      <th>pclass</th>\n",
       "      <th>fare_ordinal</th>\n",
       "      <th></th>\n",
       "      <th></th>\n",
       "    </tr>\n",
       "  </thead>\n",
       "  <tbody>\n",
       "    <tr>\n",
       "      <th rowspan=\"3\" valign=\"top\">1</th>\n",
       "      <th>normal</th>\n",
       "      <td>0</td>\n",
       "      <td>8</td>\n",
       "    </tr>\n",
       "    <tr>\n",
       "      <th>more expensive</th>\n",
       "      <td>91</td>\n",
       "      <td>140</td>\n",
       "    </tr>\n",
       "    <tr>\n",
       "      <th>most expensive</th>\n",
       "      <td>53</td>\n",
       "      <td>31</td>\n",
       "    </tr>\n",
       "    <tr>\n",
       "      <th rowspan=\"2\" valign=\"top\">2</th>\n",
       "      <th>normal</th>\n",
       "      <td>57</td>\n",
       "      <td>118</td>\n",
       "    </tr>\n",
       "    <tr>\n",
       "      <th>more expensive</th>\n",
       "      <td>49</td>\n",
       "      <td>53</td>\n",
       "    </tr>\n",
       "    <tr>\n",
       "      <th rowspan=\"2\" valign=\"top\">3</th>\n",
       "      <th>normal</th>\n",
       "      <td>188</td>\n",
       "      <td>451</td>\n",
       "    </tr>\n",
       "    <tr>\n",
       "      <th>more expensive</th>\n",
       "      <td>28</td>\n",
       "      <td>42</td>\n",
       "    </tr>\n",
       "  </tbody>\n",
       "</table>\n",
       "</div>"
      ],
      "text/plain": [
       "sex                    female  male\n",
       "pclass fare_ordinal                \n",
       "1      normal               0     8\n",
       "       more expensive      91   140\n",
       "       most expensive      53    31\n",
       "2      normal              57   118\n",
       "       more expensive      49    53\n",
       "3      normal             188   451\n",
       "       more expensive      28    42"
      ]
     },
     "execution_count": 28,
     "metadata": {},
     "output_type": "execute_result"
    }
   ],
   "source": [
    "# podobne ako pri kontingenčnej tabuľke, ako riadky, alebo stĺpce môžeme zadať viacero\n",
    "# atribútov\n",
    "# napr. v nasledujúcej tabuľke vypočítame pre každú kombináciu triedy a výšky cestovného,\n",
    "# koľko žien a koľko mužov si kúpilo daný lístok\n",
    "pd.crosstab(index=[data[\"pclass\"], data[\"fare_ordinal\"]], columns=data[\"sex\"])\n"
   ]
  },
  {
   "cell_type": "markdown",
   "metadata": {},
   "source": [
    "### Úloha 7.2\n",
    "\n",
    "Odvoďte nový atribút `age_ordinal` diskretizovaním hodnôt `age` na intervaly 0-13, 13-19, 19-65, 65-maximálny vek s označeniami `child`, `young`, `adult`, `old`."
   ]
  },
  {
   "cell_type": "markdown",
   "metadata": {},
   "source": [
    "### Úloha 7.3\n",
    "Pomocou krížovej tabuľky zistite, koľko mužov a žien má aký titul."
   ]
  },
  {
   "cell_type": "markdown",
   "metadata": {},
   "source": [
    "### Úloha 7.4\n",
    "Vytvorte kontingenčnú tabuľku v ktorej prehľadne zobrazíte počet zachránených pasažierov pre skupiny rozdelené podľa veku (`age_ordinal`), triedy a pohlavia. Ak použijete ako agregačnú funkciu strednú hodnotu `survived`, ako môžete výsledné čísla interpretovať?"
   ]
  },
  {
   "cell_type": "markdown",
   "metadata": {},
   "source": [
    "### Úloha 7.5\n",
    "Zistite, či má na prežitie vplyv výška cestovného, alebo miesto nalodenia. "
   ]
  },
  {
   "cell_type": "markdown",
   "metadata": {},
   "source": [
    "### Úloha 7.6\n",
    "\n",
    "Označenia kajuty začínajú písmenom, ktoré označuje palubu na ktorej sa kajuta nachádzala (napr. kajuta `C22` sa nachádzala na palube `C`, atď.). Pomocou metódy `apply` odvoďte nový atribút `deck` s označením paluby.\n",
    "\n",
    "Na ktorej palube by ste mali väčšiu šancu na záchranu?"
   ]
  },
  {
   "cell_type": "code",
   "execution_count": null,
   "metadata": {},
   "outputs": [],
   "source": []
  }
 ],
 "metadata": {
  "kernelspec": {
   "display_name": "Python 3",
   "language": "python",
   "name": "python3"
  },
  "language_info": {
   "codemirror_mode": {
    "name": "ipython",
    "version": 3
   },
   "file_extension": ".py",
   "mimetype": "text/x-python",
   "name": "python",
   "nbconvert_exporter": "python",
   "pygments_lexer": "ipython3",
   "version": "3.7.6"
  }
 },
 "nbformat": 4,
 "nbformat_minor": 4
}
