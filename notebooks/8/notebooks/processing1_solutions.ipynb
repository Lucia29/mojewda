{
 "cells": [
  {
   "cell_type": "markdown",
   "metadata": {},
   "source": [
    "## Úlohy"
   ]
  },
  {
   "cell_type": "code",
   "execution_count": 2,
   "metadata": {},
   "outputs": [],
   "source": [
    "import pandas as pd\n",
    "import numpy as np\n",
    "import matplotlib.pyplot as plt\n",
    "import seaborn as sns\n",
    "\n",
    "# nastavíme zobrazovanie grafov priamo v odstavcoch zápisníka\n",
    "%matplotlib inline\n",
    "# inicializujeme knižnicu seaborn\n",
    "sns.set()"
   ]
  },
  {
   "cell_type": "markdown",
   "metadata": {},
   "source": [
    "### Úloha 8.1\n",
    "\n",
    "Načítajte dáta World Happiness Record 2016 a 2017.\n",
    "\n",
    "* Vyberte iba atribúty `Country`, `Score` a `Rank`.\n",
    "* Spojte tabuľky podľa názvu štátu tak aby tam boli všetky hodnoty z oboch tabuliek. Atribúty `Score` a `Rank` vhodne premenujte podľa roku.\n",
    "* Pridajte nový atribút `Diff` ktorého hodnoty budú rovné `Score 2017` - `Score 2016`\n",
    "* Zobrazte histogram atribútu `Diff`.\n",
    "\n",
    "V roku 2017 je viac štátov, ktoré sa zlepšili, alebo zhoršili?"
   ]
  },
  {
   "cell_type": "code",
   "execution_count": 3,
   "metadata": {},
   "outputs": [
    {
     "data": {
      "image/png": "[encoded data removed]",
      "text/plain": [
       "<Figure size 432x288 with 1 Axes>"
      ]
     },
     "metadata": {
      "needs_background": "light"
     },
     "output_type": "display_data"
    }
   ],
   "source": [
    "# načítame dáta za rok 2016\n",
    "data_2016 = pd.read_csv(\"../data/2016.csv\")\n",
    "# vyberieme iba stĺpce `Country`, `Rank` a `Score`\n",
    "data_2016 = data_2016[[\"Country\", \"Rank\", \"Score\"]]\n",
    "# premenujeme `Rank` a `Score` podľa roku\n",
    "data_2016 = data_2016.rename(columns={\"Rank\":\"Rank 2016\", \"Score\":\"Score 2016\"})\n",
    "\n",
    "# podobne načítame a predspracujeme dáta za rok 2017\n",
    "data_2017 = pd.read_csv(\"../data/2017.csv\")\n",
    "data_2017 = data_2017[[\"Country\", \"Rank\", \"Score\"]]\n",
    "data_2017 = data_2017.rename(columns={\"Rank\":\"Rank 2017\", \"Score\":\"Score 2017\"})\n",
    "\n",
    "# spojíme dáta podľa názvu štátu, zjednotíme všetky hodnoty z ľavej aj pravej tabuľky\n",
    "# (metóda spájania `outer`)\n",
    "data_all = pd.merge(left=data_2016, right=data_2017, left_on=\"Country\", right_on=\"Country\", how=\"outer\")\n",
    "# vypočítame si rozdiel v hodnotení a zobrazíme histogram\n",
    "data_all[\"Diff\"] = data_all[\"Rank 2017\"] - data_all[\"Rank 2016\"]\n",
    "pl = data_all[\"Diff\"].hist()"
   ]
  },
  {
   "cell_type": "markdown",
   "metadata": {},
   "source": [
    "### Úloha 8.2\n",
    "\n",
    "Načítajte dáta World Happiness Record 2017.\n",
    "\n",
    "* Vyberte do tabuľky iba základné faktory (`GDP`, `Family`, `Health`, `Freedom`, `Trust`, `Generosity`).\n",
    "* Normalizujte dáta do intervalu 0-1.\n",
    "* Pridajte do normalizovanej tabuľky názvy štátov a regiónov.\n",
    "* Uložte dáta do Excel súboru."
   ]
  },
  {
   "cell_type": "code",
   "execution_count": 10,
   "metadata": {},
   "outputs": [
    {
     "data": {
      "text/html": [
       "<div>\n",
       "<style scoped>\n",
       "    .dataframe tbody tr th:only-of-type {\n",
       "        vertical-align: middle;\n",
       "    }\n",
       "\n",
       "    .dataframe tbody tr th {\n",
       "        vertical-align: top;\n",
       "    }\n",
       "\n",
       "    .dataframe thead th {\n",
       "        text-align: right;\n",
       "    }\n",
       "</style>\n",
       "<table border=\"1\" class=\"dataframe\">\n",
       "  <thead>\n",
       "    <tr style=\"text-align: right;\">\n",
       "      <th></th>\n",
       "      <th>GDP</th>\n",
       "      <th>Family</th>\n",
       "      <th>Health</th>\n",
       "      <th>Freedom</th>\n",
       "      <th>Trust</th>\n",
       "      <th>Generosity</th>\n",
       "      <th>Country</th>\n",
       "      <th>Region</th>\n",
       "    </tr>\n",
       "  </thead>\n",
       "  <tbody>\n",
       "    <tr>\n",
       "      <td>0</td>\n",
       "      <td>0.864065</td>\n",
       "      <td>0.952160</td>\n",
       "      <td>0.839045</td>\n",
       "      <td>0.965323</td>\n",
       "      <td>0.680505</td>\n",
       "      <td>0.431957</td>\n",
       "      <td>Norway</td>\n",
       "      <td>Western Europe</td>\n",
       "    </tr>\n",
       "    <tr>\n",
       "      <td>1</td>\n",
       "      <td>0.792394</td>\n",
       "      <td>0.963086</td>\n",
       "      <td>0.834726</td>\n",
       "      <td>0.951019</td>\n",
       "      <td>0.863156</td>\n",
       "      <td>0.423924</td>\n",
       "      <td>Denmark</td>\n",
       "      <td>Western Europe</td>\n",
       "    </tr>\n",
       "    <tr>\n",
       "      <td>2</td>\n",
       "      <td>0.791458</td>\n",
       "      <td>1.000000</td>\n",
       "      <td>0.877892</td>\n",
       "      <td>0.952775</td>\n",
       "      <td>0.330657</td>\n",
       "      <td>0.567420</td>\n",
       "      <td>Iceland</td>\n",
       "      <td>Western Europe</td>\n",
       "    </tr>\n",
       "    <tr>\n",
       "      <td>3</td>\n",
       "      <td>0.836545</td>\n",
       "      <td>0.941845</td>\n",
       "      <td>0.903779</td>\n",
       "      <td>0.942001</td>\n",
       "      <td>0.790440</td>\n",
       "      <td>0.346686</td>\n",
       "      <td>Switzerland</td>\n",
       "      <td>Western Europe</td>\n",
       "    </tr>\n",
       "    <tr>\n",
       "      <td>4</td>\n",
       "      <td>0.771648</td>\n",
       "      <td>0.956334</td>\n",
       "      <td>0.852200</td>\n",
       "      <td>0.938780</td>\n",
       "      <td>0.824047</td>\n",
       "      <td>0.292913</td>\n",
       "      <td>Finland</td>\n",
       "      <td>Western Europe</td>\n",
       "    </tr>\n",
       "  </tbody>\n",
       "</table>\n",
       "</div>"
      ],
      "text/plain": [
       "        GDP    Family    Health   Freedom     Trust  Generosity      Country  \\\n",
       "0  0.864065  0.952160  0.839045  0.965323  0.680505    0.431957       Norway   \n",
       "1  0.792394  0.963086  0.834726  0.951019  0.863156    0.423924      Denmark   \n",
       "2  0.791458  1.000000  0.877892  0.952775  0.330657    0.567420      Iceland   \n",
       "3  0.836545  0.941845  0.903779  0.942001  0.790440    0.346686  Switzerland   \n",
       "4  0.771648  0.956334  0.852200  0.938780  0.824047    0.292913      Finland   \n",
       "\n",
       "           Region  \n",
       "0  Western Europe  \n",
       "1  Western Europe  \n",
       "2  Western Europe  \n",
       "3  Western Europe  \n",
       "4  Western Europe  "
      ]
     },
     "execution_count": 10,
     "metadata": {},
     "output_type": "execute_result"
    }
   ],
   "source": [
    "# naimportujeme si potrebné objekty z knižnice `sklearn`\n",
    "from sklearn.preprocessing import MinMaxScaler\n",
    "\n",
    "# načítame dáta do pomocnej tabuľky\n",
    "table = pd.read_csv(\"../data/2017.csv\")\n",
    "\n",
    "# vyberieme si iba základné faktory\n",
    "data_2017 = table[[\"GDP\", \"Family\", \"Health\", \"Freedom\", \"Trust\", \"Generosity\"]]\n",
    "# vytvoríme si objekt pre normalizáciu do intervalu 0-1\n",
    "min_max = MinMaxScaler()\n",
    "# transformujeme dáta\n",
    "norm_array = min_max.fit_transform(data_2017)\n",
    "# z transformovaných dát vytvoríme nový dátový rámec `pandas`\n",
    "# názvy stĺpcov skopírujeme z pôvodnej tabuľky\n",
    "data_2017 = pd.DataFrame(norm_array, columns = data_2017.columns)\n",
    "# k transformovaným faktorom pridáme `Country` a `Region`\n",
    "data_2017[\"Country\"] = table[\"Country\"]\n",
    "data_2017[\"Region\"] = table[\"Region\"]\n",
    "\n",
    "# uložíme dáta do Excel súboru\n",
    "data_2017.to_excel(\"../data/2017_processed.xlsx\", index=False)\n",
    "# zobrazíme si prvých 5 transformovaných riadkov\n",
    "data_2017.head()"
   ]
  },
  {
   "cell_type": "markdown",
   "metadata": {},
   "source": [
    "### Úloha 8.3\n",
    "\n",
    "Načítajte predspracované dáta z predchádzajúcej úlohy.\n",
    "\n",
    "* Vypočítajte dve hlavné komponenty.\n",
    "* Vizualizujte hlavné komponenty na X-Y grafe, ako farbu zobrazte región štátu.\n",
    "\n",
    "Čo viete povedať o centrálnej Európe? Koľko celkovej variancie pôvodných dát je zachovaných vo vizualizácii?"
   ]
  },
  {
   "cell_type": "code",
   "execution_count": 9,
   "metadata": {},
   "outputs": [
    {
     "data": {
      "image/png": "[encoded data removed]",
      "text/plain": [
       "<Figure size 432x288 with 1 Axes>"
      ]
     },
     "metadata": {
      "needs_background": "light"
     },
     "output_type": "display_data"
    }
   ],
   "source": [
    "# naimportujeme si potrebné objekty z knižnice `sklearn`\n",
    "from sklearn.decomposition import PCA\n",
    "\n",
    "# načítame si predspracované dáta\n",
    "table = pd.read_excel(\"../data/2017_processed.xlsx\")\n",
    "\n",
    "# vyberieme iba číselné atribúty\n",
    "data = table[[\"GDP\", \"Family\", \"Health\", \"Freedom\", \"Trust\", \"Generosity\"]]\n",
    "# vytvoríme si objekt pre metódu hlavných komponentov, vypočítame prvé dva komponenty\n",
    "pca = PCA(n_components=2)\n",
    "# vypočítame transformované dáta\n",
    "pca_array = pca.fit_transform(data)\n",
    "# z transformovaných dát si vytvoríme dátový rámec\n",
    "pca_data = pd.DataFrame(pca_array, columns=[\"komponent_1\", \"komponent_2\"])\n",
    "# pridáme `Region`\n",
    "pca_data[\"Region\"] = table[\"Region\"]\n",
    "# zobrazíme si X-Y graf, farebne zobrazíme krajiny z rôznych regiónov\n",
    "pl = sns.scatterplot(data=pca_data, x=\"komponent_1\", y=\"komponent_2\", hue=\"Region\", legend=False)"
   ]
  },
  {
   "cell_type": "code",
   "execution_count": null,
   "metadata": {},
   "outputs": [],
   "source": []
  }
 ],
 "metadata": {
  "kernelspec": {
   "display_name": "Python 3",
   "language": "python",
   "name": "python3"
  },
  "language_info": {
   "codemirror_mode": {
    "name": "ipython",
    "version": 3
   },
   "file_extension": ".py",
   "mimetype": "text/x-python",
   "name": "python",
   "nbconvert_exporter": "python",
   "pygments_lexer": "ipython3",
   "version": "3.7.4"
  }
 },
 "nbformat": 4,
 "nbformat_minor": 4
}
