{
 "cells": [
  {
   "cell_type": "markdown",
   "metadata": {},
   "source": [
    "## Základné nastavenia\n",
    "\n",
    "Importujeme potrebné knižnice. Nasledujúci odstavec by mal byť spustený ako prvý predtým ako sa budú používať importované objekty `pd`, `np`, `plt` a `sns`."
   ]
  },
  {
   "cell_type": "code",
   "execution_count": 1,
   "metadata": {},
   "outputs": [],
   "source": [
    "import pandas as pd\n",
    "import numpy as np\n",
    "import matplotlib.pyplot as plt\n",
    "import seaborn as sns\n",
    "\n",
    "# nastavíme zobrazovanie grafov priamo v odstavcoch zápisníka\n",
    "%matplotlib inline\n",
    "# inicializujeme knižnicu seaborn\n",
    "sns.set()"
   ]
  },
  {
   "cell_type": "markdown",
   "metadata": {},
   "source": [
    "## Možnosti pre načítavanie a zápis dát\n",
    "\n",
    "Knižnica `pandas` podoruje čítanie a zápis dát z rôznych formátov, ako napr. z textových CSV súborov, alebo súborov programu Microsoft Excel. Pre každý z podporovaných formátov je možné zmeniť nastavenia, ako napr. znak pre oddeľovať hodnôt, desatinnú čiarku, alebo či súbor obsahuje na prvom riadku hlavičku s názvami stĺpcov/atribútov.\n",
    "\n",
    "Viac o možnostiach načítavania a zápisu dát v knižnici `pandas` si môžete prečítať [tu](https://pandas.pydata.org/pandas-docs/stable/reference/io.html) (v angličtine)."
   ]
  },
  {
   "cell_type": "code",
   "execution_count": 2,
   "metadata": {},
   "outputs": [
    {
     "data": {
      "text/html": [
       "<div>\n",
       "<style scoped>\n",
       "    .dataframe tbody tr th:only-of-type {\n",
       "        vertical-align: middle;\n",
       "    }\n",
       "\n",
       "    .dataframe tbody tr th {\n",
       "        vertical-align: top;\n",
       "    }\n",
       "\n",
       "    .dataframe thead th {\n",
       "        text-align: right;\n",
       "    }\n",
       "</style>\n",
       "<table border=\"1\" class=\"dataframe\">\n",
       "  <thead>\n",
       "    <tr style=\"text-align: right;\">\n",
       "      <th></th>\n",
       "      <th>sepal_length</th>\n",
       "      <th>sepal_width</th>\n",
       "      <th>petal_length</th>\n",
       "      <th>petal_width</th>\n",
       "      <th>species</th>\n",
       "    </tr>\n",
       "  </thead>\n",
       "  <tbody>\n",
       "    <tr>\n",
       "      <td>0</td>\n",
       "      <td>5.1</td>\n",
       "      <td>5.1</td>\n",
       "      <td>5.1</td>\n",
       "      <td>5.1</td>\n",
       "      <td>setosa</td>\n",
       "    </tr>\n",
       "    <tr>\n",
       "      <td>1</td>\n",
       "      <td>4.9</td>\n",
       "      <td>4.9</td>\n",
       "      <td>4.9</td>\n",
       "      <td>4.9</td>\n",
       "      <td>setosa</td>\n",
       "    </tr>\n",
       "    <tr>\n",
       "      <td>2</td>\n",
       "      <td>4.7</td>\n",
       "      <td>4.7</td>\n",
       "      <td>4.7</td>\n",
       "      <td>4.7</td>\n",
       "      <td>setosa</td>\n",
       "    </tr>\n",
       "    <tr>\n",
       "      <td>3</td>\n",
       "      <td>4.6</td>\n",
       "      <td>4.6</td>\n",
       "      <td>4.6</td>\n",
       "      <td>4.6</td>\n",
       "      <td>setosa</td>\n",
       "    </tr>\n",
       "    <tr>\n",
       "      <td>4</td>\n",
       "      <td>5.0</td>\n",
       "      <td>5.0</td>\n",
       "      <td>5.0</td>\n",
       "      <td>5.0</td>\n",
       "      <td>setosa</td>\n",
       "    </tr>\n",
       "  </tbody>\n",
       "</table>\n",
       "</div>"
      ],
      "text/plain": [
       "   sepal_length  sepal_width  petal_length  petal_width species\n",
       "0           5.1          5.1           5.1          5.1  setosa\n",
       "1           4.9          4.9           4.9          4.9  setosa\n",
       "2           4.7          4.7           4.7          4.7  setosa\n",
       "3           4.6          4.6           4.6          4.6  setosa\n",
       "4           5.0          5.0           5.0          5.0  setosa"
      ]
     },
     "execution_count": 2,
     "metadata": {},
     "output_type": "execute_result"
    }
   ],
   "source": [
    "# pre CSV súbory viete zmeniť napr. oddeľovač hodnôt (parameter `delimiter`) a znak desatinnej čiarky (`decimal`)\n",
    "# ak sa v súbore nenacháza hlavička s názvami atribútov na prvom riadku (parameter `header=None`), atribúty je možné pomenovať\n",
    "# v parametre `names`\n",
    "data = pd.read_csv(\"../data/iris.csv\", delimiter=\";\", decimal=\",\", header=None, names=[\"sepal_length\", \"sepal_width\", \"petal_length\", \"petal_width\", \"species\"])\n",
    "data.head()"
   ]
  },
  {
   "cell_type": "code",
   "execution_count": 4,
   "metadata": {},
   "outputs": [
    {
     "data": {
      "text/html": [
       "<div>\n",
       "<style scoped>\n",
       "    .dataframe tbody tr th:only-of-type {\n",
       "        vertical-align: middle;\n",
       "    }\n",
       "\n",
       "    .dataframe tbody tr th {\n",
       "        vertical-align: top;\n",
       "    }\n",
       "\n",
       "    .dataframe thead th {\n",
       "        text-align: right;\n",
       "    }\n",
       "</style>\n",
       "<table border=\"1\" class=\"dataframe\">\n",
       "  <thead>\n",
       "    <tr style=\"text-align: right;\">\n",
       "      <th></th>\n",
       "      <th>sepal_length</th>\n",
       "      <th>sepal_width</th>\n",
       "      <th>petal_length</th>\n",
       "      <th>petal_width</th>\n",
       "      <th>species</th>\n",
       "    </tr>\n",
       "  </thead>\n",
       "  <tbody>\n",
       "    <tr>\n",
       "      <td>0</td>\n",
       "      <td>5.1</td>\n",
       "      <td>5.1</td>\n",
       "      <td>5.1</td>\n",
       "      <td>5.1</td>\n",
       "      <td>setosa</td>\n",
       "    </tr>\n",
       "    <tr>\n",
       "      <td>1</td>\n",
       "      <td>4.9</td>\n",
       "      <td>4.9</td>\n",
       "      <td>4.9</td>\n",
       "      <td>4.9</td>\n",
       "      <td>setosa</td>\n",
       "    </tr>\n",
       "    <tr>\n",
       "      <td>2</td>\n",
       "      <td>4.7</td>\n",
       "      <td>4.7</td>\n",
       "      <td>4.7</td>\n",
       "      <td>4.7</td>\n",
       "      <td>setosa</td>\n",
       "    </tr>\n",
       "    <tr>\n",
       "      <td>3</td>\n",
       "      <td>4.6</td>\n",
       "      <td>4.6</td>\n",
       "      <td>4.6</td>\n",
       "      <td>4.6</td>\n",
       "      <td>setosa</td>\n",
       "    </tr>\n",
       "    <tr>\n",
       "      <td>4</td>\n",
       "      <td>5.0</td>\n",
       "      <td>5.0</td>\n",
       "      <td>5.0</td>\n",
       "      <td>5.0</td>\n",
       "      <td>setosa</td>\n",
       "    </tr>\n",
       "  </tbody>\n",
       "</table>\n",
       "</div>"
      ],
      "text/plain": [
       "   sepal_length  sepal_width  petal_length  petal_width species\n",
       "0           5.1          5.1           5.1          5.1  setosa\n",
       "1           4.9          4.9           4.9          4.9  setosa\n",
       "2           4.7          4.7           4.7          4.7  setosa\n",
       "3           4.6          4.6           4.6          4.6  setosa\n",
       "4           5.0          5.0           5.0          5.0  setosa"
      ]
     },
     "execution_count": 4,
     "metadata": {},
     "output_type": "execute_result"
    }
   ],
   "source": [
    "# podobne môžete načítať dáta z Excel súboru (štandardne sa načíta dátová tabuľka z prvého zošitu)\n",
    "data = pd.read_excel(\"../data/iris.xlsx\")\n",
    "data.head()"
   ]
  },
  {
   "cell_type": "markdown",
   "metadata": {},
   "source": [
    "Pre zápis dát do súboru použite priamo metódy dátového rámca."
   ]
  },
  {
   "cell_type": "code",
   "execution_count": 5,
   "metadata": {},
   "outputs": [],
   "source": [
    "# štandardne sa do súboru zapíše aj stĺpec s indexmi riadkov, ak chceme zapísať iba atribúty bez indexu, nastavíme `index=False`\n",
    "data.to_csv(\"../data/iris_processed.csv\", index=False)"
   ]
  },
  {
   "cell_type": "code",
   "execution_count": 6,
   "metadata": {},
   "outputs": [],
   "source": [
    "# pri zápise si môžeme zvoliť, ktoré atribúty sa zapíšu\n",
    "data.to_excel(\"../data/iris_processed.xlsx\", index=False, columns=[\"sepal_length\", \"sepal_width\"])"
   ]
  },
  {
   "cell_type": "markdown",
   "metadata": {},
   "source": [
    "## Spájanie tabuliek\n",
    "\n",
    "Pre základné spájanie dát slúži metóda `concat`, ktorá umožňuje spojiť dáta po riadkoch, alebo po stĺpcoch zarovnaných podľa indexov jednotlivých riadkov. Knižnica `pandas` ďalej umožňuje spájanie tabuliek pomocou kľúčov podobne ako je to v relačných databázach pomocou jazyka SQL."
   ]
  },
  {
   "cell_type": "code",
   "execution_count": 7,
   "metadata": {},
   "outputs": [
    {
     "data": {
      "text/html": [
       "<div>\n",
       "<style scoped>\n",
       "    .dataframe tbody tr th:only-of-type {\n",
       "        vertical-align: middle;\n",
       "    }\n",
       "\n",
       "    .dataframe tbody tr th {\n",
       "        vertical-align: top;\n",
       "    }\n",
       "\n",
       "    .dataframe thead th {\n",
       "        text-align: right;\n",
       "    }\n",
       "</style>\n",
       "<table border=\"1\" class=\"dataframe\">\n",
       "  <thead>\n",
       "    <tr style=\"text-align: right;\">\n",
       "      <th></th>\n",
       "      <th>Country</th>\n",
       "      <th>Rank 2015</th>\n",
       "      <th>Score 2015</th>\n",
       "    </tr>\n",
       "  </thead>\n",
       "  <tbody>\n",
       "    <tr>\n",
       "      <td>0</td>\n",
       "      <td>Switzerland</td>\n",
       "      <td>1</td>\n",
       "      <td>7.587</td>\n",
       "    </tr>\n",
       "    <tr>\n",
       "      <td>1</td>\n",
       "      <td>Iceland</td>\n",
       "      <td>2</td>\n",
       "      <td>7.561</td>\n",
       "    </tr>\n",
       "    <tr>\n",
       "      <td>2</td>\n",
       "      <td>Denmark</td>\n",
       "      <td>3</td>\n",
       "      <td>7.527</td>\n",
       "    </tr>\n",
       "    <tr>\n",
       "      <td>3</td>\n",
       "      <td>Norway</td>\n",
       "      <td>4</td>\n",
       "      <td>7.522</td>\n",
       "    </tr>\n",
       "    <tr>\n",
       "      <td>4</td>\n",
       "      <td>Canada</td>\n",
       "      <td>5</td>\n",
       "      <td>7.427</td>\n",
       "    </tr>\n",
       "  </tbody>\n",
       "</table>\n",
       "</div>"
      ],
      "text/plain": [
       "       Country  Rank 2015  Score 2015\n",
       "0  Switzerland          1       7.587\n",
       "1      Iceland          2       7.561\n",
       "2      Denmark          3       7.527\n",
       "3       Norway          4       7.522\n",
       "4       Canada          5       7.427"
      ]
     },
     "execution_count": 7,
     "metadata": {},
     "output_type": "execute_result"
    }
   ],
   "source": [
    "# najprv si načítame a predspracujeme dáta s ktorými budeme pracovať: World Happiness Report z rokoch 2015 a 2016\n",
    "data_2015 = pd.read_csv(\"../data/2015.csv\") # dáta za rok 2015\n",
    "data_2015 = data_2015[[\"Country\", \"Rank\", \"Score\"]] # vyberieme iba stĺpce `Country`, `Rank` a `Score`\n",
    "# stĺpce `Rank` a `Score` si premenujeme na `Rank 2015` a `Score 2015`\n",
    "data_2015 = data_2015.rename(columns={\"Rank\":\"Rank 2015\", \"Score\":\"Score 2015\"})\n",
    "data_2015.head()"
   ]
  },
  {
   "cell_type": "code",
   "execution_count": 8,
   "metadata": {},
   "outputs": [
    {
     "data": {
      "text/html": [
       "<div>\n",
       "<style scoped>\n",
       "    .dataframe tbody tr th:only-of-type {\n",
       "        vertical-align: middle;\n",
       "    }\n",
       "\n",
       "    .dataframe tbody tr th {\n",
       "        vertical-align: top;\n",
       "    }\n",
       "\n",
       "    .dataframe thead th {\n",
       "        text-align: right;\n",
       "    }\n",
       "</style>\n",
       "<table border=\"1\" class=\"dataframe\">\n",
       "  <thead>\n",
       "    <tr style=\"text-align: right;\">\n",
       "      <th></th>\n",
       "      <th>Country</th>\n",
       "      <th>Rank 2016</th>\n",
       "      <th>Score 2016</th>\n",
       "    </tr>\n",
       "  </thead>\n",
       "  <tbody>\n",
       "    <tr>\n",
       "      <td>0</td>\n",
       "      <td>Denmark</td>\n",
       "      <td>1</td>\n",
       "      <td>7.52560</td>\n",
       "    </tr>\n",
       "    <tr>\n",
       "      <td>1</td>\n",
       "      <td>Switzerland</td>\n",
       "      <td>2</td>\n",
       "      <td>7.50866</td>\n",
       "    </tr>\n",
       "    <tr>\n",
       "      <td>2</td>\n",
       "      <td>Iceland</td>\n",
       "      <td>3</td>\n",
       "      <td>7.50139</td>\n",
       "    </tr>\n",
       "    <tr>\n",
       "      <td>3</td>\n",
       "      <td>Norway</td>\n",
       "      <td>4</td>\n",
       "      <td>7.49758</td>\n",
       "    </tr>\n",
       "    <tr>\n",
       "      <td>4</td>\n",
       "      <td>Finland</td>\n",
       "      <td>5</td>\n",
       "      <td>7.41349</td>\n",
       "    </tr>\n",
       "  </tbody>\n",
       "</table>\n",
       "</div>"
      ],
      "text/plain": [
       "       Country  Rank 2016  Score 2016\n",
       "0      Denmark          1     7.52560\n",
       "1  Switzerland          2     7.50866\n",
       "2      Iceland          3     7.50139\n",
       "3       Norway          4     7.49758\n",
       "4      Finland          5     7.41349"
      ]
     },
     "execution_count": 8,
     "metadata": {},
     "output_type": "execute_result"
    }
   ],
   "source": [
    "# podobne si predspracujeme dáta za rok 2016\n",
    "data_2016 = pd.read_csv(\"../data/2016.csv\")\n",
    "data_2016 = data_2016[[\"Country\", \"Rank\", \"Score\"]]\n",
    "data_2016 = data_2016.rename(columns={\"Rank\":\"Rank 2016\", \"Score\":\"Score 2016\"})\n",
    "data_2016.head()"
   ]
  },
  {
   "cell_type": "code",
   "execution_count": 9,
   "metadata": {},
   "outputs": [
    {
     "data": {
      "text/html": [
       "<div>\n",
       "<style scoped>\n",
       "    .dataframe tbody tr th:only-of-type {\n",
       "        vertical-align: middle;\n",
       "    }\n",
       "\n",
       "    .dataframe tbody tr th {\n",
       "        vertical-align: top;\n",
       "    }\n",
       "\n",
       "    .dataframe thead th {\n",
       "        text-align: right;\n",
       "    }\n",
       "</style>\n",
       "<table border=\"1\" class=\"dataframe\">\n",
       "  <thead>\n",
       "    <tr style=\"text-align: right;\">\n",
       "      <th></th>\n",
       "      <th>Country</th>\n",
       "      <th>Rank 2015</th>\n",
       "      <th>Score 2015</th>\n",
       "      <th>Country</th>\n",
       "      <th>Rank 2016</th>\n",
       "      <th>Score 2016</th>\n",
       "    </tr>\n",
       "  </thead>\n",
       "  <tbody>\n",
       "    <tr>\n",
       "      <td>153</td>\n",
       "      <td>Rwanda</td>\n",
       "      <td>154</td>\n",
       "      <td>3.465</td>\n",
       "      <td>Afghanistan</td>\n",
       "      <td>154.0</td>\n",
       "      <td>3.35976</td>\n",
       "    </tr>\n",
       "    <tr>\n",
       "      <td>154</td>\n",
       "      <td>Benin</td>\n",
       "      <td>155</td>\n",
       "      <td>3.340</td>\n",
       "      <td>Togo</td>\n",
       "      <td>155.0</td>\n",
       "      <td>3.30256</td>\n",
       "    </tr>\n",
       "    <tr>\n",
       "      <td>155</td>\n",
       "      <td>Syria</td>\n",
       "      <td>156</td>\n",
       "      <td>3.006</td>\n",
       "      <td>Syria</td>\n",
       "      <td>156.0</td>\n",
       "      <td>3.06910</td>\n",
       "    </tr>\n",
       "    <tr>\n",
       "      <td>156</td>\n",
       "      <td>Burundi</td>\n",
       "      <td>157</td>\n",
       "      <td>2.905</td>\n",
       "      <td>Burundi</td>\n",
       "      <td>157.0</td>\n",
       "      <td>2.90453</td>\n",
       "    </tr>\n",
       "    <tr>\n",
       "      <td>157</td>\n",
       "      <td>Togo</td>\n",
       "      <td>158</td>\n",
       "      <td>2.839</td>\n",
       "      <td>NaN</td>\n",
       "      <td>NaN</td>\n",
       "      <td>NaN</td>\n",
       "    </tr>\n",
       "  </tbody>\n",
       "</table>\n",
       "</div>"
      ],
      "text/plain": [
       "     Country  Rank 2015  Score 2015      Country  Rank 2016  Score 2016\n",
       "153   Rwanda        154       3.465  Afghanistan      154.0     3.35976\n",
       "154    Benin        155       3.340         Togo      155.0     3.30256\n",
       "155    Syria        156       3.006        Syria      156.0     3.06910\n",
       "156  Burundi        157       2.905      Burundi      157.0     2.90453\n",
       "157     Togo        158       2.839          NaN        NaN         NaN"
      ]
     },
     "execution_count": 9,
     "metadata": {},
     "output_type": "execute_result"
    }
   ],
   "source": [
    "# ak použije na spájanie metódu `concat` podľa stĺpcov (`axis=1`), dáta sa spoja podľa poradia v riadkoch\n",
    "# ak sa odlišuje počet riadkov v spájaných tabuľkách, dáta sa doplnia chýbajúcimi hodnotami\n",
    "data_all = pd.concat([data_2015, data_2016], axis=1)\n",
    "data_all.tail()"
   ]
  },
  {
   "cell_type": "code",
   "execution_count": 10,
   "metadata": {},
   "outputs": [
    {
     "data": {
      "text/html": [
       "<div>\n",
       "<style scoped>\n",
       "    .dataframe tbody tr th:only-of-type {\n",
       "        vertical-align: middle;\n",
       "    }\n",
       "\n",
       "    .dataframe tbody tr th {\n",
       "        vertical-align: top;\n",
       "    }\n",
       "\n",
       "    .dataframe thead th {\n",
       "        text-align: right;\n",
       "    }\n",
       "</style>\n",
       "<table border=\"1\" class=\"dataframe\">\n",
       "  <thead>\n",
       "    <tr style=\"text-align: right;\">\n",
       "      <th></th>\n",
       "      <th>Country</th>\n",
       "      <th>Rank 2015</th>\n",
       "      <th>Score 2015</th>\n",
       "      <th>Rank 2016</th>\n",
       "      <th>Score 2016</th>\n",
       "    </tr>\n",
       "  </thead>\n",
       "  <tbody>\n",
       "    <tr>\n",
       "      <td>146</td>\n",
       "      <td>Rwanda</td>\n",
       "      <td>154</td>\n",
       "      <td>3.465</td>\n",
       "      <td>152</td>\n",
       "      <td>3.51509</td>\n",
       "    </tr>\n",
       "    <tr>\n",
       "      <td>147</td>\n",
       "      <td>Benin</td>\n",
       "      <td>155</td>\n",
       "      <td>3.340</td>\n",
       "      <td>153</td>\n",
       "      <td>3.48366</td>\n",
       "    </tr>\n",
       "    <tr>\n",
       "      <td>148</td>\n",
       "      <td>Syria</td>\n",
       "      <td>156</td>\n",
       "      <td>3.006</td>\n",
       "      <td>156</td>\n",
       "      <td>3.06910</td>\n",
       "    </tr>\n",
       "    <tr>\n",
       "      <td>149</td>\n",
       "      <td>Burundi</td>\n",
       "      <td>157</td>\n",
       "      <td>2.905</td>\n",
       "      <td>157</td>\n",
       "      <td>2.90453</td>\n",
       "    </tr>\n",
       "    <tr>\n",
       "      <td>150</td>\n",
       "      <td>Togo</td>\n",
       "      <td>158</td>\n",
       "      <td>2.839</td>\n",
       "      <td>155</td>\n",
       "      <td>3.30256</td>\n",
       "    </tr>\n",
       "  </tbody>\n",
       "</table>\n",
       "</div>"
      ],
      "text/plain": [
       "     Country  Rank 2015  Score 2015  Rank 2016  Score 2016\n",
       "146   Rwanda        154       3.465        152     3.51509\n",
       "147    Benin        155       3.340        153     3.48366\n",
       "148    Syria        156       3.006        156     3.06910\n",
       "149  Burundi        157       2.905        157     2.90453\n",
       "150     Togo        158       2.839        155     3.30256"
      ]
     },
     "execution_count": 10,
     "metadata": {},
     "output_type": "execute_result"
    }
   ],
   "source": [
    "# pre spájanie tabuliek podľa kľúčov použijeme metódu `merge`\n",
    "# v základných parametroch nastavíme spájané dáta (pravú a ľavú tabuľku) a atribúty, ktoré sa použijú ako kľúč\n",
    "data_all = pd.merge(left=data_2015, right=data_2016, left_on=\"Country\", right_on=\"Country\")\n",
    "data_all.tail()"
   ]
  },
  {
   "cell_type": "code",
   "execution_count": 11,
   "metadata": {},
   "outputs": [
    {
     "name": "stdout",
     "output_type": "stream",
     "text": [
      "158 157 151\n"
     ]
    },
    {
     "data": {
      "text/plain": [
       "Country       0\n",
       "Rank 2015     0\n",
       "Score 2015    0\n",
       "Rank 2016     0\n",
       "Score 2016    0\n",
       "dtype: int64"
      ]
     },
     "execution_count": 11,
     "metadata": {},
     "output_type": "execute_result"
    }
   ],
   "source": [
    "# skontrolujeme si počet riadkov a chýbajúcich hodnôt v spojenej tabuľke\n",
    "print(len(data_2015), len(data_2016), len(data_all))\n",
    "data_all.isna().sum()"
   ]
  },
  {
   "cell_type": "markdown",
   "metadata": {},
   "source": [
    "Štandardne sa pri spájaní do výslednej tabuľky zahrnú iba tie riadky, ktorých kľúč sa nachádzal v oboch spájaných tabuľkách (tzn. metóda `inner`). Ďalšie možnosti sú podobné ako v jazyku SQL:\n",
    "\n",
    "| Metóda merge | SQL | Popis |\n",
    "| --- | --- | --- |\n",
    "| left | LEFT OUTER JOIN | Iba kľúče z ľavej tabuľky |\n",
    "| right | RIGHT OUTER JOIN | Iba kľúče z pravej tabuľky |\n",
    "| outer | FULL OUTER JOIN | Vyber dáta ak majú kľúč v pravej alebo v ľavej tabuľke (zjednotenie) |\n",
    "| inner | INNER JOIN | Vyber dáta ak majú kľúč aj v pravej aj v ľavej tabuľke (prienik) |\n"
   ]
  },
  {
   "cell_type": "code",
   "execution_count": 12,
   "metadata": {},
   "outputs": [
    {
     "name": "stdout",
     "output_type": "stream",
     "text": [
      "158 157 158\n"
     ]
    },
    {
     "data": {
      "text/plain": [
       "Country       0\n",
       "Rank 2015     0\n",
       "Score 2015    0\n",
       "Rank 2016     7\n",
       "Score 2016    7\n",
       "dtype: int64"
      ]
     },
     "execution_count": 12,
     "metadata": {},
     "output_type": "execute_result"
    }
   ],
   "source": [
    "# spájanie podľa kľúčov ľavej tabuľky (ak sa kľúč nenachádza v pravej tabuľke, doplnia sa chýbajúce hodnoty)\n",
    "data_all = pd.merge(left=data_2015, right=data_2016, left_on=\"Country\", right_on=\"Country\", how=\"left\")\n",
    "print(len(data_2015), len(data_2016), len(data_all))\n",
    "data_all.isna().sum()"
   ]
  },
  {
   "cell_type": "code",
   "execution_count": 13,
   "metadata": {},
   "outputs": [
    {
     "name": "stdout",
     "output_type": "stream",
     "text": [
      "158 157 164\n"
     ]
    },
    {
     "data": {
      "text/plain": [
       "Country       0\n",
       "Rank 2015     6\n",
       "Score 2015    6\n",
       "Rank 2016     7\n",
       "Score 2016    7\n",
       "dtype: int64"
      ]
     },
     "execution_count": 13,
     "metadata": {},
     "output_type": "execute_result"
    }
   ],
   "source": [
    "# zjednotenie hodnôt z oboch tabuliek\n",
    "data_all = pd.merge(left=data_2015, right=data_2016, left_on=\"Country\", right_on=\"Country\", how=\"outer\")\n",
    "print(len(data_2015), len(data_2016), len(data_all))\n",
    "data_all.isna().sum()"
   ]
  },
  {
   "cell_type": "markdown",
   "metadata": {},
   "source": [
    "## Normalizovanie dát\n",
    "\n",
    "Pri niektorých metódach analýzy dát je potrebné porovnávať hodnoty atrubútov v rovnakých rozsahoch, tzn. dáta je potrebné *normalizovať*. Jedna zo základných metód je prevod do zvoleného intervalu (najčastejšie 0-1). Pre normalizovanie dát budeme používať objekty z knižnice `sklearn`, ktorá obsahuje viacero pokročilých metód a algoritmov pre analýzu dát."
   ]
  },
  {
   "cell_type": "code",
   "execution_count": 17,
   "metadata": {},
   "outputs": [],
   "source": [
    "# naimportujeme si potrebné objekty z knižnice `sklearn`\n",
    "from sklearn.preprocessing import MinMaxScaler, StandardScaler\n",
    "\n",
    "# načítame si dátovú množinu `iris`\n",
    "iris = pd.read_csv(\"../../6 hodina/data/iris.csv\")\n",
    "# do premennej `iris_data` si uložíme číselné atribúty\n",
    "iris_data = iris[[\"sepal_length\", \"sepal_width\", \"petal_length\", \"petal_width\"]]\n",
    "# označenie druhov (triedy) si uložíme do premennej `iris_data`\n",
    "iris_labels = iris[\"species\"]"
   ]
  },
  {
   "cell_type": "code",
   "execution_count": 18,
   "metadata": {},
   "outputs": [
    {
     "data": {
      "text/html": [
       "<div>\n",
       "<style scoped>\n",
       "    .dataframe tbody tr th:only-of-type {\n",
       "        vertical-align: middle;\n",
       "    }\n",
       "\n",
       "    .dataframe tbody tr th {\n",
       "        vertical-align: top;\n",
       "    }\n",
       "\n",
       "    .dataframe thead th {\n",
       "        text-align: right;\n",
       "    }\n",
       "</style>\n",
       "<table border=\"1\" class=\"dataframe\">\n",
       "  <thead>\n",
       "    <tr style=\"text-align: right;\">\n",
       "      <th></th>\n",
       "      <th>sepal_length</th>\n",
       "      <th>sepal_width</th>\n",
       "      <th>petal_length</th>\n",
       "      <th>petal_width</th>\n",
       "    </tr>\n",
       "  </thead>\n",
       "  <tbody>\n",
       "    <tr>\n",
       "      <td>count</td>\n",
       "      <td>150.000000</td>\n",
       "      <td>150.000000</td>\n",
       "      <td>150.000000</td>\n",
       "      <td>150.000000</td>\n",
       "    </tr>\n",
       "    <tr>\n",
       "      <td>mean</td>\n",
       "      <td>0.428704</td>\n",
       "      <td>0.439167</td>\n",
       "      <td>0.467571</td>\n",
       "      <td>0.457778</td>\n",
       "    </tr>\n",
       "    <tr>\n",
       "      <td>std</td>\n",
       "      <td>0.230018</td>\n",
       "      <td>0.180664</td>\n",
       "      <td>0.299054</td>\n",
       "      <td>0.317984</td>\n",
       "    </tr>\n",
       "    <tr>\n",
       "      <td>min</td>\n",
       "      <td>0.000000</td>\n",
       "      <td>0.000000</td>\n",
       "      <td>0.000000</td>\n",
       "      <td>0.000000</td>\n",
       "    </tr>\n",
       "    <tr>\n",
       "      <td>25%</td>\n",
       "      <td>0.222222</td>\n",
       "      <td>0.333333</td>\n",
       "      <td>0.101695</td>\n",
       "      <td>0.083333</td>\n",
       "    </tr>\n",
       "    <tr>\n",
       "      <td>50%</td>\n",
       "      <td>0.416667</td>\n",
       "      <td>0.416667</td>\n",
       "      <td>0.567797</td>\n",
       "      <td>0.500000</td>\n",
       "    </tr>\n",
       "    <tr>\n",
       "      <td>75%</td>\n",
       "      <td>0.583333</td>\n",
       "      <td>0.541667</td>\n",
       "      <td>0.694915</td>\n",
       "      <td>0.708333</td>\n",
       "    </tr>\n",
       "    <tr>\n",
       "      <td>max</td>\n",
       "      <td>1.000000</td>\n",
       "      <td>1.000000</td>\n",
       "      <td>1.000000</td>\n",
       "      <td>1.000000</td>\n",
       "    </tr>\n",
       "  </tbody>\n",
       "</table>\n",
       "</div>"
      ],
      "text/plain": [
       "       sepal_length  sepal_width  petal_length  petal_width\n",
       "count    150.000000   150.000000    150.000000   150.000000\n",
       "mean       0.428704     0.439167      0.467571     0.457778\n",
       "std        0.230018     0.180664      0.299054     0.317984\n",
       "min        0.000000     0.000000      0.000000     0.000000\n",
       "25%        0.222222     0.333333      0.101695     0.083333\n",
       "50%        0.416667     0.416667      0.567797     0.500000\n",
       "75%        0.583333     0.541667      0.694915     0.708333\n",
       "max        1.000000     1.000000      1.000000     1.000000"
      ]
     },
     "execution_count": 18,
     "metadata": {},
     "output_type": "execute_result"
    }
   ],
   "source": [
    "# pre normalizáciu dát do intervalu 0-1 použijeme objekt MinMaxScaler\n",
    "# vytvoríme si objekt normalizácie\n",
    "min_max = MinMaxScaler()\n",
    "# transformujeme dáta, výsledok je číselné pole knižnice `numpy`, ktoré nazad prevedieme na dátový rámec `pandas`\n",
    "norm_array = min_max.fit_transform(iris_data)\n",
    "# vytvoríme nový dátový rámec z `numpy` poľa, názvy stĺpcov zachováme z pôvodnej množiny `iris_data`\n",
    "iris_data_norm = pd.DataFrame(norm_array, columns=iris_data.columns)\n",
    "iris_data_norm.describe()"
   ]
  },
  {
   "cell_type": "markdown",
   "metadata": {},
   "source": [
    "*Štandardizácia* je špeciálna metóda normalizácie dát, kedy sa dáta prepočítajú tak, aby mali 0 strednú hodnotu (priemer) a 1 štandardnú odchýlku (resp. rozptyl). Pri prepočte sa od každej pôvodnej hodnoty odpočíta priemer pre celý stĺpec a výsledok sa vydelí štandardnou odchýlkou pôvodných dát."
   ]
  },
  {
   "cell_type": "code",
   "execution_count": 20,
   "metadata": {},
   "outputs": [
    {
     "data": {
      "text/html": [
       "<div>\n",
       "<style scoped>\n",
       "    .dataframe tbody tr th:only-of-type {\n",
       "        vertical-align: middle;\n",
       "    }\n",
       "\n",
       "    .dataframe tbody tr th {\n",
       "        vertical-align: top;\n",
       "    }\n",
       "\n",
       "    .dataframe thead th {\n",
       "        text-align: right;\n",
       "    }\n",
       "</style>\n",
       "<table border=\"1\" class=\"dataframe\">\n",
       "  <thead>\n",
       "    <tr style=\"text-align: right;\">\n",
       "      <th></th>\n",
       "      <th>sepal_length</th>\n",
       "      <th>sepal_width</th>\n",
       "      <th>petal_length</th>\n",
       "      <th>petal_width</th>\n",
       "    </tr>\n",
       "  </thead>\n",
       "  <tbody>\n",
       "    <tr>\n",
       "      <td>count</td>\n",
       "      <td>1.500000e+02</td>\n",
       "      <td>1.500000e+02</td>\n",
       "      <td>1.500000e+02</td>\n",
       "      <td>1.500000e+02</td>\n",
       "    </tr>\n",
       "    <tr>\n",
       "      <td>mean</td>\n",
       "      <td>-2.775558e-16</td>\n",
       "      <td>-5.140333e-16</td>\n",
       "      <td>1.154632e-16</td>\n",
       "      <td>9.251859e-16</td>\n",
       "    </tr>\n",
       "    <tr>\n",
       "      <td>std</td>\n",
       "      <td>1.003350e+00</td>\n",
       "      <td>1.003350e+00</td>\n",
       "      <td>1.003350e+00</td>\n",
       "      <td>1.003350e+00</td>\n",
       "    </tr>\n",
       "    <tr>\n",
       "      <td>min</td>\n",
       "      <td>-1.870024e+00</td>\n",
       "      <td>-2.438987e+00</td>\n",
       "      <td>-1.568735e+00</td>\n",
       "      <td>-1.444450e+00</td>\n",
       "    </tr>\n",
       "    <tr>\n",
       "      <td>25%</td>\n",
       "      <td>-9.006812e-01</td>\n",
       "      <td>-5.877635e-01</td>\n",
       "      <td>-1.227541e+00</td>\n",
       "      <td>-1.181504e+00</td>\n",
       "    </tr>\n",
       "    <tr>\n",
       "      <td>50%</td>\n",
       "      <td>-5.250608e-02</td>\n",
       "      <td>-1.249576e-01</td>\n",
       "      <td>3.362659e-01</td>\n",
       "      <td>1.332259e-01</td>\n",
       "    </tr>\n",
       "    <tr>\n",
       "      <td>75%</td>\n",
       "      <td>6.745011e-01</td>\n",
       "      <td>5.692513e-01</td>\n",
       "      <td>7.627586e-01</td>\n",
       "      <td>7.905908e-01</td>\n",
       "    </tr>\n",
       "    <tr>\n",
       "      <td>max</td>\n",
       "      <td>2.492019e+00</td>\n",
       "      <td>3.114684e+00</td>\n",
       "      <td>1.786341e+00</td>\n",
       "      <td>1.710902e+00</td>\n",
       "    </tr>\n",
       "  </tbody>\n",
       "</table>\n",
       "</div>"
      ],
      "text/plain": [
       "       sepal_length   sepal_width  petal_length   petal_width\n",
       "count  1.500000e+02  1.500000e+02  1.500000e+02  1.500000e+02\n",
       "mean  -2.775558e-16 -5.140333e-16  1.154632e-16  9.251859e-16\n",
       "std    1.003350e+00  1.003350e+00  1.003350e+00  1.003350e+00\n",
       "min   -1.870024e+00 -2.438987e+00 -1.568735e+00 -1.444450e+00\n",
       "25%   -9.006812e-01 -5.877635e-01 -1.227541e+00 -1.181504e+00\n",
       "50%   -5.250608e-02 -1.249576e-01  3.362659e-01  1.332259e-01\n",
       "75%    6.745011e-01  5.692513e-01  7.627586e-01  7.905908e-01\n",
       "max    2.492019e+00  3.114684e+00  1.786341e+00  1.710902e+00"
      ]
     },
     "execution_count": 20,
     "metadata": {},
     "output_type": "execute_result"
    }
   ],
   "source": [
    "standard = StandardScaler()\n",
    "std_array = standard.fit_transform(iris_data)\n",
    "iris_data_std = pd.DataFrame(std_array, columns=iris_data.columns)\n",
    "iris_data_std.describe()"
   ]
  },
  {
   "cell_type": "code",
   "execution_count": 21,
   "metadata": {},
   "outputs": [
    {
     "data": {
      "image/png": "[encoded data removed]",
      "text/plain": [
       "<Figure size 432x288 with 3 Axes>"
      ]
     },
     "metadata": {
      "needs_background": "light"
     },
     "output_type": "display_data"
    }
   ],
   "source": [
    "# vykreslíme si histogram pôvodných, normalizovaných a štandardizovaných dát pre atribút `sepal_length`\n",
    "# vytvoríme si obrázok rozdelený na 1 riadok a 3 stĺpce, v každom stĺpci zobrazíme jeden histogram\n",
    "fig, axis = plt.subplots(1, 3)\n",
    "pl = iris_data[\"sepal_length\"].hist(ax=axis[0]) # `ax` parameter určuje v ktorej časti obrázka sa graf zobrazí\n",
    "pl = iris_data_norm[\"sepal_length\"].hist(ax=axis[1])\n",
    "pl = iris_data_std[\"sepal_length\"].hist(ax=axis[2])"
   ]
  },
  {
   "cell_type": "markdown",
   "metadata": {},
   "source": [
    "## Vizualizácia dát pomocou metódy hlavných komponentov\n",
    "\n",
    "Vizualizácia je veľmi užitočný nástroj pri analýze dát. Hlavným obmedzením pri vizualizácii dát je to, že je možné zobraziť iba dvoj a trojrozmerné grafy, tzn. naraz si v jednom grafe vieme zobraziť iba závislosti medzi 2-3 atribútmi (ďalšie atribúty môžeme použiť pre vykreslenie ďalších vizuálnych aspektov ako je napr. farba alebo veľkosť bodov a pod.)\n",
    "\n",
    "Ak si chceme naraz vizualizovať dáta s väčším počtom atribútov, musíme dátovú množinu premietnuť do menej rozmerného 2, alebo 3 rozmerného priestoru. Jednou z metód projekcie dát je metóda hlavných komponentov (*Principal Component Analysis* - PCA), ktorá sa snaží nájsť také premietnutie hodnôt atribútov, ktoré zachová čo najviac vzájomných vzťahov z pôvodných dát. Metóda PCA vypočíta z pôvodných atribútov nové atribúty - tzv. *hlavné komponenty*, ktoré sú usporiadané podľa toho, koľko informácií z pôvodných dát sa do nich premietne. Pre vizualizáciu si vypočítame a zobrazíme závislosť dvoch najdôležitejších komponentov, aby sme zobrazili čo najviac pôvodných vzťahov v dátach."
   ]
  },
  {
   "cell_type": "code",
   "execution_count": 22,
   "metadata": {},
   "outputs": [
    {
     "data": {
      "text/html": [
       "<div>\n",
       "<style scoped>\n",
       "    .dataframe tbody tr th:only-of-type {\n",
       "        vertical-align: middle;\n",
       "    }\n",
       "\n",
       "    .dataframe tbody tr th {\n",
       "        vertical-align: top;\n",
       "    }\n",
       "\n",
       "    .dataframe thead th {\n",
       "        text-align: right;\n",
       "    }\n",
       "</style>\n",
       "<table border=\"1\" class=\"dataframe\">\n",
       "  <thead>\n",
       "    <tr style=\"text-align: right;\">\n",
       "      <th></th>\n",
       "      <th>komponent_1</th>\n",
       "      <th>komponent_2</th>\n",
       "    </tr>\n",
       "  </thead>\n",
       "  <tbody>\n",
       "    <tr>\n",
       "      <td>0</td>\n",
       "      <td>-0.630361</td>\n",
       "      <td>0.111556</td>\n",
       "    </tr>\n",
       "    <tr>\n",
       "      <td>1</td>\n",
       "      <td>-0.623546</td>\n",
       "      <td>-0.100313</td>\n",
       "    </tr>\n",
       "    <tr>\n",
       "      <td>2</td>\n",
       "      <td>-0.669793</td>\n",
       "      <td>-0.047220</td>\n",
       "    </tr>\n",
       "    <tr>\n",
       "      <td>3</td>\n",
       "      <td>-0.654633</td>\n",
       "      <td>-0.098791</td>\n",
       "    </tr>\n",
       "    <tr>\n",
       "      <td>4</td>\n",
       "      <td>-0.648263</td>\n",
       "      <td>0.137558</td>\n",
       "    </tr>\n",
       "  </tbody>\n",
       "</table>\n",
       "</div>"
      ],
      "text/plain": [
       "   komponent_1  komponent_2\n",
       "0    -0.630361     0.111556\n",
       "1    -0.623546    -0.100313\n",
       "2    -0.669793    -0.047220\n",
       "3    -0.654633    -0.098791\n",
       "4    -0.648263     0.137558"
      ]
     },
     "execution_count": 22,
     "metadata": {},
     "output_type": "execute_result"
    }
   ],
   "source": [
    "# z knižnice `sklearn` si naimportujeme PCA metódu\n",
    "from sklearn.decomposition import PCA\n",
    "\n",
    "# vypočítame iba dva najdôležitejšie hlavné komponenty\n",
    "pca = PCA(n_components=2)\n",
    "pca_array = pca.fit_transform(iris_data_norm)\n",
    "# výsledok je `numpy` číselné pole, ktoré si skonvertujeme na dátový rámec `pandas`\n",
    "# stĺpce si pomenujeme `komponent_1` a `komponent_2`\n",
    "iris_data_pca = pd.DataFrame(pca_array, columns=[\"komponent_1\", \"komponent_2\"])\n",
    "\n",
    "# zobrazíme si ako vyzerajú príklady po premietnutí, hodnoty komponentov už nevieme jednoducho interpretovať\n",
    "iris_data_pca.head()"
   ]
  },
  {
   "cell_type": "code",
   "execution_count": 23,
   "metadata": {},
   "outputs": [
    {
     "data": {
      "text/plain": [
       "array([0.84141901, 0.11732474])"
      ]
     },
     "execution_count": 23,
     "metadata": {},
     "output_type": "execute_result"
    }
   ],
   "source": [
    "# zobrazíme si, koľko informácií (variancie) v pôvodných dátach je premietnutých do jednotlivých komponentov\n",
    "pca.explained_variance_ratio_"
   ]
  },
  {
   "cell_type": "code",
   "execution_count": 24,
   "metadata": {},
   "outputs": [
    {
     "name": "stdout",
     "output_type": "stream",
     "text": [
      "95.8744\n"
     ]
    }
   ],
   "source": [
    "# spočítame si percentuálne koľko informácií je celkovo v prvých dvoch hlavných komponentoch, ktoré vizualizujeme\n",
    "print(\"{0:.4f}\".format(np.sum(pca.explained_variance_ratio_) * 100))"
   ]
  },
  {
   "cell_type": "code",
   "execution_count": 25,
   "metadata": {},
   "outputs": [
    {
     "data": {
      "image/png": "[encoded data removed]",
      "text/plain": [
       "<Figure size 432x288 with 1 Axes>"
      ]
     },
     "metadata": {
      "needs_background": "light"
     },
     "output_type": "display_data"
    }
   ],
   "source": [
    "# spojíme si premietnuté dáta s pôvodnými označeniami príkladov a zobrazíme si dáta na X-Y grafe\n",
    "# farbu vykreslíme podľa priradenie do jednotlivých druhov rastlín\n",
    "iris_pca = pd.concat([iris_data_pca, iris_labels], axis=1)\n",
    "pl = sns.scatterplot(data=iris_pca, x=\"komponent_1\", y=\"komponent_2\", hue=\"species\")"
   ]
  },
  {
   "cell_type": "markdown",
   "metadata": {},
   "source": [
    "## Úlohy"
   ]
  },
  {
   "cell_type": "markdown",
   "metadata": {},
   "source": [
    "### Úloha 8.1\n",
    "\n",
    "Načítajte dáta World Happiness Record 2016 a 2017.\n",
    "\n",
    "* Vyberte iba atribúty `Country`, `Score` a `Rank`.\n",
    "* Spojte tabuľky podľa názvu štátu tak aby tam boli všetky hodnoty z oboch tabuliek. Atribúty `Score` a `Rank` vhodne premenujte podľa roku.\n",
    "* Pridajte nový atribút `Diff` ktorého hodnoty budú rovné `Score 2017` - `Score 2016`\n",
    "* Zobrazte histogram atribútu `Diff`.\n",
    "\n",
    "V roku 2017 je viac štátov, ktoré sa zlepšili, alebo zhoršili?"
   ]
  },
  {
   "cell_type": "code",
   "execution_count": 45,
   "metadata": {},
   "outputs": [
    {
     "data": {
      "text/html": [
       "<div>\n",
       "<style scoped>\n",
       "    .dataframe tbody tr th:only-of-type {\n",
       "        vertical-align: middle;\n",
       "    }\n",
       "\n",
       "    .dataframe tbody tr th {\n",
       "        vertical-align: top;\n",
       "    }\n",
       "\n",
       "    .dataframe thead th {\n",
       "        text-align: right;\n",
       "    }\n",
       "</style>\n",
       "<table border=\"1\" class=\"dataframe\">\n",
       "  <thead>\n",
       "    <tr style=\"text-align: right;\">\n",
       "      <th></th>\n",
       "      <th>Country</th>\n",
       "      <th>Rank 2016</th>\n",
       "      <th>Score 2016</th>\n",
       "      <th>Rank 2017</th>\n",
       "      <th>Score 2017</th>\n",
       "    </tr>\n",
       "  </thead>\n",
       "  <tbody>\n",
       "    <tr>\n",
       "      <td>0</td>\n",
       "      <td>Denmark</td>\n",
       "      <td>1.0</td>\n",
       "      <td>7.52560</td>\n",
       "      <td>2.0</td>\n",
       "      <td>7.522</td>\n",
       "    </tr>\n",
       "    <tr>\n",
       "      <td>1</td>\n",
       "      <td>Switzerland</td>\n",
       "      <td>2.0</td>\n",
       "      <td>7.50866</td>\n",
       "      <td>4.0</td>\n",
       "      <td>7.494</td>\n",
       "    </tr>\n",
       "    <tr>\n",
       "      <td>2</td>\n",
       "      <td>Iceland</td>\n",
       "      <td>3.0</td>\n",
       "      <td>7.50139</td>\n",
       "      <td>3.0</td>\n",
       "      <td>7.504</td>\n",
       "    </tr>\n",
       "    <tr>\n",
       "      <td>3</td>\n",
       "      <td>Norway</td>\n",
       "      <td>4.0</td>\n",
       "      <td>7.49758</td>\n",
       "      <td>1.0</td>\n",
       "      <td>7.537</td>\n",
       "    </tr>\n",
       "    <tr>\n",
       "      <td>4</td>\n",
       "      <td>Finland</td>\n",
       "      <td>5.0</td>\n",
       "      <td>7.41349</td>\n",
       "      <td>5.0</td>\n",
       "      <td>7.469</td>\n",
       "    </tr>\n",
       "  </tbody>\n",
       "</table>\n",
       "</div>"
      ],
      "text/plain": [
       "       Country  Rank 2016  Score 2016  Rank 2017  Score 2017\n",
       "0      Denmark        1.0     7.52560        2.0       7.522\n",
       "1  Switzerland        2.0     7.50866        4.0       7.494\n",
       "2      Iceland        3.0     7.50139        3.0       7.504\n",
       "3       Norway        4.0     7.49758        1.0       7.537\n",
       "4      Finland        5.0     7.41349        5.0       7.469"
      ]
     },
     "execution_count": 45,
     "metadata": {},
     "output_type": "execute_result"
    }
   ],
   "source": [
    "data_2016 = pd.read_csv(\"../data/2016.csv\")\n",
    "data_2016 = data_2016[[\"Country\", \"Rank\", \"Score\"]]\n",
    "data_2016 = data_2016.rename(columns={\"Rank\":\"Rank 2016\", \"Score\":\"Score 2016\"})\n",
    "data_2016.head()\n",
    "\n",
    "data_2017 = pd.read_csv(\"../data/2017.csv\")\n",
    "data_2017 = data_2017[[\"Country\", \"Rank\", \"Score\"]]\n",
    "data_2017 = data_2017.rename(columns={\"Rank\":\"Rank 2017\", \"Score\":\"Score 2017\"})\n",
    "data_2017.head()\n",
    "\n",
    "data_all = pd.merge(left=data_2016, right=data_2017, left_on=\"Country\", right_on=\"Country\", how=\"outer\")\n",
    "data_all.head()\n"
   ]
  },
  {
   "cell_type": "code",
   "execution_count": 55,
   "metadata": {},
   "outputs": [
    {
     "data": {
      "image/png": "[encoded data removed]",
      "text/plain": [
       "<Figure size 432x288 with 1 Axes>"
      ]
     },
     "metadata": {},
     "output_type": "display_data"
    }
   ],
   "source": [
    "data_all[\"Diff\"] = data_all[\"Score 2017\"] - data_all[\"Score 2016\"]\n",
    "pl = data_all[\"Diff\"].hist()"
   ]
  },
  {
   "cell_type": "markdown",
   "metadata": {},
   "source": [
    "### Úloha 8.2\n",
    "\n",
    "Načítajte dáta World Happiness Record 2017.\n",
    "\n",
    "* Vyberte do tabuľky iba základné faktory (`GDP`, `Family`, `Health`, `Freedom`, `Trust`, `Generosity`).\n",
    "* Normalizujte dáta do intervalu 0-1.\n",
    "* Pridajte do normalizovanej tabuľky názvy štátov a regiónov.\n",
    "* Uložte dáta do Excel súboru."
   ]
  },
  {
   "cell_type": "code",
   "execution_count": 65,
   "metadata": {},
   "outputs": [
    {
     "data": {
      "text/html": [
       "<div>\n",
       "<style scoped>\n",
       "    .dataframe tbody tr th:only-of-type {\n",
       "        vertical-align: middle;\n",
       "    }\n",
       "\n",
       "    .dataframe tbody tr th {\n",
       "        vertical-align: top;\n",
       "    }\n",
       "\n",
       "    .dataframe thead th {\n",
       "        text-align: right;\n",
       "    }\n",
       "</style>\n",
       "<table border=\"1\" class=\"dataframe\">\n",
       "  <thead>\n",
       "    <tr style=\"text-align: right;\">\n",
       "      <th></th>\n",
       "      <th>GDP</th>\n",
       "      <th>Family</th>\n",
       "      <th>Health</th>\n",
       "      <th>Freedom</th>\n",
       "      <th>Trust</th>\n",
       "      <th>Generosity</th>\n",
       "      <th>Region</th>\n",
       "    </tr>\n",
       "  </thead>\n",
       "  <tbody>\n",
       "    <tr>\n",
       "      <td>0</td>\n",
       "      <td>0.864065</td>\n",
       "      <td>0.952160</td>\n",
       "      <td>0.839045</td>\n",
       "      <td>0.965323</td>\n",
       "      <td>0.680505</td>\n",
       "      <td>0.431957</td>\n",
       "      <td>Western Europe</td>\n",
       "    </tr>\n",
       "    <tr>\n",
       "      <td>1</td>\n",
       "      <td>0.792394</td>\n",
       "      <td>0.963086</td>\n",
       "      <td>0.834726</td>\n",
       "      <td>0.951019</td>\n",
       "      <td>0.863156</td>\n",
       "      <td>0.423924</td>\n",
       "      <td>Western Europe</td>\n",
       "    </tr>\n",
       "    <tr>\n",
       "      <td>2</td>\n",
       "      <td>0.791458</td>\n",
       "      <td>1.000000</td>\n",
       "      <td>0.877892</td>\n",
       "      <td>0.952775</td>\n",
       "      <td>0.330657</td>\n",
       "      <td>0.567420</td>\n",
       "      <td>Western Europe</td>\n",
       "    </tr>\n",
       "    <tr>\n",
       "      <td>3</td>\n",
       "      <td>0.836545</td>\n",
       "      <td>0.941845</td>\n",
       "      <td>0.903779</td>\n",
       "      <td>0.942001</td>\n",
       "      <td>0.790440</td>\n",
       "      <td>0.346686</td>\n",
       "      <td>Western Europe</td>\n",
       "    </tr>\n",
       "    <tr>\n",
       "      <td>4</td>\n",
       "      <td>0.771648</td>\n",
       "      <td>0.956334</td>\n",
       "      <td>0.852200</td>\n",
       "      <td>0.938780</td>\n",
       "      <td>0.824047</td>\n",
       "      <td>0.292913</td>\n",
       "      <td>Western Europe</td>\n",
       "    </tr>\n",
       "  </tbody>\n",
       "</table>\n",
       "</div>"
      ],
      "text/plain": [
       "        GDP    Family    Health   Freedom     Trust  Generosity  \\\n",
       "0  0.864065  0.952160  0.839045  0.965323  0.680505    0.431957   \n",
       "1  0.792394  0.963086  0.834726  0.951019  0.863156    0.423924   \n",
       "2  0.791458  1.000000  0.877892  0.952775  0.330657    0.567420   \n",
       "3  0.836545  0.941845  0.903779  0.942001  0.790440    0.346686   \n",
       "4  0.771648  0.956334  0.852200  0.938780  0.824047    0.292913   \n",
       "\n",
       "           Region  \n",
       "0  Western Europe  \n",
       "1  Western Europe  \n",
       "2  Western Europe  \n",
       "3  Western Europe  \n",
       "4  Western Europe  "
      ]
     },
     "execution_count": 65,
     "metadata": {},
     "output_type": "execute_result"
    }
   ],
   "source": [
    "table = pd.read_csv(\"../data/2017.csv\")\n",
    "\n",
    "data_2017 = pd.read_csv(\"../data/2017.csv\")\n",
    "data_2017 = table[[\"GDP\", \"Family\", \"Health\", \"Freedom\", \"Trust\", \"Generosity\"]]\n",
    "min_max = MinMaxScaler()\n",
    "norm_array = min_max.fit_transform(data_2017)\n",
    "data_2017 = pd.DataFrame(norm_array, columns=data_2017.columns)\n",
    "data_2017[\"Region\"] = table[\"Region\"]\n",
    "\n",
    "data_2017.to_excel(\"../data/2017_uloha.xlsx\", index=False)\n",
    "data_2017.head()"
   ]
  },
  {
   "cell_type": "markdown",
   "metadata": {},
   "source": [
    "### Úloha 8.3\n",
    "\n",
    "Načítajte predspracované dáta z predchádzajúcej úlohy.\n",
    "\n",
    "* Vypočítajte dve hlavné komponenty.\n",
    "* Vizualizujte hlavné komponenty na X-Y grafe, ako farbu zobrazte región štátu.\n",
    "\n",
    "Čo viete povedať o centrálnej Európe? Koľko celkovej variancie pôvodných dát je zachovaných vo vizualizácii?"
   ]
  },
  {
   "cell_type": "code",
   "execution_count": 69,
   "metadata": {},
   "outputs": [
    {
     "data": {
      "image/png": "[encoded data removed]",
      "text/plain": [
       "<Figure size 432x288 with 1 Axes>"
      ]
     },
     "metadata": {},
     "output_type": "display_data"
    }
   ],
   "source": [
    "table = pd.read_excel(\"../data/2017_uloha.xlsx\")\n",
    "\n",
    "data = table[[\"GDP\", \"Family\", \"Health\", \"Freedom\", \"Trust\", \"Generosity\"]]\n",
    "pca = PCA(n_components=2)\n",
    "pca_array = pca.fit_transform(data)\n",
    "pca_data = pd.DataFrame(pca_array, columns=[\"komponent_1\", \"komponent_2\"])\n",
    "\n",
    "pca_data[\"Region\"] = table[\"Region\"]\n",
    "\n",
    "pl = sns.scatterplot(data=pca_data, x=\"komponent_1\", y=\"komponent_2\", hue=\"Region\", legend=False)"
   ]
  },
  {
   "cell_type": "code",
   "execution_count": null,
   "metadata": {},
   "outputs": [],
   "source": []
  }
 ],
 "metadata": {
  "kernelspec": {
   "display_name": "Python 3",
   "language": "python",
   "name": "python3"
  },
  "language_info": {
   "codemirror_mode": {
    "name": "ipython",
    "version": 3
   },
   "file_extension": ".py",
   "mimetype": "text/x-python",
   "name": "python",
   "nbconvert_exporter": "python",
   "pygments_lexer": "ipython3",
   "version": "3.7.4"
  }
 },
 "nbformat": 4,
 "nbformat_minor": 4
}
