{
 "cells": [
  {
   "cell_type": "markdown",
   "metadata": {},
   "source": [
    "## Automatizované hľadanie parametrov modelu \n",
    "\n",
    "V minulom cvičení sme si ukázali ako funguje ladenie modelu pomocou nastavovania hodnôt jeho parametrov. Tento proces môže prebiehať aj automatizovane - generovaním množstva modelov s rôznymi parametrami a ich vyhodnocovaním. Cieľom tejto úlohy je demonštrovať ako takýmto spôsobom hľadať najvhodnejšie paramertre klasifikačného modelu. V nasledujúcej úlohe demonštrujeme, ako takýmto spôsobom hľadať optimálne parametre pre model k-NN."
   ]
  },
  {
   "cell_type": "markdown",
   "metadata": {},
   "source": [
    "Rovnako ako v predchádzajúcej úlohe budeme pracovať s datasetom Titanic, ktorý sme predspracovali na cvičení č. 7. Pre účely ladenia parametrov ho predspracujeme rovnakým spôsobom (použitím rovnakých transformácií) ako v predošlom cvičení.\n",
    "\n",
    "Najprv teda naimportujeme všetky potrebné knižnice."
   ]
  },
  {
   "cell_type": "code",
   "execution_count": 26,
   "metadata": {},
   "outputs": [],
   "source": [
    "import pandas as pd\n",
    "import numpy as np\n",
    "import matplotlib.pyplot as plt\n",
    "\n",
    "%matplotlib inline"
   ]
  },
  {
   "cell_type": "markdown",
   "metadata": {},
   "source": [
    "Načítame teda do dátového rámca `titanic` predspracované dáta z datasetu Titanic, z cvičenia č. 7. Nachádzajú sa v súbore `../data/titanic-processed.csv`."
   ]
  },
  {
   "cell_type": "code",
   "execution_count": 27,
   "metadata": {},
   "outputs": [
    {
     "data": {
      "text/html": [
       "<div>\n",
       "<style scoped>\n",
       "    .dataframe tbody tr th:only-of-type {\n",
       "        vertical-align: middle;\n",
       "    }\n",
       "\n",
       "    .dataframe tbody tr th {\n",
       "        vertical-align: top;\n",
       "    }\n",
       "\n",
       "    .dataframe thead th {\n",
       "        text-align: right;\n",
       "    }\n",
       "</style>\n",
       "<table border=\"1\" class=\"dataframe\">\n",
       "  <thead>\n",
       "    <tr style=\"text-align: right;\">\n",
       "      <th></th>\n",
       "      <th>pclass</th>\n",
       "      <th>survived</th>\n",
       "      <th>sex</th>\n",
       "      <th>age</th>\n",
       "      <th>sibsp</th>\n",
       "      <th>parch</th>\n",
       "      <th>ticket</th>\n",
       "      <th>fare</th>\n",
       "      <th>cabin</th>\n",
       "      <th>embarked</th>\n",
       "      <th>family</th>\n",
       "      <th>has_family</th>\n",
       "      <th>fare_ordinal</th>\n",
       "      <th>title</th>\n",
       "      <th>title_short</th>\n",
       "      <th>age_ordinal</th>\n",
       "      <th>deck</th>\n",
       "    </tr>\n",
       "  </thead>\n",
       "  <tbody>\n",
       "    <tr>\n",
       "      <th>0</th>\n",
       "      <td>1</td>\n",
       "      <td>1</td>\n",
       "      <td>female</td>\n",
       "      <td>29.00</td>\n",
       "      <td>0</td>\n",
       "      <td>0</td>\n",
       "      <td>24160</td>\n",
       "      <td>211.3375</td>\n",
       "      <td>B5</td>\n",
       "      <td>Southampton</td>\n",
       "      <td>0</td>\n",
       "      <td>False</td>\n",
       "      <td>most expensive</td>\n",
       "      <td>Miss</td>\n",
       "      <td>Miss</td>\n",
       "      <td>adult</td>\n",
       "      <td>B</td>\n",
       "    </tr>\n",
       "    <tr>\n",
       "      <th>1</th>\n",
       "      <td>1</td>\n",
       "      <td>1</td>\n",
       "      <td>male</td>\n",
       "      <td>0.92</td>\n",
       "      <td>1</td>\n",
       "      <td>2</td>\n",
       "      <td>113781</td>\n",
       "      <td>151.5500</td>\n",
       "      <td>C22 C26</td>\n",
       "      <td>Southampton</td>\n",
       "      <td>3</td>\n",
       "      <td>True</td>\n",
       "      <td>most expensive</td>\n",
       "      <td>Master</td>\n",
       "      <td>rare title</td>\n",
       "      <td>child</td>\n",
       "      <td>C</td>\n",
       "    </tr>\n",
       "    <tr>\n",
       "      <th>2</th>\n",
       "      <td>1</td>\n",
       "      <td>0</td>\n",
       "      <td>female</td>\n",
       "      <td>2.00</td>\n",
       "      <td>1</td>\n",
       "      <td>2</td>\n",
       "      <td>113781</td>\n",
       "      <td>151.5500</td>\n",
       "      <td>C22 C26</td>\n",
       "      <td>Southampton</td>\n",
       "      <td>3</td>\n",
       "      <td>True</td>\n",
       "      <td>most expensive</td>\n",
       "      <td>Miss</td>\n",
       "      <td>Miss</td>\n",
       "      <td>child</td>\n",
       "      <td>C</td>\n",
       "    </tr>\n",
       "    <tr>\n",
       "      <th>3</th>\n",
       "      <td>1</td>\n",
       "      <td>0</td>\n",
       "      <td>male</td>\n",
       "      <td>30.00</td>\n",
       "      <td>1</td>\n",
       "      <td>2</td>\n",
       "      <td>113781</td>\n",
       "      <td>151.5500</td>\n",
       "      <td>C22 C26</td>\n",
       "      <td>Southampton</td>\n",
       "      <td>3</td>\n",
       "      <td>True</td>\n",
       "      <td>most expensive</td>\n",
       "      <td>Mr</td>\n",
       "      <td>Mr</td>\n",
       "      <td>adult</td>\n",
       "      <td>C</td>\n",
       "    </tr>\n",
       "    <tr>\n",
       "      <th>4</th>\n",
       "      <td>1</td>\n",
       "      <td>0</td>\n",
       "      <td>female</td>\n",
       "      <td>25.00</td>\n",
       "      <td>1</td>\n",
       "      <td>2</td>\n",
       "      <td>113781</td>\n",
       "      <td>151.5500</td>\n",
       "      <td>C22 C26</td>\n",
       "      <td>Southampton</td>\n",
       "      <td>3</td>\n",
       "      <td>True</td>\n",
       "      <td>most expensive</td>\n",
       "      <td>Mrs</td>\n",
       "      <td>Mrs</td>\n",
       "      <td>adult</td>\n",
       "      <td>C</td>\n",
       "    </tr>\n",
       "  </tbody>\n",
       "</table>\n",
       "</div>"
      ],
      "text/plain": [
       "   pclass  survived     sex    age  sibsp  parch  ticket      fare    cabin  \\\n",
       "0       1         1  female  29.00      0      0   24160  211.3375       B5   \n",
       "1       1         1    male   0.92      1      2  113781  151.5500  C22 C26   \n",
       "2       1         0  female   2.00      1      2  113781  151.5500  C22 C26   \n",
       "3       1         0    male  30.00      1      2  113781  151.5500  C22 C26   \n",
       "4       1         0  female  25.00      1      2  113781  151.5500  C22 C26   \n",
       "\n",
       "      embarked  family  has_family    fare_ordinal   title title_short  \\\n",
       "0  Southampton       0       False  most expensive    Miss        Miss   \n",
       "1  Southampton       3        True  most expensive  Master  rare title   \n",
       "2  Southampton       3        True  most expensive    Miss        Miss   \n",
       "3  Southampton       3        True  most expensive      Mr          Mr   \n",
       "4  Southampton       3        True  most expensive     Mrs         Mrs   \n",
       "\n",
       "  age_ordinal deck  \n",
       "0       adult    B  \n",
       "1       child    C  \n",
       "2       child    C  \n",
       "3       adult    C  \n",
       "4       adult    C  "
      ]
     },
     "execution_count": 27,
     "metadata": {},
     "output_type": "execute_result"
    }
   ],
   "source": [
    "titanic = pd.read_csv(\"../data/titanic-processed.csv\")\n",
    "titanic.head()"
   ]
  },
  {
   "cell_type": "markdown",
   "metadata": {},
   "source": [
    "Keďže budeme vytvárať rovnaký model (k-NN)ako v predošlých úlohách, niektoré z atribútov nepoužijeme (tie, ktoré obsahujú priveľa chýbajúcich hodnôt, resp. tie, ktoré obsahujú príliš veľké množstvo kategorických hodnôt), iné transformujeme pomocou One Hot Endoceru, alebo priradením číselných indexov."
   ]
  },
  {
   "cell_type": "code",
   "execution_count": 28,
   "metadata": {},
   "outputs": [],
   "source": [
    "titanic = titanic.drop(columns=['cabin','deck','ticket','title'])\n",
    "titanic['sex'] = titanic['sex'].map({\"male\": 0, \"female\": 1})\n",
    "titanic['has_family'] = titanic['has_family'].map({False: 0, True: 1})\n",
    "titanic['fare_ordinal'] = titanic['fare_ordinal'].map({\"normal\": 0, \"more expensive\": 1, \"most expensive\": 2})\n",
    "titanic['age_ordinal'] = titanic['age_ordinal'].map({\"child\": 0, \"young\": 1, \"adult\": 2, \"old\": 3}) \n",
    "titanic = pd.get_dummies(titanic, columns=['embarked', 'title_short'])"
   ]
  },
  {
   "cell_type": "code",
   "execution_count": 29,
   "metadata": {},
   "outputs": [
    {
     "data": {
      "text/html": [
       "<div>\n",
       "<style scoped>\n",
       "    .dataframe tbody tr th:only-of-type {\n",
       "        vertical-align: middle;\n",
       "    }\n",
       "\n",
       "    .dataframe tbody tr th {\n",
       "        vertical-align: top;\n",
       "    }\n",
       "\n",
       "    .dataframe thead th {\n",
       "        text-align: right;\n",
       "    }\n",
       "</style>\n",
       "<table border=\"1\" class=\"dataframe\">\n",
       "  <thead>\n",
       "    <tr style=\"text-align: right;\">\n",
       "      <th></th>\n",
       "      <th>pclass</th>\n",
       "      <th>survived</th>\n",
       "      <th>sex</th>\n",
       "      <th>age</th>\n",
       "      <th>sibsp</th>\n",
       "      <th>parch</th>\n",
       "      <th>fare</th>\n",
       "      <th>family</th>\n",
       "      <th>has_family</th>\n",
       "      <th>fare_ordinal</th>\n",
       "      <th>age_ordinal</th>\n",
       "      <th>embarked_Cherbourg</th>\n",
       "      <th>embarked_Queenstown</th>\n",
       "      <th>embarked_Southampton</th>\n",
       "      <th>title_short_Miss</th>\n",
       "      <th>title_short_Mr</th>\n",
       "      <th>title_short_Mrs</th>\n",
       "      <th>title_short_rare title</th>\n",
       "    </tr>\n",
       "  </thead>\n",
       "  <tbody>\n",
       "    <tr>\n",
       "      <th>0</th>\n",
       "      <td>1</td>\n",
       "      <td>1</td>\n",
       "      <td>1</td>\n",
       "      <td>29.00</td>\n",
       "      <td>0</td>\n",
       "      <td>0</td>\n",
       "      <td>211.3375</td>\n",
       "      <td>0</td>\n",
       "      <td>0</td>\n",
       "      <td>2</td>\n",
       "      <td>2</td>\n",
       "      <td>0</td>\n",
       "      <td>0</td>\n",
       "      <td>1</td>\n",
       "      <td>1</td>\n",
       "      <td>0</td>\n",
       "      <td>0</td>\n",
       "      <td>0</td>\n",
       "    </tr>\n",
       "    <tr>\n",
       "      <th>1</th>\n",
       "      <td>1</td>\n",
       "      <td>1</td>\n",
       "      <td>0</td>\n",
       "      <td>0.92</td>\n",
       "      <td>1</td>\n",
       "      <td>2</td>\n",
       "      <td>151.5500</td>\n",
       "      <td>3</td>\n",
       "      <td>1</td>\n",
       "      <td>2</td>\n",
       "      <td>0</td>\n",
       "      <td>0</td>\n",
       "      <td>0</td>\n",
       "      <td>1</td>\n",
       "      <td>0</td>\n",
       "      <td>0</td>\n",
       "      <td>0</td>\n",
       "      <td>1</td>\n",
       "    </tr>\n",
       "    <tr>\n",
       "      <th>2</th>\n",
       "      <td>1</td>\n",
       "      <td>0</td>\n",
       "      <td>1</td>\n",
       "      <td>2.00</td>\n",
       "      <td>1</td>\n",
       "      <td>2</td>\n",
       "      <td>151.5500</td>\n",
       "      <td>3</td>\n",
       "      <td>1</td>\n",
       "      <td>2</td>\n",
       "      <td>0</td>\n",
       "      <td>0</td>\n",
       "      <td>0</td>\n",
       "      <td>1</td>\n",
       "      <td>1</td>\n",
       "      <td>0</td>\n",
       "      <td>0</td>\n",
       "      <td>0</td>\n",
       "    </tr>\n",
       "    <tr>\n",
       "      <th>3</th>\n",
       "      <td>1</td>\n",
       "      <td>0</td>\n",
       "      <td>0</td>\n",
       "      <td>30.00</td>\n",
       "      <td>1</td>\n",
       "      <td>2</td>\n",
       "      <td>151.5500</td>\n",
       "      <td>3</td>\n",
       "      <td>1</td>\n",
       "      <td>2</td>\n",
       "      <td>2</td>\n",
       "      <td>0</td>\n",
       "      <td>0</td>\n",
       "      <td>1</td>\n",
       "      <td>0</td>\n",
       "      <td>1</td>\n",
       "      <td>0</td>\n",
       "      <td>0</td>\n",
       "    </tr>\n",
       "    <tr>\n",
       "      <th>4</th>\n",
       "      <td>1</td>\n",
       "      <td>0</td>\n",
       "      <td>1</td>\n",
       "      <td>25.00</td>\n",
       "      <td>1</td>\n",
       "      <td>2</td>\n",
       "      <td>151.5500</td>\n",
       "      <td>3</td>\n",
       "      <td>1</td>\n",
       "      <td>2</td>\n",
       "      <td>2</td>\n",
       "      <td>0</td>\n",
       "      <td>0</td>\n",
       "      <td>1</td>\n",
       "      <td>0</td>\n",
       "      <td>0</td>\n",
       "      <td>1</td>\n",
       "      <td>0</td>\n",
       "    </tr>\n",
       "  </tbody>\n",
       "</table>\n",
       "</div>"
      ],
      "text/plain": [
       "   pclass  survived  sex    age  sibsp  parch      fare  family  has_family  \\\n",
       "0       1         1    1  29.00      0      0  211.3375       0           0   \n",
       "1       1         1    0   0.92      1      2  151.5500       3           1   \n",
       "2       1         0    1   2.00      1      2  151.5500       3           1   \n",
       "3       1         0    0  30.00      1      2  151.5500       3           1   \n",
       "4       1         0    1  25.00      1      2  151.5500       3           1   \n",
       "\n",
       "   fare_ordinal  age_ordinal  embarked_Cherbourg  embarked_Queenstown  \\\n",
       "0             2            2                   0                    0   \n",
       "1             2            0                   0                    0   \n",
       "2             2            0                   0                    0   \n",
       "3             2            2                   0                    0   \n",
       "4             2            2                   0                    0   \n",
       "\n",
       "   embarked_Southampton  title_short_Miss  title_short_Mr  title_short_Mrs  \\\n",
       "0                     1                 1               0                0   \n",
       "1                     1                 0               0                0   \n",
       "2                     1                 1               0                0   \n",
       "3                     1                 0               1                0   \n",
       "4                     1                 0               0                1   \n",
       "\n",
       "   title_short_rare title  \n",
       "0                       0  \n",
       "1                       1  \n",
       "2                       0  \n",
       "3                       0  \n",
       "4                       0  "
      ]
     },
     "execution_count": 29,
     "metadata": {},
     "output_type": "execute_result"
    }
   ],
   "source": [
    "titanic.head()"
   ]
  },
  {
   "cell_type": "markdown",
   "metadata": {},
   "source": [
    "Keďže vytváram model k-NN, je vhodné dáta predspracovať aj normalizáciou. Použijeme teda znova `MinMaxScaler`, aby sme atribúty naškálovali na jednotnú mierku. "
   ]
  },
  {
   "cell_type": "code",
   "execution_count": 30,
   "metadata": {},
   "outputs": [
    {
     "name": "stderr",
     "output_type": "stream",
     "text": [
      "/anaconda3/lib/python3.7/site-packages/sklearn/preprocessing/data.py:334: DataConversionWarning: Data with input dtype uint8, int64, float64 were all converted to float64 by MinMaxScaler.\n",
      "  return self.partial_fit(X, y)\n"
     ]
    },
    {
     "data": {
      "text/html": [
       "<div>\n",
       "<style scoped>\n",
       "    .dataframe tbody tr th:only-of-type {\n",
       "        vertical-align: middle;\n",
       "    }\n",
       "\n",
       "    .dataframe tbody tr th {\n",
       "        vertical-align: top;\n",
       "    }\n",
       "\n",
       "    .dataframe thead th {\n",
       "        text-align: right;\n",
       "    }\n",
       "</style>\n",
       "<table border=\"1\" class=\"dataframe\">\n",
       "  <thead>\n",
       "    <tr style=\"text-align: right;\">\n",
       "      <th></th>\n",
       "      <th>pclass</th>\n",
       "      <th>survived</th>\n",
       "      <th>sex</th>\n",
       "      <th>age</th>\n",
       "      <th>sibsp</th>\n",
       "      <th>parch</th>\n",
       "      <th>fare</th>\n",
       "      <th>family</th>\n",
       "      <th>has_family</th>\n",
       "      <th>fare_ordinal</th>\n",
       "      <th>age_ordinal</th>\n",
       "      <th>embarked_Cherbourg</th>\n",
       "      <th>embarked_Queenstown</th>\n",
       "      <th>embarked_Southampton</th>\n",
       "      <th>title_short_Miss</th>\n",
       "      <th>title_short_Mr</th>\n",
       "      <th>title_short_Mrs</th>\n",
       "      <th>title_short_rare title</th>\n",
       "    </tr>\n",
       "  </thead>\n",
       "  <tbody>\n",
       "    <tr>\n",
       "      <th>0</th>\n",
       "      <td>0.0</td>\n",
       "      <td>1.0</td>\n",
       "      <td>1.0</td>\n",
       "      <td>0.361142</td>\n",
       "      <td>0.000</td>\n",
       "      <td>0.000000</td>\n",
       "      <td>0.412503</td>\n",
       "      <td>0.0</td>\n",
       "      <td>0.0</td>\n",
       "      <td>1.0</td>\n",
       "      <td>0.666667</td>\n",
       "      <td>0.0</td>\n",
       "      <td>0.0</td>\n",
       "      <td>1.0</td>\n",
       "      <td>1.0</td>\n",
       "      <td>0.0</td>\n",
       "      <td>0.0</td>\n",
       "      <td>0.0</td>\n",
       "    </tr>\n",
       "    <tr>\n",
       "      <th>1</th>\n",
       "      <td>0.0</td>\n",
       "      <td>1.0</td>\n",
       "      <td>0.0</td>\n",
       "      <td>0.009395</td>\n",
       "      <td>0.125</td>\n",
       "      <td>0.222222</td>\n",
       "      <td>0.295806</td>\n",
       "      <td>0.3</td>\n",
       "      <td>1.0</td>\n",
       "      <td>1.0</td>\n",
       "      <td>0.000000</td>\n",
       "      <td>0.0</td>\n",
       "      <td>0.0</td>\n",
       "      <td>1.0</td>\n",
       "      <td>0.0</td>\n",
       "      <td>0.0</td>\n",
       "      <td>0.0</td>\n",
       "      <td>1.0</td>\n",
       "    </tr>\n",
       "    <tr>\n",
       "      <th>2</th>\n",
       "      <td>0.0</td>\n",
       "      <td>0.0</td>\n",
       "      <td>1.0</td>\n",
       "      <td>0.022924</td>\n",
       "      <td>0.125</td>\n",
       "      <td>0.222222</td>\n",
       "      <td>0.295806</td>\n",
       "      <td>0.3</td>\n",
       "      <td>1.0</td>\n",
       "      <td>1.0</td>\n",
       "      <td>0.000000</td>\n",
       "      <td>0.0</td>\n",
       "      <td>0.0</td>\n",
       "      <td>1.0</td>\n",
       "      <td>1.0</td>\n",
       "      <td>0.0</td>\n",
       "      <td>0.0</td>\n",
       "      <td>0.0</td>\n",
       "    </tr>\n",
       "    <tr>\n",
       "      <th>3</th>\n",
       "      <td>0.0</td>\n",
       "      <td>0.0</td>\n",
       "      <td>0.0</td>\n",
       "      <td>0.373669</td>\n",
       "      <td>0.125</td>\n",
       "      <td>0.222222</td>\n",
       "      <td>0.295806</td>\n",
       "      <td>0.3</td>\n",
       "      <td>1.0</td>\n",
       "      <td>1.0</td>\n",
       "      <td>0.666667</td>\n",
       "      <td>0.0</td>\n",
       "      <td>0.0</td>\n",
       "      <td>1.0</td>\n",
       "      <td>0.0</td>\n",
       "      <td>1.0</td>\n",
       "      <td>0.0</td>\n",
       "      <td>0.0</td>\n",
       "    </tr>\n",
       "    <tr>\n",
       "      <th>4</th>\n",
       "      <td>0.0</td>\n",
       "      <td>0.0</td>\n",
       "      <td>1.0</td>\n",
       "      <td>0.311036</td>\n",
       "      <td>0.125</td>\n",
       "      <td>0.222222</td>\n",
       "      <td>0.295806</td>\n",
       "      <td>0.3</td>\n",
       "      <td>1.0</td>\n",
       "      <td>1.0</td>\n",
       "      <td>0.666667</td>\n",
       "      <td>0.0</td>\n",
       "      <td>0.0</td>\n",
       "      <td>1.0</td>\n",
       "      <td>0.0</td>\n",
       "      <td>0.0</td>\n",
       "      <td>1.0</td>\n",
       "      <td>0.0</td>\n",
       "    </tr>\n",
       "  </tbody>\n",
       "</table>\n",
       "</div>"
      ],
      "text/plain": [
       "   pclass  survived  sex       age  sibsp     parch      fare  family  \\\n",
       "0     0.0       1.0  1.0  0.361142  0.000  0.000000  0.412503     0.0   \n",
       "1     0.0       1.0  0.0  0.009395  0.125  0.222222  0.295806     0.3   \n",
       "2     0.0       0.0  1.0  0.022924  0.125  0.222222  0.295806     0.3   \n",
       "3     0.0       0.0  0.0  0.373669  0.125  0.222222  0.295806     0.3   \n",
       "4     0.0       0.0  1.0  0.311036  0.125  0.222222  0.295806     0.3   \n",
       "\n",
       "   has_family  fare_ordinal  age_ordinal  embarked_Cherbourg  \\\n",
       "0         0.0           1.0     0.666667                 0.0   \n",
       "1         1.0           1.0     0.000000                 0.0   \n",
       "2         1.0           1.0     0.000000                 0.0   \n",
       "3         1.0           1.0     0.666667                 0.0   \n",
       "4         1.0           1.0     0.666667                 0.0   \n",
       "\n",
       "   embarked_Queenstown  embarked_Southampton  title_short_Miss  \\\n",
       "0                  0.0                   1.0               1.0   \n",
       "1                  0.0                   1.0               0.0   \n",
       "2                  0.0                   1.0               1.0   \n",
       "3                  0.0                   1.0               0.0   \n",
       "4                  0.0                   1.0               0.0   \n",
       "\n",
       "   title_short_Mr  title_short_Mrs  title_short_rare title  \n",
       "0             0.0              0.0                     0.0  \n",
       "1             0.0              0.0                     1.0  \n",
       "2             0.0              0.0                     0.0  \n",
       "3             1.0              0.0                     0.0  \n",
       "4             0.0              1.0                     0.0  "
      ]
     },
     "execution_count": 30,
     "metadata": {},
     "output_type": "execute_result"
    }
   ],
   "source": [
    "from sklearn.preprocessing import MinMaxScaler \n",
    "\n",
    "scaler = MinMaxScaler() \n",
    "titanic = pd.DataFrame(scaler.fit_transform(titanic), index=titanic.index, columns=titanic.columns)\n",
    "titanic.head() "
   ]
  },
  {
   "cell_type": "markdown",
   "metadata": {},
   "source": [
    "Na takto predspracovanej množine už môžeme vyskúšať natrénovať klasifikačný model. Podobne ako v predchádzajúcom cvičení najprv rozdelíme dáta do matice príznakov a vektora hodnôt cieľového atribútu.\n",
    "Cieľovým atribútom v tejto úlohe je `survived` (vyjadruje, či daný pasažier nehodu prežil alebo nie). Cieľový atribút teda bude tvoriť vektor hodnôt `y` a zostávajúce stĺpce maticu príznakov `X`."
   ]
  },
  {
   "cell_type": "code",
   "execution_count": 31,
   "metadata": {},
   "outputs": [
    {
     "name": "stdout",
     "output_type": "stream",
     "text": [
      "(1309, 17)\n",
      "(1309,)\n"
     ]
    }
   ],
   "source": [
    "X_titanic = titanic.drop('survived', axis=1) # vytvoríme maticu príznakov - použijeme všetky stĺpce okrem cieľového atribútu a uložíme do X_titanic\n",
    "y_titanic = titanic['survived'] # vytvoríme vektor hodnôt cieľového atribútu ako stĺpec 'survived'\n",
    "\n",
    "print(X_titanic.shape) # pre kontrolu môžeme vypísať rozmery matice hodnôt a vektora cieľového atribútu\n",
    "print(y_titanic.shape)"
   ]
  },
  {
   "cell_type": "markdown",
   "metadata": {},
   "source": [
    "Teraz rozdelíme dáta do trénovacej a testovacej množiny. Na rozdelenie dát na trénovacie a testovacie použijeme funkciu `train_test_split()`, tesovacia množina bude v pomere 30/70 k trénovacej."
   ]
  },
  {
   "cell_type": "code",
   "execution_count": 32,
   "metadata": {},
   "outputs": [],
   "source": [
    "from sklearn.model_selection import train_test_split # importujeme funkciu train_test_split()\n",
    "X_train, X_test, y_train, y_test = train_test_split(X_titanic, y_titanic, test_size=0.3, random_state=1) # rozdelíme dataset do trénovacej a testovacej časti, tak že testovacia bude 30% z celkového datasetu"
   ]
  },
  {
   "cell_type": "markdown",
   "metadata": {},
   "source": [
    "Vytvoríme objekt k-NN modelu. Bez špecifických parametrov - tie tentoraz budeme hľadať pomocou funkcie GridSearch. "
   ]
  },
  {
   "cell_type": "code",
   "execution_count": 33,
   "metadata": {},
   "outputs": [],
   "source": [
    "from sklearn.neighbors import KNeighborsClassifier # importujeme knižnicu pre K-NN\n",
    "\n",
    "knn = KNeighborsClassifier() # inicializujeme klasifikátor"
   ]
  },
  {
   "cell_type": "markdown",
   "metadata": {},
   "source": [
    "### GridSearch pre hľadanie optimálnych nastavení algoritmov\n",
    "\n",
    "Pomocou funkcie `GridSearchCV` môžeme automatizovať hľadanie optimálnych parametrov algoritmov. Grid Search je prístup, ktorý automaticky vytvorí množinu modelov s rôznymi nastaveniami, ktoré validuje použitím krížovej validácie. \n",
    "\n",
    "#### Nastavenie parametrov Grid Search\n",
    "\n",
    "Funkcii Grid Search v Scikit-learn špecifikujeme niekoľko vstupných parametrov, ktoré potom definujú, akým spôsobom sa automatizované testovanie parametrov modelu uskutoční. \n",
    "\n",
    "V príklade nižšie vyskúšame nájsť pomocou Grid Search optimálnu hodnotu parmetra `k` pre model k-NN. Najprv definujeme rozsah hodnôt parametra `k`, ktoré chceme testovať. "
   ]
  },
  {
   "cell_type": "code",
   "execution_count": 34,
   "metadata": {},
   "outputs": [
    {
     "name": "stdout",
     "output_type": "stream",
     "text": [
      "[1, 2, 3, 4, 5, 6, 7, 8, 9, 10, 11, 12, 13, 14, 15, 16, 17, 18, 19, 20, 21, 22, 23, 24, 25, 26, 27, 28, 29, 30, 31, 32, 33, 34, 35, 36, 37, 38, 39, 40, 41, 42, 43, 44, 45, 46, 47, 48, 49]\n"
     ]
    }
   ],
   "source": [
    "from sklearn.model_selection import GridSearchCV # importujeme potrebné knižnice\n",
    "\n",
    "# definujeme hodnoty parametrov, ktoré sa budú prehľadávať\n",
    "# pre parameter k vygenerujeme rozsah 1 až 50\n",
    "\n",
    "k_range = list(range(1, 50))\n",
    "print(k_range)"
   ]
  },
  {
   "cell_type": "markdown",
   "metadata": {},
   "source": [
    "Vytvoríme pole parametrov modelu. Tu si musíme dať pozor - pole pre jednotlivé parametre musíme vytvoriť tak, aby názvy parametrov zodpovedali názvom parametrov jednotlivých modelov. \n",
    "\n",
    "V tomto príklade sme vygenerovali pole celých čísel, ktoré chceme použiť ako rôzne hodnoty pre testovanie parametra `k`. V k-NN modeli sa tento parameter nazýva `n_neighbors` (pri nastavovaní parametra klasifikátora k-NN sme modely vytvárali ako napr. `KNeighborsClassifier(n_neighbors = 3)`), preto namapujeme do premennej, ktorá bude uchovávať kolekciu parametrov(`param_grids`) pole týchto hodnôt, ktoré priradíme parametru `n_neighbors`."
   ]
  },
  {
   "cell_type": "code",
   "execution_count": 35,
   "metadata": {},
   "outputs": [
    {
     "name": "stdout",
     "output_type": "stream",
     "text": [
      "{'n_neighbors': [1, 2, 3, 4, 5, 6, 7, 8, 9, 10, 11, 12, 13, 14, 15, 16, 17, 18, 19, 20, 21, 22, 23, 24, 25, 26, 27, 28, 29, 30, 31, 32, 33, 34, 35, 36, 37, 38, 39, 40, 41, 42, 43, 44, 45, 46, 47, 48, 49]}\n"
     ]
    }
   ],
   "source": [
    "# vytvoríme tzv. parameter grid: namapujeme vygenerované hodnoty do poľa parametrov\n",
    "# v tomto prípade vytvoríme parameter n_neighbors, ktorému priradíme pole jeho skúmaných hodnôt\n",
    "\n",
    "param_grid = dict(n_neighbors=k_range)\n",
    "print(param_grid)"
   ]
  },
  {
   "cell_type": "markdown",
   "metadata": {},
   "source": [
    "Teraz, keď máme nastavené pole parametrov, ktoré chceme preskúmať, spustíme Grid Search. `GridSearchCV` má nasledovné parametre:\n",
    "* `estimator` - model, ktorý chceme trénovať (v našom prípade `knn`)\n",
    "* `param_grid` - kolekcia parametrov modelu a zoznamov ich hodnôt - pozor, pole parametrov musí byť kompatibilné s parametrami modelu!\n",
    "* `cv` - faktor kížovej validácie\n",
    "* `scoring` - metrika používaná na vyhodnotenie v krížovej validácii modelov (napr. `accuracy`, `precision`, `recall` atď.)"
   ]
  },
  {
   "cell_type": "code",
   "execution_count": 36,
   "metadata": {},
   "outputs": [
    {
     "name": "stderr",
     "output_type": "stream",
     "text": [
      "/anaconda3/lib/python3.7/site-packages/sklearn/model_selection/_search.py:841: DeprecationWarning: The default of the `iid` parameter will change from True to False in version 0.22 and will be removed in 0.24. This will change numeric results when test-set sizes are unequal.\n",
      "  DeprecationWarning)\n"
     ]
    },
    {
     "data": {
      "text/plain": [
       "GridSearchCV(cv=5, error_score='raise-deprecating',\n",
       "       estimator=KNeighborsClassifier(algorithm='auto', leaf_size=30, metric='minkowski',\n",
       "           metric_params=None, n_jobs=None, n_neighbors=5, p=2,\n",
       "           weights='uniform'),\n",
       "       fit_params=None, iid='warn', n_jobs=None,\n",
       "       param_grid={'n_neighbors': [1, 2, 3, 4, 5, 6, 7, 8, 9, 10, 11, 12, 13, 14, 15, 16, 17, 18, 19, 20, 21, 22, 23, 24, 25, 26, 27, 28, 29, 30, 31, 32, 33, 34, 35, 36, 37, 38, 39, 40, 41, 42, 43, 44, 45, 46, 47, 48, 49]},\n",
       "       pre_dispatch='2*n_jobs', refit=True, return_train_score='warn',\n",
       "       scoring='accuracy', verbose=0)"
      ]
     },
     "execution_count": 36,
     "metadata": {},
     "output_type": "execute_result"
    }
   ],
   "source": [
    "# aplikujeme Grid Search - nastavíme parametre:\n",
    "# model - knn\n",
    "# pole parametrov - param_grid\n",
    "# budeme používať 5-násobnú krížovú validáciu \n",
    "# na vyhodnotenie použijeme metriku accuracy\n",
    "\n",
    "grid = GridSearchCV(estimator=knn, param_grid=param_grid, cv=5, scoring='accuracy') # nastavíme parametre Grid Searchu\n",
    "grid.fit(X_train, y_train) # aplikujeme Grid Search na trénovacích dátach"
   ]
  },
  {
   "cell_type": "markdown",
   "metadata": {},
   "source": [
    "#### Vyhodnotenie výsledkov Grid Search\n",
    "\n",
    "Teraz máme natrénovanú množinu klasifikátorov s rôznymi nastaveniami a cez rôzne funkcie objektu `grid` sa môžeme pozrieť na konrétne výsledky modelov s rôznymi hodnotami vstupného parametra `k`.\n",
    "\n",
    "Pomocou `best_params_` sa môžeme pozrieť, ktorý model dosiahol najlepšie výsledky. "
   ]
  },
  {
   "cell_type": "code",
   "execution_count": 37,
   "metadata": {},
   "outputs": [
    {
     "name": "stdout",
     "output_type": "stream",
     "text": [
      "Najlepšie parametre sú:\n",
      "\n",
      "{'n_neighbors': 16}\n",
      "\n",
      "0.8122270742358079\n"
     ]
    }
   ],
   "source": [
    "print(\"Najlepšie parametre sú:\")\n",
    "print()\n",
    "print(grid.best_params_)\n",
    "print()\n",
    "print(grid.best_score_)"
   ]
  },
  {
   "cell_type": "markdown",
   "metadata": {},
   "source": [
    "Pomocou `cv_results_` vieme získať rôzne metriky:\n",
    "\n",
    "* `mean_test_score` - priemerné skóre (definované ako parameter Grid Search-u)  \n",
    "* `std_test_score` - štandardná odchýlka skóre     \n",
    "* `rank_test_score` - poradie v skóre na testovacích dátach    \n",
    "* `mean_train_score` - priemerné skóre (na trénovacích podmnožinách)   \n",
    "* `std_train_score` - štandardná odchýkla skóre na trénovacích dátach   \n",
    "* `mean_fit_time` - priemerný čas trénovania modelu     \n",
    "* `std_fit_time` - štandardná odchýlka času trénovania modelu       \n",
    "* `mean_score_time` - priemerný čas vyhodnocovania neznámych príkladov   \n",
    "* `std_score_time` - štandardná odchýlka času vyhodnocovania    \n",
    "* `params` - parametre modelov\n",
    "\n",
    "Môžeme sa teda pozrieť, aké rôzne metriky a informácie objekt `cv_results_` uchováva:"
   ]
  },
  {
   "cell_type": "code",
   "execution_count": 38,
   "metadata": {},
   "outputs": [
    {
     "data": {
      "text/plain": [
       "['mean_fit_time',\n",
       " 'mean_score_time',\n",
       " 'mean_test_score',\n",
       " 'mean_train_score',\n",
       " 'param_n_neighbors',\n",
       " 'params',\n",
       " 'rank_test_score',\n",
       " 'split0_test_score',\n",
       " 'split0_train_score',\n",
       " 'split1_test_score',\n",
       " 'split1_train_score',\n",
       " 'split2_test_score',\n",
       " 'split2_train_score',\n",
       " 'split3_test_score',\n",
       " 'split3_train_score',\n",
       " 'split4_test_score',\n",
       " 'split4_train_score',\n",
       " 'std_fit_time',\n",
       " 'std_score_time',\n",
       " 'std_test_score',\n",
       " 'std_train_score']"
      ]
     },
     "execution_count": 38,
     "metadata": {},
     "output_type": "execute_result"
    }
   ],
   "source": [
    "sorted(grid.cv_results_.keys())"
   ]
  },
  {
   "cell_type": "markdown",
   "metadata": {},
   "source": [
    "Môžeme sa teda pozrieť na konkrétne výsledky konkrétnych modelov."
   ]
  },
  {
   "cell_type": "code",
   "execution_count": 39,
   "metadata": {},
   "outputs": [
    {
     "name": "stdout",
     "output_type": "stream",
     "text": [
      "0.7947598253275109\n"
     ]
    }
   ],
   "source": [
    "print(grid.cv_results_[\"mean_test_score\"][24]) # výsledky pre konkrétnu metriku a pre konkrétny model"
   ]
  },
  {
   "cell_type": "markdown",
   "metadata": {},
   "source": [
    "Môžeme sa samozrejme pozrieť na to, aké výsledky dosiahli všetky modely naraz. Vypíšeme priemerné skóre krížovej validácie, jeho štandardnú odchýlku a parametre daného modelu. Aby bol výpis lepšie čitateľný, je potrebné výpis rozumne naformátovať. "
   ]
  },
  {
   "cell_type": "code",
   "execution_count": 40,
   "metadata": {},
   "outputs": [
    {
     "name": "stdout",
     "output_type": "stream",
     "text": [
      "Jednotlivé skóre pre jednotlivé hodnoty parametra k:\n",
      "\n",
      "0.755 (+/-0.025) pre hodnotu {'n_neighbors': 1}\n",
      "0.778 (+/-0.016) pre hodnotu {'n_neighbors': 2}\n",
      "0.789 (+/-0.020) pre hodnotu {'n_neighbors': 3}\n",
      "0.796 (+/-0.026) pre hodnotu {'n_neighbors': 4}\n",
      "0.793 (+/-0.028) pre hodnotu {'n_neighbors': 5}\n",
      "0.798 (+/-0.012) pre hodnotu {'n_neighbors': 6}\n",
      "0.785 (+/-0.021) pre hodnotu {'n_neighbors': 7}\n",
      "0.791 (+/-0.021) pre hodnotu {'n_neighbors': 8}\n",
      "0.793 (+/-0.027) pre hodnotu {'n_neighbors': 9}\n",
      "0.801 (+/-0.036) pre hodnotu {'n_neighbors': 10}\n",
      "0.802 (+/-0.028) pre hodnotu {'n_neighbors': 11}\n",
      "0.810 (+/-0.033) pre hodnotu {'n_neighbors': 12}\n",
      "0.800 (+/-0.030) pre hodnotu {'n_neighbors': 13}\n",
      "0.810 (+/-0.032) pre hodnotu {'n_neighbors': 14}\n",
      "0.801 (+/-0.028) pre hodnotu {'n_neighbors': 15}\n",
      "0.812 (+/-0.035) pre hodnotu {'n_neighbors': 16}\n",
      "0.802 (+/-0.041) pre hodnotu {'n_neighbors': 17}\n",
      "0.802 (+/-0.044) pre hodnotu {'n_neighbors': 18}\n",
      "0.802 (+/-0.042) pre hodnotu {'n_neighbors': 19}\n",
      "0.802 (+/-0.042) pre hodnotu {'n_neighbors': 20}\n",
      "0.798 (+/-0.046) pre hodnotu {'n_neighbors': 21}\n",
      "0.799 (+/-0.046) pre hodnotu {'n_neighbors': 22}\n",
      "0.796 (+/-0.043) pre hodnotu {'n_neighbors': 23}\n",
      "0.796 (+/-0.038) pre hodnotu {'n_neighbors': 24}\n",
      "0.795 (+/-0.039) pre hodnotu {'n_neighbors': 25}\n",
      "0.801 (+/-0.033) pre hodnotu {'n_neighbors': 26}\n",
      "0.800 (+/-0.039) pre hodnotu {'n_neighbors': 27}\n",
      "0.800 (+/-0.038) pre hodnotu {'n_neighbors': 28}\n",
      "0.796 (+/-0.038) pre hodnotu {'n_neighbors': 29}\n",
      "0.796 (+/-0.040) pre hodnotu {'n_neighbors': 30}\n",
      "0.797 (+/-0.042) pre hodnotu {'n_neighbors': 31}\n",
      "0.794 (+/-0.045) pre hodnotu {'n_neighbors': 32}\n",
      "0.788 (+/-0.046) pre hodnotu {'n_neighbors': 33}\n",
      "0.790 (+/-0.046) pre hodnotu {'n_neighbors': 34}\n",
      "0.791 (+/-0.043) pre hodnotu {'n_neighbors': 35}\n",
      "0.793 (+/-0.041) pre hodnotu {'n_neighbors': 36}\n",
      "0.793 (+/-0.042) pre hodnotu {'n_neighbors': 37}\n",
      "0.793 (+/-0.040) pre hodnotu {'n_neighbors': 38}\n",
      "0.790 (+/-0.041) pre hodnotu {'n_neighbors': 39}\n",
      "0.793 (+/-0.041) pre hodnotu {'n_neighbors': 40}\n",
      "0.787 (+/-0.037) pre hodnotu {'n_neighbors': 41}\n",
      "0.787 (+/-0.037) pre hodnotu {'n_neighbors': 42}\n",
      "0.786 (+/-0.038) pre hodnotu {'n_neighbors': 43}\n",
      "0.787 (+/-0.040) pre hodnotu {'n_neighbors': 44}\n",
      "0.785 (+/-0.037) pre hodnotu {'n_neighbors': 45}\n",
      "0.782 (+/-0.038) pre hodnotu {'n_neighbors': 46}\n",
      "0.783 (+/-0.038) pre hodnotu {'n_neighbors': 47}\n",
      "0.784 (+/-0.038) pre hodnotu {'n_neighbors': 48}\n",
      "0.782 (+/-0.041) pre hodnotu {'n_neighbors': 49}\n",
      "\n"
     ]
    }
   ],
   "source": [
    "# môžeme sa pozrieť na kompletné výsledky\n",
    "\n",
    "print(\"Jednotlivé skóre pre jednotlivé hodnoty parametra k:\")\n",
    "print()\n",
    "means = grid.cv_results_['mean_test_score'] # do premennej means priradíme výsledky priemerov testovacieho skóre\n",
    "stds = grid.cv_results_['std_test_score'] # do premennej stds priradíme zoznam štandardných odchýliek\n",
    "params = grid.cv_results_['params']\n",
    "\n",
    "for mean, std, params in zip(means, stds, params): # pre všetky záznamy vypíšeme naformátovaný výstup - zip mapuje rovnaké indexy viacerých kontajnerov/polí aby mohli byť používané ako jedna entita\n",
    "    print(\"%0.3f (+/-%0.03f) pre hodnotu %s\" % (mean, std, params)) # naformátujeme výpis\n",
    "print()"
   ]
  },
  {
   "cell_type": "code",
   "execution_count": 41,
   "metadata": {},
   "outputs": [
    {
     "name": "stdout",
     "output_type": "stream",
     "text": [
      "[0.75545852 0.77838428 0.78930131 0.79585153 0.79257642 0.79803493\n",
      " 0.7849345  0.79148472 0.79257642 0.80131004 0.80240175 0.81004367\n",
      " 0.80021834 0.81004367 0.80131004 0.81222707 0.80240175 0.80240175\n",
      " 0.80240175 0.80240175 0.79803493 0.79912664 0.79585153 0.79585153\n",
      " 0.79475983 0.80131004 0.80021834 0.80021834 0.79585153 0.79585153\n",
      " 0.79694323 0.79366812 0.78820961 0.79039301 0.79148472 0.79257642\n",
      " 0.79257642 0.79257642 0.79039301 0.79257642 0.7871179  0.7871179\n",
      " 0.7860262  0.7871179  0.7849345  0.78165939 0.78275109 0.78384279\n",
      " 0.78165939]\n"
     ]
    }
   ],
   "source": [
    "print(means)"
   ]
  },
  {
   "cell_type": "markdown",
   "metadata": {},
   "source": [
    "Môžeme sa (pomocou prístupu k jednotlivým prvkom výsledkov) pozrieť aj na konkrétne výsledky zvoleného modelu. Môžeme aj preskúmať jednotlivé čiastkové výsledky z krížovej validácie daného modelu. Po špecifikácii parametra teda môžeme špecifikovať aj index, pomocou ktorého pristúpime ku konkrétnemu modelu."
   ]
  },
  {
   "cell_type": "code",
   "execution_count": 42,
   "metadata": {},
   "outputs": [
    {
     "name": "stdout",
     "output_type": "stream",
     "text": [
      "Parameter k pre model 0:\n",
      "{'n_neighbors': 1}\n",
      "\n",
      "CV skóre pre model 0:\n",
      "0.75\n",
      "0.7989130434782609\n",
      "0.7336956521739131\n",
      "0.7637362637362637\n",
      "0.7307692307692307\n",
      "\n",
      "Priemerné skóre pre model 0\n",
      "0.7554585152838428\n"
     ]
    }
   ],
   "source": [
    "# môžeme preskúmať jednotlivé modely a ich konkrétne výsledky\n",
    "\n",
    "print('Parameter k pre model 0:')\n",
    "print(grid.cv_results_[\"params\"][0])\n",
    "\n",
    "# skóre modelu s indexom 0 (k=1) pre jednotlivé splity krížovej validácie\n",
    "print()\n",
    "print('CV skóre pre model 0:')\n",
    "print(grid.cv_results_[\"split0_test_score\"][0])\n",
    "print(grid.cv_results_[\"split1_test_score\"][0])\n",
    "print(grid.cv_results_[\"split2_test_score\"][0])\n",
    "print(grid.cv_results_[\"split3_test_score\"][0])\n",
    "print(grid.cv_results_[\"split4_test_score\"][0])\n",
    "\n",
    "# Priemerné skóre modelu s indexom 0\n",
    "print()\n",
    "print('Priemerné skóre pre model 0')\n",
    "print(grid.cv_results_[\"mean_test_score\"][0])"
   ]
  },
  {
   "cell_type": "markdown",
   "metadata": {},
   "source": [
    "#### Vizualizácia závislosti hodnoty parametra k na skóre\n",
    "\n",
    "Pre lepšie pochodpenie závislosti jedného parametra od výsledného skóre modelu môžeme vizualizovať. Vykreslenie závislosti presnosti a hodnoty parametra `k` a metriky Accuracy na testovacej množine potom v tomto prípade veľmi jednoducho vizualizujeme pomocou matplotlib. "
   ]
  },
  {
   "cell_type": "code",
   "execution_count": 43,
   "metadata": {},
   "outputs": [
    {
     "data": {
      "text/plain": [
       "Text(0, 0.5, ' Presnost modelu')"
      ]
     },
     "execution_count": 43,
     "metadata": {},
     "output_type": "execute_result"
    },
    {
     "data": {
      "image/png": "[encoded data removed]",
      "text/plain": [
       "<Figure size 432x288 with 1 Axes>"
      ]
     },
     "metadata": {
      "needs_background": "light"
     },
     "output_type": "display_data"
    }
   ],
   "source": [
    "# pomocou matplotlib vykreslíme závislosť hondôt parametra k a skóre teda medzi týmito dvoma veličinami:\n",
    "\n",
    "# YOUR CODE HERE\n",
    "plt.plot(k_range, means)\n",
    "plt.xlabel('Hodnota parametra K')\n",
    "plt.ylabel(' Presnost modelu')"
   ]
  },
  {
   "cell_type": "markdown",
   "metadata": {},
   "source": [
    "### Simultánne hľadanie viacerých parametrov\n",
    "\n",
    "Metóde Grid Search vieme špecifikovať viacero parametrov súčasne. Algoritmus tak bude hľadať všetky kombinácie definovaných parametrov. \n",
    "\n",
    "Skúsime hľadať kombináciu aj ostatných parametrov. Pre algoritmus k-NN vieme nastavovať ešte parametre špecifikujúce váhovanie vzdialenosti alebo použitú metriku. Vytvoríme teda ďalšie zoznam hodnôt parametra `weights` a zoznam, ktorý zodpovedá hodnotám parametra `metric`."
   ]
  },
  {
   "cell_type": "code",
   "execution_count": 44,
   "metadata": {},
   "outputs": [],
   "source": [
    "# vytvorte zoznamy parametrov pre váhy a metriky algoritmu k-NN\n",
    "\n",
    "weights_range = ['uniform','distance']  \n",
    "metric_range = ['euclidean', 'manhattan'] "
   ]
  },
  {
   "cell_type": "markdown",
   "metadata": {},
   "source": [
    "Oba z týchto zoznamov potom pridáme spolu so zoznamom `k_range` do zoznamu parametrov. \n",
    "\n",
    "Parameter algoritmu kNN, ktorý špecifikuje váhovanie sa nazýva `weights` a parameter definujúci metriky sa nazýva `metric`. Priradíme im zoznamy ich hodnôt, ktoré chceme preskúmať. Do kolekcie `param_grid` teda vložíme polia hodnôt pre jednotlivé parametre."
   ]
  },
  {
   "cell_type": "code",
   "execution_count": 45,
   "metadata": {},
   "outputs": [
    {
     "name": "stdout",
     "output_type": "stream",
     "text": [
      "{'n_neighbors': [1, 2, 3, 4, 5, 6, 7, 8, 9, 10, 11, 12, 13, 14, 15, 16, 17, 18, 19, 20, 21, 22, 23, 24, 25, 26, 27, 28, 29, 30, 31, 32, 33, 34, 35, 36, 37, 38, 39, 40, 41, 42, 43, 44, 45, 46, 47, 48, 49], 'weights': ['uniform', 'distance'], 'metric': ['euclidean', 'manhattan']}\n"
     ]
    }
   ],
   "source": [
    "# vytvorte pole parametrov pre definované parametre a ich rozsahy\n",
    "\n",
    "param_grid = dict(n_neighbors=k_range, weights=weights_range, metric=metric_range)\n",
    "print(param_grid)"
   ]
  },
  {
   "cell_type": "markdown",
   "metadata": {},
   "source": [
    "Teraz rovnakým spôsobom spustíme Grid Search - špecifikujeme model, zoznam parametrov, parameter nastavenia krížovej validácie a definujeme metriku vyhodnocovania. "
   ]
  },
  {
   "cell_type": "code",
   "execution_count": 46,
   "metadata": {},
   "outputs": [
    {
     "name": "stderr",
     "output_type": "stream",
     "text": [
      "/anaconda3/lib/python3.7/site-packages/sklearn/model_selection/_search.py:841: DeprecationWarning: The default of the `iid` parameter will change from True to False in version 0.22 and will be removed in 0.24. This will change numeric results when test-set sizes are unequal.\n",
      "  DeprecationWarning)\n"
     ]
    },
    {
     "data": {
      "text/plain": [
       "GridSearchCV(cv=5, error_score='raise-deprecating',\n",
       "       estimator=KNeighborsClassifier(algorithm='auto', leaf_size=30, metric='minkowski',\n",
       "           metric_params=None, n_jobs=None, n_neighbors=5, p=2,\n",
       "           weights='uniform'),\n",
       "       fit_params=None, iid='warn', n_jobs=None,\n",
       "       param_grid={'n_neighbors': [1, 2, 3, 4, 5, 6, 7, 8, 9, 10, 11, 12, 13, 14, 15, 16, 17, 18, 19, 20, 21, 22, 23, 24, 25, 26, 27, 28, 29, 30, 31, 32, 33, 34, 35, 36, 37, 38, 39, 40, 41, 42, 43, 44, 45, 46, 47, 48, 49], 'weights': ['uniform', 'distance'], 'metric': ['euclidean', 'manhattan']},\n",
       "       pre_dispatch='2*n_jobs', refit=True, return_train_score='warn',\n",
       "       scoring='accuracy', verbose=0)"
      ]
     },
     "execution_count": 46,
     "metadata": {},
     "output_type": "execute_result"
    }
   ],
   "source": [
    "grid = GridSearchCV(estimator=knn, param_grid=param_grid, cv=5, scoring='accuracy') # nastavíme parametre Grid Searchu\n",
    "grid.fit(X_train, y_train) # naučíme Grid Search na trénovacích dátach"
   ]
  },
  {
   "cell_type": "markdown",
   "metadata": {},
   "source": [
    "Rovnakým spôsobom môžeme opäť pristúpiť k výsledkom. \n",
    "\n",
    "Pozrime sa na najlepší z modelov a jeho výsledok a potom rovnakým spôsobom ako v predošlej úlohe vypíšeme kompletné výsledky."
   ]
  },
  {
   "cell_type": "code",
   "execution_count": 47,
   "metadata": {},
   "outputs": [
    {
     "name": "stdout",
     "output_type": "stream",
     "text": [
      "Najlepšia kombinácia parametrov je:\n",
      "{'metric': 'manhattan', 'n_neighbors': 20, 'weights': 'uniform'}\n",
      "\n",
      "A hodnota presnosti modelu pri tejto kombinacii je:\n",
      "0.8144104803493449\n"
     ]
    }
   ],
   "source": [
    "print(\"Najlepšia kombinácia parametrov je:\")\n",
    "print(grid.best_params_)\n",
    "print()\n",
    "print(\"A hodnota presnosti modelu pri tejto kombinacii je:\")\n",
    "print(grid.best_score_)"
   ]
  },
  {
   "cell_type": "code",
   "execution_count": 48,
   "metadata": {},
   "outputs": [
    {
     "name": "stdout",
     "output_type": "stream",
     "text": [
      "Kompletné výsledky:\n",
      "\n",
      "0.755 pre hodnotu {'metric': 'euclidean', 'n_neighbors': 1, 'weights': 'uniform'}\n",
      "0.755 pre hodnotu {'metric': 'euclidean', 'n_neighbors': 1, 'weights': 'distance'}\n",
      "0.778 pre hodnotu {'metric': 'euclidean', 'n_neighbors': 2, 'weights': 'uniform'}\n",
      "0.754 pre hodnotu {'metric': 'euclidean', 'n_neighbors': 2, 'weights': 'distance'}\n",
      "0.789 pre hodnotu {'metric': 'euclidean', 'n_neighbors': 3, 'weights': 'uniform'}\n",
      "0.766 pre hodnotu {'metric': 'euclidean', 'n_neighbors': 3, 'weights': 'distance'}\n",
      "0.796 pre hodnotu {'metric': 'euclidean', 'n_neighbors': 4, 'weights': 'uniform'}\n",
      "0.766 pre hodnotu {'metric': 'euclidean', 'n_neighbors': 4, 'weights': 'distance'}\n",
      "0.793 pre hodnotu {'metric': 'euclidean', 'n_neighbors': 5, 'weights': 'uniform'}\n",
      "0.776 pre hodnotu {'metric': 'euclidean', 'n_neighbors': 5, 'weights': 'distance'}\n",
      "0.798 pre hodnotu {'metric': 'euclidean', 'n_neighbors': 6, 'weights': 'uniform'}\n",
      "0.779 pre hodnotu {'metric': 'euclidean', 'n_neighbors': 6, 'weights': 'distance'}\n",
      "0.785 pre hodnotu {'metric': 'euclidean', 'n_neighbors': 7, 'weights': 'uniform'}\n",
      "0.781 pre hodnotu {'metric': 'euclidean', 'n_neighbors': 7, 'weights': 'distance'}\n",
      "0.791 pre hodnotu {'metric': 'euclidean', 'n_neighbors': 8, 'weights': 'uniform'}\n",
      "0.781 pre hodnotu {'metric': 'euclidean', 'n_neighbors': 8, 'weights': 'distance'}\n",
      "0.793 pre hodnotu {'metric': 'euclidean', 'n_neighbors': 9, 'weights': 'uniform'}\n",
      "0.779 pre hodnotu {'metric': 'euclidean', 'n_neighbors': 9, 'weights': 'distance'}\n",
      "0.801 pre hodnotu {'metric': 'euclidean', 'n_neighbors': 10, 'weights': 'uniform'}\n",
      "0.788 pre hodnotu {'metric': 'euclidean', 'n_neighbors': 10, 'weights': 'distance'}\n",
      "0.802 pre hodnotu {'metric': 'euclidean', 'n_neighbors': 11, 'weights': 'uniform'}\n",
      "0.786 pre hodnotu {'metric': 'euclidean', 'n_neighbors': 11, 'weights': 'distance'}\n",
      "0.810 pre hodnotu {'metric': 'euclidean', 'n_neighbors': 12, 'weights': 'uniform'}\n",
      "0.790 pre hodnotu {'metric': 'euclidean', 'n_neighbors': 12, 'weights': 'distance'}\n",
      "0.800 pre hodnotu {'metric': 'euclidean', 'n_neighbors': 13, 'weights': 'uniform'}\n",
      "0.788 pre hodnotu {'metric': 'euclidean', 'n_neighbors': 13, 'weights': 'distance'}\n",
      "0.810 pre hodnotu {'metric': 'euclidean', 'n_neighbors': 14, 'weights': 'uniform'}\n",
      "0.788 pre hodnotu {'metric': 'euclidean', 'n_neighbors': 14, 'weights': 'distance'}\n",
      "0.801 pre hodnotu {'metric': 'euclidean', 'n_neighbors': 15, 'weights': 'uniform'}\n",
      "0.789 pre hodnotu {'metric': 'euclidean', 'n_neighbors': 15, 'weights': 'distance'}\n",
      "0.812 pre hodnotu {'metric': 'euclidean', 'n_neighbors': 16, 'weights': 'uniform'}\n",
      "0.791 pre hodnotu {'metric': 'euclidean', 'n_neighbors': 16, 'weights': 'distance'}\n",
      "0.802 pre hodnotu {'metric': 'euclidean', 'n_neighbors': 17, 'weights': 'uniform'}\n",
      "0.790 pre hodnotu {'metric': 'euclidean', 'n_neighbors': 17, 'weights': 'distance'}\n",
      "0.802 pre hodnotu {'metric': 'euclidean', 'n_neighbors': 18, 'weights': 'uniform'}\n",
      "0.791 pre hodnotu {'metric': 'euclidean', 'n_neighbors': 18, 'weights': 'distance'}\n",
      "0.802 pre hodnotu {'metric': 'euclidean', 'n_neighbors': 19, 'weights': 'uniform'}\n",
      "0.790 pre hodnotu {'metric': 'euclidean', 'n_neighbors': 19, 'weights': 'distance'}\n",
      "0.802 pre hodnotu {'metric': 'euclidean', 'n_neighbors': 20, 'weights': 'uniform'}\n",
      "0.790 pre hodnotu {'metric': 'euclidean', 'n_neighbors': 20, 'weights': 'distance'}\n",
      "0.798 pre hodnotu {'metric': 'euclidean', 'n_neighbors': 21, 'weights': 'uniform'}\n",
      "0.793 pre hodnotu {'metric': 'euclidean', 'n_neighbors': 21, 'weights': 'distance'}\n",
      "0.799 pre hodnotu {'metric': 'euclidean', 'n_neighbors': 22, 'weights': 'uniform'}\n",
      "0.791 pre hodnotu {'metric': 'euclidean', 'n_neighbors': 22, 'weights': 'distance'}\n",
      "0.796 pre hodnotu {'metric': 'euclidean', 'n_neighbors': 23, 'weights': 'uniform'}\n",
      "0.790 pre hodnotu {'metric': 'euclidean', 'n_neighbors': 23, 'weights': 'distance'}\n",
      "0.796 pre hodnotu {'metric': 'euclidean', 'n_neighbors': 24, 'weights': 'uniform'}\n",
      "0.791 pre hodnotu {'metric': 'euclidean', 'n_neighbors': 24, 'weights': 'distance'}\n",
      "0.795 pre hodnotu {'metric': 'euclidean', 'n_neighbors': 25, 'weights': 'uniform'}\n",
      "0.790 pre hodnotu {'metric': 'euclidean', 'n_neighbors': 25, 'weights': 'distance'}\n",
      "0.801 pre hodnotu {'metric': 'euclidean', 'n_neighbors': 26, 'weights': 'uniform'}\n",
      "0.793 pre hodnotu {'metric': 'euclidean', 'n_neighbors': 26, 'weights': 'distance'}\n",
      "0.800 pre hodnotu {'metric': 'euclidean', 'n_neighbors': 27, 'weights': 'uniform'}\n",
      "0.793 pre hodnotu {'metric': 'euclidean', 'n_neighbors': 27, 'weights': 'distance'}\n",
      "0.800 pre hodnotu {'metric': 'euclidean', 'n_neighbors': 28, 'weights': 'uniform'}\n",
      "0.791 pre hodnotu {'metric': 'euclidean', 'n_neighbors': 28, 'weights': 'distance'}\n",
      "0.796 pre hodnotu {'metric': 'euclidean', 'n_neighbors': 29, 'weights': 'uniform'}\n",
      "0.789 pre hodnotu {'metric': 'euclidean', 'n_neighbors': 29, 'weights': 'distance'}\n",
      "0.796 pre hodnotu {'metric': 'euclidean', 'n_neighbors': 30, 'weights': 'uniform'}\n",
      "0.790 pre hodnotu {'metric': 'euclidean', 'n_neighbors': 30, 'weights': 'distance'}\n",
      "0.797 pre hodnotu {'metric': 'euclidean', 'n_neighbors': 31, 'weights': 'uniform'}\n",
      "0.793 pre hodnotu {'metric': 'euclidean', 'n_neighbors': 31, 'weights': 'distance'}\n",
      "0.794 pre hodnotu {'metric': 'euclidean', 'n_neighbors': 32, 'weights': 'uniform'}\n",
      "0.791 pre hodnotu {'metric': 'euclidean', 'n_neighbors': 32, 'weights': 'distance'}\n",
      "0.788 pre hodnotu {'metric': 'euclidean', 'n_neighbors': 33, 'weights': 'uniform'}\n",
      "0.793 pre hodnotu {'metric': 'euclidean', 'n_neighbors': 33, 'weights': 'distance'}\n",
      "0.790 pre hodnotu {'metric': 'euclidean', 'n_neighbors': 34, 'weights': 'uniform'}\n",
      "0.795 pre hodnotu {'metric': 'euclidean', 'n_neighbors': 34, 'weights': 'distance'}\n",
      "0.791 pre hodnotu {'metric': 'euclidean', 'n_neighbors': 35, 'weights': 'uniform'}\n",
      "0.794 pre hodnotu {'metric': 'euclidean', 'n_neighbors': 35, 'weights': 'distance'}\n",
      "0.793 pre hodnotu {'metric': 'euclidean', 'n_neighbors': 36, 'weights': 'uniform'}\n",
      "0.794 pre hodnotu {'metric': 'euclidean', 'n_neighbors': 36, 'weights': 'distance'}\n",
      "0.793 pre hodnotu {'metric': 'euclidean', 'n_neighbors': 37, 'weights': 'uniform'}\n",
      "0.795 pre hodnotu {'metric': 'euclidean', 'n_neighbors': 37, 'weights': 'distance'}\n",
      "0.793 pre hodnotu {'metric': 'euclidean', 'n_neighbors': 38, 'weights': 'uniform'}\n",
      "0.793 pre hodnotu {'metric': 'euclidean', 'n_neighbors': 38, 'weights': 'distance'}\n",
      "0.790 pre hodnotu {'metric': 'euclidean', 'n_neighbors': 39, 'weights': 'uniform'}\n",
      "0.793 pre hodnotu {'metric': 'euclidean', 'n_neighbors': 39, 'weights': 'distance'}\n",
      "0.793 pre hodnotu {'metric': 'euclidean', 'n_neighbors': 40, 'weights': 'uniform'}\n",
      "0.793 pre hodnotu {'metric': 'euclidean', 'n_neighbors': 40, 'weights': 'distance'}\n",
      "0.787 pre hodnotu {'metric': 'euclidean', 'n_neighbors': 41, 'weights': 'uniform'}\n",
      "0.791 pre hodnotu {'metric': 'euclidean', 'n_neighbors': 41, 'weights': 'distance'}\n",
      "0.787 pre hodnotu {'metric': 'euclidean', 'n_neighbors': 42, 'weights': 'uniform'}\n",
      "0.791 pre hodnotu {'metric': 'euclidean', 'n_neighbors': 42, 'weights': 'distance'}\n",
      "0.786 pre hodnotu {'metric': 'euclidean', 'n_neighbors': 43, 'weights': 'uniform'}\n",
      "0.791 pre hodnotu {'metric': 'euclidean', 'n_neighbors': 43, 'weights': 'distance'}\n",
      "0.787 pre hodnotu {'metric': 'euclidean', 'n_neighbors': 44, 'weights': 'uniform'}\n",
      "0.790 pre hodnotu {'metric': 'euclidean', 'n_neighbors': 44, 'weights': 'distance'}\n",
      "0.785 pre hodnotu {'metric': 'euclidean', 'n_neighbors': 45, 'weights': 'uniform'}\n",
      "0.790 pre hodnotu {'metric': 'euclidean', 'n_neighbors': 45, 'weights': 'distance'}\n",
      "0.782 pre hodnotu {'metric': 'euclidean', 'n_neighbors': 46, 'weights': 'uniform'}\n",
      "0.789 pre hodnotu {'metric': 'euclidean', 'n_neighbors': 46, 'weights': 'distance'}\n",
      "0.783 pre hodnotu {'metric': 'euclidean', 'n_neighbors': 47, 'weights': 'uniform'}\n",
      "0.791 pre hodnotu {'metric': 'euclidean', 'n_neighbors': 47, 'weights': 'distance'}\n",
      "0.784 pre hodnotu {'metric': 'euclidean', 'n_neighbors': 48, 'weights': 'uniform'}\n",
      "0.789 pre hodnotu {'metric': 'euclidean', 'n_neighbors': 48, 'weights': 'distance'}\n",
      "0.782 pre hodnotu {'metric': 'euclidean', 'n_neighbors': 49, 'weights': 'uniform'}\n",
      "0.791 pre hodnotu {'metric': 'euclidean', 'n_neighbors': 49, 'weights': 'distance'}\n",
      "0.751 pre hodnotu {'metric': 'manhattan', 'n_neighbors': 1, 'weights': 'uniform'}\n",
      "0.751 pre hodnotu {'metric': 'manhattan', 'n_neighbors': 1, 'weights': 'distance'}\n",
      "0.781 pre hodnotu {'metric': 'manhattan', 'n_neighbors': 2, 'weights': 'uniform'}\n",
      "0.750 pre hodnotu {'metric': 'manhattan', 'n_neighbors': 2, 'weights': 'distance'}\n",
      "0.790 pre hodnotu {'metric': 'manhattan', 'n_neighbors': 3, 'weights': 'uniform'}\n",
      "0.765 pre hodnotu {'metric': 'manhattan', 'n_neighbors': 3, 'weights': 'distance'}\n",
      "0.793 pre hodnotu {'metric': 'manhattan', 'n_neighbors': 4, 'weights': 'uniform'}\n",
      "0.769 pre hodnotu {'metric': 'manhattan', 'n_neighbors': 4, 'weights': 'distance'}\n",
      "0.784 pre hodnotu {'metric': 'manhattan', 'n_neighbors': 5, 'weights': 'uniform'}\n",
      "0.767 pre hodnotu {'metric': 'manhattan', 'n_neighbors': 5, 'weights': 'distance'}\n",
      "0.789 pre hodnotu {'metric': 'manhattan', 'n_neighbors': 6, 'weights': 'uniform'}\n",
      "0.776 pre hodnotu {'metric': 'manhattan', 'n_neighbors': 6, 'weights': 'distance'}\n",
      "0.786 pre hodnotu {'metric': 'manhattan', 'n_neighbors': 7, 'weights': 'uniform'}\n",
      "0.777 pre hodnotu {'metric': 'manhattan', 'n_neighbors': 7, 'weights': 'distance'}\n",
      "0.791 pre hodnotu {'metric': 'manhattan', 'n_neighbors': 8, 'weights': 'uniform'}\n",
      "0.777 pre hodnotu {'metric': 'manhattan', 'n_neighbors': 8, 'weights': 'distance'}\n",
      "0.789 pre hodnotu {'metric': 'manhattan', 'n_neighbors': 9, 'weights': 'uniform'}\n",
      "0.781 pre hodnotu {'metric': 'manhattan', 'n_neighbors': 9, 'weights': 'distance'}\n",
      "0.803 pre hodnotu {'metric': 'manhattan', 'n_neighbors': 10, 'weights': 'uniform'}\n",
      "0.782 pre hodnotu {'metric': 'manhattan', 'n_neighbors': 10, 'weights': 'distance'}\n",
      "0.803 pre hodnotu {'metric': 'manhattan', 'n_neighbors': 11, 'weights': 'uniform'}\n",
      "0.789 pre hodnotu {'metric': 'manhattan', 'n_neighbors': 11, 'weights': 'distance'}\n",
      "0.811 pre hodnotu {'metric': 'manhattan', 'n_neighbors': 12, 'weights': 'uniform'}\n",
      "0.784 pre hodnotu {'metric': 'manhattan', 'n_neighbors': 12, 'weights': 'distance'}\n",
      "0.807 pre hodnotu {'metric': 'manhattan', 'n_neighbors': 13, 'weights': 'uniform'}\n",
      "0.787 pre hodnotu {'metric': 'manhattan', 'n_neighbors': 13, 'weights': 'distance'}\n",
      "0.811 pre hodnotu {'metric': 'manhattan', 'n_neighbors': 14, 'weights': 'uniform'}\n",
      "0.784 pre hodnotu {'metric': 'manhattan', 'n_neighbors': 14, 'weights': 'distance'}\n",
      "0.809 pre hodnotu {'metric': 'manhattan', 'n_neighbors': 15, 'weights': 'uniform'}\n",
      "0.787 pre hodnotu {'metric': 'manhattan', 'n_neighbors': 15, 'weights': 'distance'}\n",
      "0.809 pre hodnotu {'metric': 'manhattan', 'n_neighbors': 16, 'weights': 'uniform'}\n",
      "0.786 pre hodnotu {'metric': 'manhattan', 'n_neighbors': 16, 'weights': 'distance'}\n",
      "0.803 pre hodnotu {'metric': 'manhattan', 'n_neighbors': 17, 'weights': 'uniform'}\n",
      "0.789 pre hodnotu {'metric': 'manhattan', 'n_neighbors': 17, 'weights': 'distance'}\n",
      "0.810 pre hodnotu {'metric': 'manhattan', 'n_neighbors': 18, 'weights': 'uniform'}\n",
      "0.791 pre hodnotu {'metric': 'manhattan', 'n_neighbors': 18, 'weights': 'distance'}\n",
      "0.812 pre hodnotu {'metric': 'manhattan', 'n_neighbors': 19, 'weights': 'uniform'}\n",
      "0.793 pre hodnotu {'metric': 'manhattan', 'n_neighbors': 19, 'weights': 'distance'}\n",
      "0.814 pre hodnotu {'metric': 'manhattan', 'n_neighbors': 20, 'weights': 'uniform'}\n",
      "0.793 pre hodnotu {'metric': 'manhattan', 'n_neighbors': 20, 'weights': 'distance'}\n",
      "0.808 pre hodnotu {'metric': 'manhattan', 'n_neighbors': 21, 'weights': 'uniform'}\n",
      "0.791 pre hodnotu {'metric': 'manhattan', 'n_neighbors': 21, 'weights': 'distance'}\n",
      "0.809 pre hodnotu {'metric': 'manhattan', 'n_neighbors': 22, 'weights': 'uniform'}\n",
      "0.790 pre hodnotu {'metric': 'manhattan', 'n_neighbors': 22, 'weights': 'distance'}\n",
      "0.803 pre hodnotu {'metric': 'manhattan', 'n_neighbors': 23, 'weights': 'uniform'}\n",
      "0.790 pre hodnotu {'metric': 'manhattan', 'n_neighbors': 23, 'weights': 'distance'}\n",
      "0.802 pre hodnotu {'metric': 'manhattan', 'n_neighbors': 24, 'weights': 'uniform'}\n",
      "0.791 pre hodnotu {'metric': 'manhattan', 'n_neighbors': 24, 'weights': 'distance'}\n",
      "0.802 pre hodnotu {'metric': 'manhattan', 'n_neighbors': 25, 'weights': 'uniform'}\n",
      "0.788 pre hodnotu {'metric': 'manhattan', 'n_neighbors': 25, 'weights': 'distance'}\n",
      "0.803 pre hodnotu {'metric': 'manhattan', 'n_neighbors': 26, 'weights': 'uniform'}\n",
      "0.794 pre hodnotu {'metric': 'manhattan', 'n_neighbors': 26, 'weights': 'distance'}\n",
      "0.800 pre hodnotu {'metric': 'manhattan', 'n_neighbors': 27, 'weights': 'uniform'}\n",
      "0.791 pre hodnotu {'metric': 'manhattan', 'n_neighbors': 27, 'weights': 'distance'}\n",
      "0.807 pre hodnotu {'metric': 'manhattan', 'n_neighbors': 28, 'weights': 'uniform'}\n",
      "0.790 pre hodnotu {'metric': 'manhattan', 'n_neighbors': 28, 'weights': 'distance'}\n",
      "0.799 pre hodnotu {'metric': 'manhattan', 'n_neighbors': 29, 'weights': 'uniform'}\n",
      "0.788 pre hodnotu {'metric': 'manhattan', 'n_neighbors': 29, 'weights': 'distance'}\n",
      "0.802 pre hodnotu {'metric': 'manhattan', 'n_neighbors': 30, 'weights': 'uniform'}\n",
      "0.790 pre hodnotu {'metric': 'manhattan', 'n_neighbors': 30, 'weights': 'distance'}\n",
      "0.798 pre hodnotu {'metric': 'manhattan', 'n_neighbors': 31, 'weights': 'uniform'}\n",
      "0.789 pre hodnotu {'metric': 'manhattan', 'n_neighbors': 31, 'weights': 'distance'}\n",
      "0.799 pre hodnotu {'metric': 'manhattan', 'n_neighbors': 32, 'weights': 'uniform'}\n",
      "0.789 pre hodnotu {'metric': 'manhattan', 'n_neighbors': 32, 'weights': 'distance'}\n",
      "0.798 pre hodnotu {'metric': 'manhattan', 'n_neighbors': 33, 'weights': 'uniform'}\n",
      "0.789 pre hodnotu {'metric': 'manhattan', 'n_neighbors': 33, 'weights': 'distance'}\n",
      "0.795 pre hodnotu {'metric': 'manhattan', 'n_neighbors': 34, 'weights': 'uniform'}\n",
      "0.787 pre hodnotu {'metric': 'manhattan', 'n_neighbors': 34, 'weights': 'distance'}\n",
      "0.793 pre hodnotu {'metric': 'manhattan', 'n_neighbors': 35, 'weights': 'uniform'}\n",
      "0.787 pre hodnotu {'metric': 'manhattan', 'n_neighbors': 35, 'weights': 'distance'}\n",
      "0.794 pre hodnotu {'metric': 'manhattan', 'n_neighbors': 36, 'weights': 'uniform'}\n",
      "0.787 pre hodnotu {'metric': 'manhattan', 'n_neighbors': 36, 'weights': 'distance'}\n",
      "0.794 pre hodnotu {'metric': 'manhattan', 'n_neighbors': 37, 'weights': 'uniform'}\n",
      "0.789 pre hodnotu {'metric': 'manhattan', 'n_neighbors': 37, 'weights': 'distance'}\n",
      "0.791 pre hodnotu {'metric': 'manhattan', 'n_neighbors': 38, 'weights': 'uniform'}\n",
      "0.787 pre hodnotu {'metric': 'manhattan', 'n_neighbors': 38, 'weights': 'distance'}\n",
      "0.793 pre hodnotu {'metric': 'manhattan', 'n_neighbors': 39, 'weights': 'uniform'}\n",
      "0.789 pre hodnotu {'metric': 'manhattan', 'n_neighbors': 39, 'weights': 'distance'}\n",
      "0.791 pre hodnotu {'metric': 'manhattan', 'n_neighbors': 40, 'weights': 'uniform'}\n",
      "0.789 pre hodnotu {'metric': 'manhattan', 'n_neighbors': 40, 'weights': 'distance'}\n",
      "0.790 pre hodnotu {'metric': 'manhattan', 'n_neighbors': 41, 'weights': 'uniform'}\n",
      "0.790 pre hodnotu {'metric': 'manhattan', 'n_neighbors': 41, 'weights': 'distance'}\n",
      "0.788 pre hodnotu {'metric': 'manhattan', 'n_neighbors': 42, 'weights': 'uniform'}\n",
      "0.789 pre hodnotu {'metric': 'manhattan', 'n_neighbors': 42, 'weights': 'distance'}\n",
      "0.786 pre hodnotu {'metric': 'manhattan', 'n_neighbors': 43, 'weights': 'uniform'}\n",
      "0.790 pre hodnotu {'metric': 'manhattan', 'n_neighbors': 43, 'weights': 'distance'}\n",
      "0.790 pre hodnotu {'metric': 'manhattan', 'n_neighbors': 44, 'weights': 'uniform'}\n",
      "0.791 pre hodnotu {'metric': 'manhattan', 'n_neighbors': 44, 'weights': 'distance'}\n",
      "0.791 pre hodnotu {'metric': 'manhattan', 'n_neighbors': 45, 'weights': 'uniform'}\n",
      "0.789 pre hodnotu {'metric': 'manhattan', 'n_neighbors': 45, 'weights': 'distance'}\n",
      "0.793 pre hodnotu {'metric': 'manhattan', 'n_neighbors': 46, 'weights': 'uniform'}\n",
      "0.790 pre hodnotu {'metric': 'manhattan', 'n_neighbors': 46, 'weights': 'distance'}\n",
      "0.789 pre hodnotu {'metric': 'manhattan', 'n_neighbors': 47, 'weights': 'uniform'}\n",
      "0.791 pre hodnotu {'metric': 'manhattan', 'n_neighbors': 47, 'weights': 'distance'}\n",
      "0.788 pre hodnotu {'metric': 'manhattan', 'n_neighbors': 48, 'weights': 'uniform'}\n",
      "0.790 pre hodnotu {'metric': 'manhattan', 'n_neighbors': 48, 'weights': 'distance'}\n",
      "0.786 pre hodnotu {'metric': 'manhattan', 'n_neighbors': 49, 'weights': 'uniform'}\n",
      "0.790 pre hodnotu {'metric': 'manhattan', 'n_neighbors': 49, 'weights': 'distance'}\n",
      "\n"
     ]
    }
   ],
   "source": [
    "print(\"Kompletné výsledky:\")\n",
    "print()\n",
    "means = grid.cv_results_['mean_test_score']\n",
    "for mean, params in zip(means, grid.cv_results_['params']):\n",
    "    print(\"%0.3f pre hodnotu %r\" % (mean, params))\n",
    "print()"
   ]
  },
  {
   "cell_type": "markdown",
   "metadata": {},
   "source": [
    "Použitím `GridSearchCV` sme natrénovali modely s rôznymi parametrami na trénovacej množine. Zároveň, použitím krížovej validácie sme ich na trénovacej množine aj validovali. Identifikovali sme tak najlepšie parametre modelu. Ak chceme model otestovať na testovacej množine, aby sme tak overili jeho kvalitu alebo aby sme model mohli použiť pre predikciu nových, neoznačených príkladov, musíme model s identifikovanými parametrami opäť natrénovať. Potom ho môžeme otestovať na testovacej množine a vypísať kontigenčnú tabuľku klasifikácie. \n",
    "\n",
    "### Úloha 12.1\n",
    "\n",
    "Natrénujte model s najlepšími parametrami na trénovacej množine a otestujte na testovacej. Vypíšte kontigenčnú tabuľku výsledkov (confusion matrix). "
   ]
  },
  {
   "cell_type": "code",
   "execution_count": 25,
   "metadata": {},
   "outputs": [
    {
     "name": "stdout",
     "output_type": "stream",
     "text": [
      "[[215  21]\n",
      " [ 60  97]]\n"
     ]
    }
   ],
   "source": [
    "# YOUR CODE HERE\n",
    "\n",
    "model = KNeighborsClassifier(n_neighbors=20, weights='uniform', metric='manhattan')\n",
    "model.fit(X_train, y_train)\n",
    "\n",
    "y_model = model.predict(X_test)\n",
    "\n",
    "from sklearn.metrics import confusion_matrix\n",
    "\n",
    "cm = confusion_matrix(y_test, y_model)\n",
    "print(cm)"
   ]
  },
  {
   "cell_type": "code",
   "execution_count": null,
   "metadata": {},
   "outputs": [],
   "source": []
  }
 ],
 "metadata": {
  "kernelspec": {
   "display_name": "Python 3",
   "language": "python",
   "name": "python3"
  },
  "language_info": {
   "codemirror_mode": {
    "name": "ipython",
    "version": 3
   },
   "file_extension": ".py",
   "mimetype": "text/x-python",
   "name": "python",
   "nbconvert_exporter": "python",
   "pygments_lexer": "ipython3",
   "version": "3.7.1"
  }
 },
 "nbformat": 4,
 "nbformat_minor": 4
}
